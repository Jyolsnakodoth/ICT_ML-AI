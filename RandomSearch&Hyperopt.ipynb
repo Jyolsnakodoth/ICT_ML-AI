{
  "nbformat": 4,
  "nbformat_minor": 0,
  "metadata": {
    "colab": {
      "provenance": [],
      "collapsed_sections": []
    },
    "kernelspec": {
      "name": "python3",
      "display_name": "Python 3"
    },
    "language_info": {
      "name": "python"
    }
  },
  "cells": [
    {
      "cell_type": "markdown",
      "source": [
        "# **Assignment 05 - Random search and hyperopt**"
      ],
      "metadata": {
        "id": "5wkulM3xjDcb"
      }
    },
    {
      "cell_type": "markdown",
      "source": [
        "## Importing Libraries"
      ],
      "metadata": {
        "id": "XAXskAmGv4_x"
      }
    },
    {
      "cell_type": "code",
      "execution_count": 1,
      "metadata": {
        "id": "ugR4YeomtFZp"
      },
      "outputs": [],
      "source": [
        "import pandas as pd\n",
        "import numpy as np"
      ]
    },
    {
      "cell_type": "markdown",
      "source": [
        "## Loading titanic.csv file"
      ],
      "metadata": {
        "id": "MDaGjtZfv1zl"
      }
    },
    {
      "cell_type": "code",
      "source": [
        "df = pd.read_csv('titanic.csv')"
      ],
      "metadata": {
        "id": "cX181E5xu5z1"
      },
      "execution_count": 2,
      "outputs": []
    },
    {
      "cell_type": "code",
      "source": [
        "df.head()"
      ],
      "metadata": {
        "colab": {
          "base_uri": "https://localhost:8080/",
          "height": 424
        },
        "id": "7qupLSE2xdLo",
        "outputId": "4460ddea-7e33-480d-a78c-dac1d936cf3a"
      },
      "execution_count": 3,
      "outputs": [
        {
          "output_type": "execute_result",
          "data": {
            "text/plain": [
              "   PassengerId  Survived  Pclass  \\\n",
              "0            1         0       3   \n",
              "1            2         1       1   \n",
              "2            3         1       3   \n",
              "3            4         1       1   \n",
              "4            5         0       3   \n",
              "\n",
              "                                                Name     Sex   Age  SibSp  \\\n",
              "0                            Braund, Mr. Owen Harris    male  22.0      1   \n",
              "1  Cumings, Mrs. John Bradley (Florence Briggs Th...  female  38.0      1   \n",
              "2                             Heikkinen, Miss. Laina  female  26.0      0   \n",
              "3       Futrelle, Mrs. Jacques Heath (Lily May Peel)  female  35.0      1   \n",
              "4                           Allen, Mr. William Henry    male  35.0      0   \n",
              "\n",
              "   Parch            Ticket     Fare Cabin Embarked  \n",
              "0      0         A/5 21171   7.2500   NaN        S  \n",
              "1      0          PC 17599  71.2833   C85        C  \n",
              "2      0  STON/O2. 3101282   7.9250   NaN        S  \n",
              "3      0            113803  53.1000  C123        S  \n",
              "4      0            373450   8.0500   NaN        S  "
            ],
            "text/html": [
              "\n",
              "  <div id=\"df-5a4ce58b-150c-4001-8b2c-fc53da12576e\">\n",
              "    <div class=\"colab-df-container\">\n",
              "      <div>\n",
              "<style scoped>\n",
              "    .dataframe tbody tr th:only-of-type {\n",
              "        vertical-align: middle;\n",
              "    }\n",
              "\n",
              "    .dataframe tbody tr th {\n",
              "        vertical-align: top;\n",
              "    }\n",
              "\n",
              "    .dataframe thead th {\n",
              "        text-align: right;\n",
              "    }\n",
              "</style>\n",
              "<table border=\"1\" class=\"dataframe\">\n",
              "  <thead>\n",
              "    <tr style=\"text-align: right;\">\n",
              "      <th></th>\n",
              "      <th>PassengerId</th>\n",
              "      <th>Survived</th>\n",
              "      <th>Pclass</th>\n",
              "      <th>Name</th>\n",
              "      <th>Sex</th>\n",
              "      <th>Age</th>\n",
              "      <th>SibSp</th>\n",
              "      <th>Parch</th>\n",
              "      <th>Ticket</th>\n",
              "      <th>Fare</th>\n",
              "      <th>Cabin</th>\n",
              "      <th>Embarked</th>\n",
              "    </tr>\n",
              "  </thead>\n",
              "  <tbody>\n",
              "    <tr>\n",
              "      <th>0</th>\n",
              "      <td>1</td>\n",
              "      <td>0</td>\n",
              "      <td>3</td>\n",
              "      <td>Braund, Mr. Owen Harris</td>\n",
              "      <td>male</td>\n",
              "      <td>22.0</td>\n",
              "      <td>1</td>\n",
              "      <td>0</td>\n",
              "      <td>A/5 21171</td>\n",
              "      <td>7.2500</td>\n",
              "      <td>NaN</td>\n",
              "      <td>S</td>\n",
              "    </tr>\n",
              "    <tr>\n",
              "      <th>1</th>\n",
              "      <td>2</td>\n",
              "      <td>1</td>\n",
              "      <td>1</td>\n",
              "      <td>Cumings, Mrs. John Bradley (Florence Briggs Th...</td>\n",
              "      <td>female</td>\n",
              "      <td>38.0</td>\n",
              "      <td>1</td>\n",
              "      <td>0</td>\n",
              "      <td>PC 17599</td>\n",
              "      <td>71.2833</td>\n",
              "      <td>C85</td>\n",
              "      <td>C</td>\n",
              "    </tr>\n",
              "    <tr>\n",
              "      <th>2</th>\n",
              "      <td>3</td>\n",
              "      <td>1</td>\n",
              "      <td>3</td>\n",
              "      <td>Heikkinen, Miss. Laina</td>\n",
              "      <td>female</td>\n",
              "      <td>26.0</td>\n",
              "      <td>0</td>\n",
              "      <td>0</td>\n",
              "      <td>STON/O2. 3101282</td>\n",
              "      <td>7.9250</td>\n",
              "      <td>NaN</td>\n",
              "      <td>S</td>\n",
              "    </tr>\n",
              "    <tr>\n",
              "      <th>3</th>\n",
              "      <td>4</td>\n",
              "      <td>1</td>\n",
              "      <td>1</td>\n",
              "      <td>Futrelle, Mrs. Jacques Heath (Lily May Peel)</td>\n",
              "      <td>female</td>\n",
              "      <td>35.0</td>\n",
              "      <td>1</td>\n",
              "      <td>0</td>\n",
              "      <td>113803</td>\n",
              "      <td>53.1000</td>\n",
              "      <td>C123</td>\n",
              "      <td>S</td>\n",
              "    </tr>\n",
              "    <tr>\n",
              "      <th>4</th>\n",
              "      <td>5</td>\n",
              "      <td>0</td>\n",
              "      <td>3</td>\n",
              "      <td>Allen, Mr. William Henry</td>\n",
              "      <td>male</td>\n",
              "      <td>35.0</td>\n",
              "      <td>0</td>\n",
              "      <td>0</td>\n",
              "      <td>373450</td>\n",
              "      <td>8.0500</td>\n",
              "      <td>NaN</td>\n",
              "      <td>S</td>\n",
              "    </tr>\n",
              "  </tbody>\n",
              "</table>\n",
              "</div>\n",
              "      <button class=\"colab-df-convert\" onclick=\"convertToInteractive('df-5a4ce58b-150c-4001-8b2c-fc53da12576e')\"\n",
              "              title=\"Convert this dataframe to an interactive table.\"\n",
              "              style=\"display:none;\">\n",
              "        \n",
              "  <svg xmlns=\"http://www.w3.org/2000/svg\" height=\"24px\"viewBox=\"0 0 24 24\"\n",
              "       width=\"24px\">\n",
              "    <path d=\"M0 0h24v24H0V0z\" fill=\"none\"/>\n",
              "    <path d=\"M18.56 5.44l.94 2.06.94-2.06 2.06-.94-2.06-.94-.94-2.06-.94 2.06-2.06.94zm-11 1L8.5 8.5l.94-2.06 2.06-.94-2.06-.94L8.5 2.5l-.94 2.06-2.06.94zm10 10l.94 2.06.94-2.06 2.06-.94-2.06-.94-.94-2.06-.94 2.06-2.06.94z\"/><path d=\"M17.41 7.96l-1.37-1.37c-.4-.4-.92-.59-1.43-.59-.52 0-1.04.2-1.43.59L10.3 9.45l-7.72 7.72c-.78.78-.78 2.05 0 2.83L4 21.41c.39.39.9.59 1.41.59.51 0 1.02-.2 1.41-.59l7.78-7.78 2.81-2.81c.8-.78.8-2.07 0-2.86zM5.41 20L4 18.59l7.72-7.72 1.47 1.35L5.41 20z\"/>\n",
              "  </svg>\n",
              "      </button>\n",
              "      \n",
              "  <style>\n",
              "    .colab-df-container {\n",
              "      display:flex;\n",
              "      flex-wrap:wrap;\n",
              "      gap: 12px;\n",
              "    }\n",
              "\n",
              "    .colab-df-convert {\n",
              "      background-color: #E8F0FE;\n",
              "      border: none;\n",
              "      border-radius: 50%;\n",
              "      cursor: pointer;\n",
              "      display: none;\n",
              "      fill: #1967D2;\n",
              "      height: 32px;\n",
              "      padding: 0 0 0 0;\n",
              "      width: 32px;\n",
              "    }\n",
              "\n",
              "    .colab-df-convert:hover {\n",
              "      background-color: #E2EBFA;\n",
              "      box-shadow: 0px 1px 2px rgba(60, 64, 67, 0.3), 0px 1px 3px 1px rgba(60, 64, 67, 0.15);\n",
              "      fill: #174EA6;\n",
              "    }\n",
              "\n",
              "    [theme=dark] .colab-df-convert {\n",
              "      background-color: #3B4455;\n",
              "      fill: #D2E3FC;\n",
              "    }\n",
              "\n",
              "    [theme=dark] .colab-df-convert:hover {\n",
              "      background-color: #434B5C;\n",
              "      box-shadow: 0px 1px 3px 1px rgba(0, 0, 0, 0.15);\n",
              "      filter: drop-shadow(0px 1px 2px rgba(0, 0, 0, 0.3));\n",
              "      fill: #FFFFFF;\n",
              "    }\n",
              "  </style>\n",
              "\n",
              "      <script>\n",
              "        const buttonEl =\n",
              "          document.querySelector('#df-5a4ce58b-150c-4001-8b2c-fc53da12576e button.colab-df-convert');\n",
              "        buttonEl.style.display =\n",
              "          google.colab.kernel.accessAllowed ? 'block' : 'none';\n",
              "\n",
              "        async function convertToInteractive(key) {\n",
              "          const element = document.querySelector('#df-5a4ce58b-150c-4001-8b2c-fc53da12576e');\n",
              "          const dataTable =\n",
              "            await google.colab.kernel.invokeFunction('convertToInteractive',\n",
              "                                                     [key], {});\n",
              "          if (!dataTable) return;\n",
              "\n",
              "          const docLinkHtml = 'Like what you see? Visit the ' +\n",
              "            '<a target=\"_blank\" href=https://colab.research.google.com/notebooks/data_table.ipynb>data table notebook</a>'\n",
              "            + ' to learn more about interactive tables.';\n",
              "          element.innerHTML = '';\n",
              "          dataTable['output_type'] = 'display_data';\n",
              "          await google.colab.output.renderOutput(dataTable, element);\n",
              "          const docLink = document.createElement('div');\n",
              "          docLink.innerHTML = docLinkHtml;\n",
              "          element.appendChild(docLink);\n",
              "        }\n",
              "      </script>\n",
              "    </div>\n",
              "  </div>\n",
              "  "
            ]
          },
          "metadata": {},
          "execution_count": 3
        }
      ]
    },
    {
      "cell_type": "code",
      "source": [
        "df.info()"
      ],
      "metadata": {
        "colab": {
          "base_uri": "https://localhost:8080/"
        },
        "id": "Dcku89Lxxgjb",
        "outputId": "4deffe1b-b253-458e-9f07-3abf772880ac"
      },
      "execution_count": 4,
      "outputs": [
        {
          "output_type": "stream",
          "name": "stdout",
          "text": [
            "<class 'pandas.core.frame.DataFrame'>\n",
            "RangeIndex: 891 entries, 0 to 890\n",
            "Data columns (total 12 columns):\n",
            " #   Column       Non-Null Count  Dtype  \n",
            "---  ------       --------------  -----  \n",
            " 0   PassengerId  891 non-null    int64  \n",
            " 1   Survived     891 non-null    int64  \n",
            " 2   Pclass       891 non-null    int64  \n",
            " 3   Name         891 non-null    object \n",
            " 4   Sex          891 non-null    object \n",
            " 5   Age          714 non-null    float64\n",
            " 6   SibSp        891 non-null    int64  \n",
            " 7   Parch        891 non-null    int64  \n",
            " 8   Ticket       891 non-null    object \n",
            " 9   Fare         891 non-null    float64\n",
            " 10  Cabin        204 non-null    object \n",
            " 11  Embarked     889 non-null    object \n",
            "dtypes: float64(2), int64(5), object(5)\n",
            "memory usage: 83.7+ KB\n"
          ]
        }
      ]
    },
    {
      "cell_type": "markdown",
      "source": [
        "## Selecting 'Pclass','SibSp','Parch','Fare' columns as data and ‘Survived’ column as label "
      ],
      "metadata": {
        "id": "aM2qp3EPvQtk"
      }
    },
    {
      "cell_type": "code",
      "source": [
        "X = df[['Pclass','SibSp','Parch','Fare']]\n",
        "y = df.Survived"
      ],
      "metadata": {
        "id": "Lto0O1-zvMM5"
      },
      "execution_count": 5,
      "outputs": []
    },
    {
      "cell_type": "code",
      "source": [
        "X.info()"
      ],
      "metadata": {
        "colab": {
          "base_uri": "https://localhost:8080/"
        },
        "id": "wtcYem_evMoW",
        "outputId": "f5d61c46-3645-4b5a-e254-04538eddf6d1"
      },
      "execution_count": 6,
      "outputs": [
        {
          "output_type": "stream",
          "name": "stdout",
          "text": [
            "<class 'pandas.core.frame.DataFrame'>\n",
            "RangeIndex: 891 entries, 0 to 890\n",
            "Data columns (total 4 columns):\n",
            " #   Column  Non-Null Count  Dtype  \n",
            "---  ------  --------------  -----  \n",
            " 0   Pclass  891 non-null    int64  \n",
            " 1   SibSp   891 non-null    int64  \n",
            " 2   Parch   891 non-null    int64  \n",
            " 3   Fare    891 non-null    float64\n",
            "dtypes: float64(1), int64(3)\n",
            "memory usage: 28.0 KB\n"
          ]
        }
      ]
    },
    {
      "cell_type": "code",
      "source": [
        "pd.DataFrame(y).info()"
      ],
      "metadata": {
        "colab": {
          "base_uri": "https://localhost:8080/"
        },
        "id": "V8Yuou-TxnOh",
        "outputId": "831c36ba-887f-4fa7-ac3b-207f983e3ab5"
      },
      "execution_count": 7,
      "outputs": [
        {
          "output_type": "stream",
          "name": "stdout",
          "text": [
            "<class 'pandas.core.frame.DataFrame'>\n",
            "RangeIndex: 891 entries, 0 to 890\n",
            "Data columns (total 1 columns):\n",
            " #   Column    Non-Null Count  Dtype\n",
            "---  ------    --------------  -----\n",
            " 0   Survived  891 non-null    int64\n",
            "dtypes: int64(1)\n",
            "memory usage: 7.1 KB\n"
          ]
        }
      ]
    },
    {
      "cell_type": "code",
      "source": [
        "y.value_counts()"
      ],
      "metadata": {
        "colab": {
          "base_uri": "https://localhost:8080/"
        },
        "id": "mW7w69RQxthm",
        "outputId": "f33a54d0-3d53-4385-f984-a7b2c15251e6"
      },
      "execution_count": 8,
      "outputs": [
        {
          "output_type": "execute_result",
          "data": {
            "text/plain": [
              "0    549\n",
              "1    342\n",
              "Name: Survived, dtype: int64"
            ]
          },
          "metadata": {},
          "execution_count": 8
        }
      ]
    },
    {
      "cell_type": "code",
      "source": [
        "from sklearn.model_selection import train_test_split\n",
        "X_train, X_test, y_train, y_test = train_test_split(X, y, test_size=0.25)"
      ],
      "metadata": {
        "id": "SRDlwHR2y0y0"
      },
      "execution_count": 9,
      "outputs": []
    },
    {
      "cell_type": "markdown",
      "source": [
        "## **Applying SVM to classify the data** **bold text**"
      ],
      "metadata": {
        "id": "ykhTvllhytMT"
      }
    },
    {
      "cell_type": "code",
      "source": [
        "from sklearn.svm import SVC\n",
        "svm_classifier = SVC(kernel = 'linear', random_state = 0)\n",
        "svm_classifier.fit(X_train, y_train)\n",
        "y_pred = svm_classifier.predict(X_test)"
      ],
      "metadata": {
        "id": "hDRalP10x6Ya"
      },
      "execution_count": 10,
      "outputs": []
    },
    {
      "cell_type": "markdown",
      "source": [
        "### **5-Fold Cross Validation to generalise the model accuracy**"
      ],
      "metadata": {
        "id": "g0EXOuxezwWg"
      }
    },
    {
      "cell_type": "code",
      "source": [
        "from sklearn.model_selection import cross_val_score,KFold\n",
        "svm_classifier = SVC(kernel = 'linear', random_state = 0)\n",
        "kf=KFold(n_splits=5)\n",
        "score=cross_val_score(svm_classifier,X,y,cv=kf)\n",
        "print(\"Cross Validation Scores are {}\".format(score))"
      ],
      "metadata": {
        "colab": {
          "base_uri": "https://localhost:8080/"
        },
        "id": "4tB7B632y5xe",
        "outputId": "5c6ba587-4ad9-4ecf-f0b9-6f1284ca708a"
      },
      "execution_count": 11,
      "outputs": [
        {
          "output_type": "stream",
          "name": "stdout",
          "text": [
            "Cross Validation Scores are [0.61452514 0.65730337 0.66292135 0.7247191  0.74719101]\n"
          ]
        }
      ]
    },
    {
      "cell_type": "code",
      "source": [
        "print(\"Average Cross Validation score :{}\".format(score.mean()))"
      ],
      "metadata": {
        "colab": {
          "base_uri": "https://localhost:8080/"
        },
        "id": "_nAGwL0Fy-DX",
        "outputId": "d7a9bc90-a6c9-499a-b121-063adcf5c5b1"
      },
      "execution_count": 12,
      "outputs": [
        {
          "output_type": "stream",
          "name": "stdout",
          "text": [
            "Average Cross Validation score :0.6813319942250958\n"
          ]
        }
      ]
    },
    {
      "cell_type": "markdown",
      "source": [
        "## **Use random search to identify the best possible SVM model**"
      ],
      "metadata": {
        "id": "VRzrcjecLerZ"
      }
    },
    {
      "cell_type": "markdown",
      "source": [
        "### Import RandomizedSearchCV"
      ],
      "metadata": {
        "id": "JuR5gjuHdNOm"
      }
    },
    {
      "cell_type": "code",
      "source": [
        "from sklearn.model_selection import RandomizedSearchCV"
      ],
      "metadata": {
        "id": "VWBMKM6QLn6s"
      },
      "execution_count": 13,
      "outputs": []
    },
    {
      "cell_type": "markdown",
      "source": [],
      "metadata": {
        "id": "4PL2V6n0dVXH"
      }
    },
    {
      "cell_type": "markdown",
      "source": [
        "### Checking the list of available parameters"
      ],
      "metadata": {
        "id": "RUeUdRyyd8P2"
      }
    },
    {
      "cell_type": "code",
      "source": [
        "SVC().get_params().keys()"
      ],
      "metadata": {
        "colab": {
          "base_uri": "https://localhost:8080/"
        },
        "id": "IOt1oEOgb2J2",
        "outputId": "0847022e-3706-4de7-a568-74133ebdd86a"
      },
      "execution_count": 14,
      "outputs": [
        {
          "output_type": "execute_result",
          "data": {
            "text/plain": [
              "dict_keys(['C', 'break_ties', 'cache_size', 'class_weight', 'coef0', 'decision_function_shape', 'degree', 'gamma', 'kernel', 'max_iter', 'probability', 'random_state', 'shrinking', 'tol', 'verbose'])"
            ]
          },
          "metadata": {},
          "execution_count": 14
        }
      ]
    },
    {
      "cell_type": "code",
      "source": [
        "parameters ={'C': [0.1, 1, 10, 100, 1000],\n",
        "'gamma': [1, 0.1, 0.01, 0.001, 0.0001],\n",
        "'kernel': ['rbf']}"
      ],
      "metadata": {
        "id": "rHSMG9Kmgk1X"
      },
      "execution_count": 15,
      "outputs": []
    },
    {
      "cell_type": "markdown",
      "source": [
        "### Random search on Hyperparameters"
      ],
      "metadata": {
        "id": "_KLpOp7peFwK"
      }
    },
    {
      "cell_type": "code",
      "source": [
        "clf = RandomizedSearchCV(SVC(), parameters, random_state=0)"
      ],
      "metadata": {
        "id": "U8e_xmZP4zn5"
      },
      "execution_count": 16,
      "outputs": []
    },
    {
      "cell_type": "code",
      "source": [
        "X_train.shape, y_train.shape"
      ],
      "metadata": {
        "colab": {
          "base_uri": "https://localhost:8080/"
        },
        "id": "Wzol9lW6OR5g",
        "outputId": "3248a7fb-605d-4dec-f5bc-5969ffa10c4c"
      },
      "execution_count": 17,
      "outputs": [
        {
          "output_type": "execute_result",
          "data": {
            "text/plain": [
              "((668, 4), (668,))"
            ]
          },
          "metadata": {},
          "execution_count": 17
        }
      ]
    },
    {
      "cell_type": "code",
      "source": [
        "X_test.shape, y_test.shape"
      ],
      "metadata": {
        "colab": {
          "base_uri": "https://localhost:8080/"
        },
        "id": "ydtROlmCZzVd",
        "outputId": "cea25516-feac-4df4-bf2f-aa86ac263a69"
      },
      "execution_count": 18,
      "outputs": [
        {
          "output_type": "execute_result",
          "data": {
            "text/plain": [
              "((223, 4), (223,))"
            ]
          },
          "metadata": {},
          "execution_count": 18
        }
      ]
    },
    {
      "cell_type": "code",
      "source": [
        "clf.fit(X_train, y_train)"
      ],
      "metadata": {
        "colab": {
          "base_uri": "https://localhost:8080/"
        },
        "id": "XNzo9pIUMEjQ",
        "outputId": "6f90a69d-07e4-4168-c66c-51a88747d04b"
      },
      "execution_count": 19,
      "outputs": [
        {
          "output_type": "execute_result",
          "data": {
            "text/plain": [
              "RandomizedSearchCV(estimator=SVC(),\n",
              "                   param_distributions={'C': [0.1, 1, 10, 100, 1000],\n",
              "                                        'gamma': [1, 0.1, 0.01, 0.001, 0.0001],\n",
              "                                        'kernel': ['rbf']},\n",
              "                   random_state=0)"
            ]
          },
          "metadata": {},
          "execution_count": 19
        }
      ]
    },
    {
      "cell_type": "markdown",
      "source": [
        "### Checking the best parameter"
      ],
      "metadata": {
        "id": "_vJCFUnweCkx"
      }
    },
    {
      "cell_type": "code",
      "source": [
        "clf.best_params_"
      ],
      "metadata": {
        "colab": {
          "base_uri": "https://localhost:8080/"
        },
        "id": "7X3yvqBXLePN",
        "outputId": "637e0201-e332-4f47-dc2a-49c11118c663"
      },
      "execution_count": 20,
      "outputs": [
        {
          "output_type": "execute_result",
          "data": {
            "text/plain": [
              "{'kernel': 'rbf', 'gamma': 0.01, 'C': 100}"
            ]
          },
          "metadata": {},
          "execution_count": 20
        }
      ]
    },
    {
      "cell_type": "markdown",
      "source": [
        "## **Use hyperopt to identify the best possible SVM model**\n"
      ],
      "metadata": {
        "id": "eaZDpyGoXjZz"
      }
    },
    {
      "cell_type": "markdown",
      "source": [
        "### Install Hyperopt"
      ],
      "metadata": {
        "id": "2U4tdLdXU4na"
      }
    },
    {
      "cell_type": "code",
      "source": [
        "pip install hyperopt"
      ],
      "metadata": {
        "colab": {
          "base_uri": "https://localhost:8080/"
        },
        "id": "m9CMjZryUlRd",
        "outputId": "0fd98136-081a-4e42-f8c6-8418185b66e8"
      },
      "execution_count": 21,
      "outputs": [
        {
          "output_type": "stream",
          "name": "stdout",
          "text": [
            "Looking in indexes: https://pypi.org/simple, https://us-python.pkg.dev/colab-wheels/public/simple/\n",
            "Requirement already satisfied: hyperopt in /usr/local/lib/python3.7/dist-packages (0.1.2)\n",
            "Requirement already satisfied: scipy in /usr/local/lib/python3.7/dist-packages (from hyperopt) (1.7.3)\n",
            "Requirement already satisfied: numpy in /usr/local/lib/python3.7/dist-packages (from hyperopt) (1.21.6)\n",
            "Requirement already satisfied: pymongo in /usr/local/lib/python3.7/dist-packages (from hyperopt) (4.3.2)\n",
            "Requirement already satisfied: future in /usr/local/lib/python3.7/dist-packages (from hyperopt) (0.16.0)\n",
            "Requirement already satisfied: networkx in /usr/local/lib/python3.7/dist-packages (from hyperopt) (2.6.3)\n",
            "Requirement already satisfied: tqdm in /usr/local/lib/python3.7/dist-packages (from hyperopt) (4.64.1)\n",
            "Requirement already satisfied: six in /usr/local/lib/python3.7/dist-packages (from hyperopt) (1.15.0)\n",
            "Requirement already satisfied: dnspython<3.0.0,>=1.16.0 in /usr/local/lib/python3.7/dist-packages (from pymongo->hyperopt) (2.2.1)\n"
          ]
        }
      ]
    },
    {
      "cell_type": "markdown",
      "source": [
        "### import important packages include Hyperopt"
      ],
      "metadata": {
        "id": "7oG1T256U-np"
      }
    },
    {
      "cell_type": "code",
      "source": [
        "from hyperopt import tpe, hp, fmin, STATUS_OK,Trials\n",
        "from hyperopt.pyll.base import scope\n",
        "import warnings\n",
        "warnings.filterwarnings(\"ignore\")"
      ],
      "metadata": {
        "id": "AUfe4ohrYRCj"
      },
      "execution_count": 22,
      "outputs": []
    },
    {
      "cell_type": "markdown",
      "source": [
        "### Define Parameter Space for Optimization"
      ],
      "metadata": {
        "id": "JNU9tPtWaVch"
      }
    },
    {
      "cell_type": "code",
      "source": [
        "space = {\n",
        "    'C': hp.choice('C',[0.1, 1, 10, 100, 1000]),\n",
        "    'gamma': hp.choice('gamma',[1, 0.1, 0.01, 0.001, 0.0001]),\n",
        "    'kernel': hp.choice('kernel',['rbf']),\n",
        "    }"
      ],
      "metadata": {
        "id": "Yd0asuE6aUrM"
      },
      "execution_count": 26,
      "outputs": []
    },
    {
      "cell_type": "markdown",
      "source": [
        "### Defining hyperparamter_tuning and using SVM classification algorithm to optimize hyperparameter"
      ],
      "metadata": {
        "id": "4uS68le_aUC9"
      }
    },
    {
      "cell_type": "code",
      "source": [
        "def hyperparameter_tuning(params):\n",
        "    svm_classifier = SVC(kernel = 'linear', random_state = 0)\n",
        "    acc = cross_val_score(svm_classifier, X, y,scoring=\"accuracy\").mean()\n",
        "    return {\"loss\": -acc, \"status\": STATUS_OK}"
      ],
      "metadata": {
        "id": "o1c64JP2bv_F"
      },
      "execution_count": 24,
      "outputs": []
    },
    {
      "cell_type": "markdown",
      "source": [
        "### Fine tune the model"
      ],
      "metadata": {
        "id": "Url9Gt08co-3"
      }
    },
    {
      "cell_type": "code",
      "source": [
        "# Initialize trials object\n",
        "trials = Trials()\n",
        "\n",
        "best = fmin(\n",
        "    fn=hyperparameter_tuning,\n",
        "    space = space, \n",
        "    algo=tpe.suggest, \n",
        "    max_evals=100, \n",
        "    trials=trials\n",
        ")\n",
        "\n",
        "print(\"Best: {}\".format(best))"
      ],
      "metadata": {
        "colab": {
          "base_uri": "https://localhost:8080/"
        },
        "id": "EFKRKCMFbv54",
        "outputId": "2f986575-22d2-4735-c526-51f354302c5f"
      },
      "execution_count": 25,
      "outputs": [
        {
          "output_type": "stream",
          "name": "stdout",
          "text": [
            "100%|██████████| 100/100 [1:02:11<00:00, 37.32s/it, best loss: -0.6858389303872953]\n",
            "Best: {'C': 1, 'gamma': 1, 'kernel': 0}\n"
          ]
        }
      ]
    },
    {
      "cell_type": "markdown",
      "source": [
        "### Analyzing results by trials"
      ],
      "metadata": {
        "id": "JMf6dY3Ic8Aa"
      }
    },
    {
      "cell_type": "code",
      "source": [
        "trials.results"
      ],
      "metadata": {
        "id": "xWEsLM-SVgY2",
        "colab": {
          "base_uri": "https://localhost:8080/"
        },
        "outputId": "d5fdcc55-d487-4d80-f361-685209d42c33"
      },
      "execution_count": 27,
      "outputs": [
        {
          "output_type": "execute_result",
          "data": {
            "text/plain": [
              "[{'loss': -0.6858389303872953, 'status': 'ok'},\n",
              " {'loss': -0.6858389303872953, 'status': 'ok'},\n",
              " {'loss': -0.6858389303872953, 'status': 'ok'},\n",
              " {'loss': -0.6858389303872953, 'status': 'ok'},\n",
              " {'loss': -0.6858389303872953, 'status': 'ok'},\n",
              " {'loss': -0.6858389303872953, 'status': 'ok'},\n",
              " {'loss': -0.6858389303872953, 'status': 'ok'},\n",
              " {'loss': -0.6858389303872953, 'status': 'ok'},\n",
              " {'loss': -0.6858389303872953, 'status': 'ok'},\n",
              " {'loss': -0.6858389303872953, 'status': 'ok'},\n",
              " {'loss': -0.6858389303872953, 'status': 'ok'},\n",
              " {'loss': -0.6858389303872953, 'status': 'ok'},\n",
              " {'loss': -0.6858389303872953, 'status': 'ok'},\n",
              " {'loss': -0.6858389303872953, 'status': 'ok'},\n",
              " {'loss': -0.6858389303872953, 'status': 'ok'},\n",
              " {'loss': -0.6858389303872953, 'status': 'ok'},\n",
              " {'loss': -0.6858389303872953, 'status': 'ok'},\n",
              " {'loss': -0.6858389303872953, 'status': 'ok'},\n",
              " {'loss': -0.6858389303872953, 'status': 'ok'},\n",
              " {'loss': -0.6858389303872953, 'status': 'ok'},\n",
              " {'loss': -0.6858389303872953, 'status': 'ok'},\n",
              " {'loss': -0.6858389303872953, 'status': 'ok'},\n",
              " {'loss': -0.6858389303872953, 'status': 'ok'},\n",
              " {'loss': -0.6858389303872953, 'status': 'ok'},\n",
              " {'loss': -0.6858389303872953, 'status': 'ok'},\n",
              " {'loss': -0.6858389303872953, 'status': 'ok'},\n",
              " {'loss': -0.6858389303872953, 'status': 'ok'},\n",
              " {'loss': -0.6858389303872953, 'status': 'ok'},\n",
              " {'loss': -0.6858389303872953, 'status': 'ok'},\n",
              " {'loss': -0.6858389303872953, 'status': 'ok'},\n",
              " {'loss': -0.6858389303872953, 'status': 'ok'},\n",
              " {'loss': -0.6858389303872953, 'status': 'ok'},\n",
              " {'loss': -0.6858389303872953, 'status': 'ok'},\n",
              " {'loss': -0.6858389303872953, 'status': 'ok'},\n",
              " {'loss': -0.6858389303872953, 'status': 'ok'},\n",
              " {'loss': -0.6858389303872953, 'status': 'ok'},\n",
              " {'loss': -0.6858389303872953, 'status': 'ok'},\n",
              " {'loss': -0.6858389303872953, 'status': 'ok'},\n",
              " {'loss': -0.6858389303872953, 'status': 'ok'},\n",
              " {'loss': -0.6858389303872953, 'status': 'ok'},\n",
              " {'loss': -0.6858389303872953, 'status': 'ok'},\n",
              " {'loss': -0.6858389303872953, 'status': 'ok'},\n",
              " {'loss': -0.6858389303872953, 'status': 'ok'},\n",
              " {'loss': -0.6858389303872953, 'status': 'ok'},\n",
              " {'loss': -0.6858389303872953, 'status': 'ok'},\n",
              " {'loss': -0.6858389303872953, 'status': 'ok'},\n",
              " {'loss': -0.6858389303872953, 'status': 'ok'},\n",
              " {'loss': -0.6858389303872953, 'status': 'ok'},\n",
              " {'loss': -0.6858389303872953, 'status': 'ok'},\n",
              " {'loss': -0.6858389303872953, 'status': 'ok'},\n",
              " {'loss': -0.6858389303872953, 'status': 'ok'},\n",
              " {'loss': -0.6858389303872953, 'status': 'ok'},\n",
              " {'loss': -0.6858389303872953, 'status': 'ok'},\n",
              " {'loss': -0.6858389303872953, 'status': 'ok'},\n",
              " {'loss': -0.6858389303872953, 'status': 'ok'},\n",
              " {'loss': -0.6858389303872953, 'status': 'ok'},\n",
              " {'loss': -0.6858389303872953, 'status': 'ok'},\n",
              " {'loss': -0.6858389303872953, 'status': 'ok'},\n",
              " {'loss': -0.6858389303872953, 'status': 'ok'},\n",
              " {'loss': -0.6858389303872953, 'status': 'ok'},\n",
              " {'loss': -0.6858389303872953, 'status': 'ok'},\n",
              " {'loss': -0.6858389303872953, 'status': 'ok'},\n",
              " {'loss': -0.6858389303872953, 'status': 'ok'},\n",
              " {'loss': -0.6858389303872953, 'status': 'ok'},\n",
              " {'loss': -0.6858389303872953, 'status': 'ok'},\n",
              " {'loss': -0.6858389303872953, 'status': 'ok'},\n",
              " {'loss': -0.6858389303872953, 'status': 'ok'},\n",
              " {'loss': -0.6858389303872953, 'status': 'ok'},\n",
              " {'loss': -0.6858389303872953, 'status': 'ok'},\n",
              " {'loss': -0.6858389303872953, 'status': 'ok'},\n",
              " {'loss': -0.6858389303872953, 'status': 'ok'},\n",
              " {'loss': -0.6858389303872953, 'status': 'ok'},\n",
              " {'loss': -0.6858389303872953, 'status': 'ok'},\n",
              " {'loss': -0.6858389303872953, 'status': 'ok'},\n",
              " {'loss': -0.6858389303872953, 'status': 'ok'},\n",
              " {'loss': -0.6858389303872953, 'status': 'ok'},\n",
              " {'loss': -0.6858389303872953, 'status': 'ok'},\n",
              " {'loss': -0.6858389303872953, 'status': 'ok'},\n",
              " {'loss': -0.6858389303872953, 'status': 'ok'},\n",
              " {'loss': -0.6858389303872953, 'status': 'ok'},\n",
              " {'loss': -0.6858389303872953, 'status': 'ok'},\n",
              " {'loss': -0.6858389303872953, 'status': 'ok'},\n",
              " {'loss': -0.6858389303872953, 'status': 'ok'},\n",
              " {'loss': -0.6858389303872953, 'status': 'ok'},\n",
              " {'loss': -0.6858389303872953, 'status': 'ok'},\n",
              " {'loss': -0.6858389303872953, 'status': 'ok'},\n",
              " {'loss': -0.6858389303872953, 'status': 'ok'},\n",
              " {'loss': -0.6858389303872953, 'status': 'ok'},\n",
              " {'loss': -0.6858389303872953, 'status': 'ok'},\n",
              " {'loss': -0.6858389303872953, 'status': 'ok'},\n",
              " {'loss': -0.6858389303872953, 'status': 'ok'},\n",
              " {'loss': -0.6858389303872953, 'status': 'ok'},\n",
              " {'loss': -0.6858389303872953, 'status': 'ok'},\n",
              " {'loss': -0.6858389303872953, 'status': 'ok'},\n",
              " {'loss': -0.6858389303872953, 'status': 'ok'},\n",
              " {'loss': -0.6858389303872953, 'status': 'ok'},\n",
              " {'loss': -0.6858389303872953, 'status': 'ok'},\n",
              " {'loss': -0.6858389303872953, 'status': 'ok'},\n",
              " {'loss': -0.6858389303872953, 'status': 'ok'},\n",
              " {'loss': -0.6858389303872953, 'status': 'ok'}]"
            ]
          },
          "metadata": {},
          "execution_count": 27
        }
      ]
    },
    {
      "cell_type": "code",
      "source": [
        "trials.losses()"
      ],
      "metadata": {
        "colab": {
          "base_uri": "https://localhost:8080/"
        },
        "id": "9B65ICtbdChL",
        "outputId": "d1100e2f-7f62-4edc-95b4-48c72ca2150f"
      },
      "execution_count": 28,
      "outputs": [
        {
          "output_type": "execute_result",
          "data": {
            "text/plain": [
              "[-0.6858389303872953,\n",
              " -0.6858389303872953,\n",
              " -0.6858389303872953,\n",
              " -0.6858389303872953,\n",
              " -0.6858389303872953,\n",
              " -0.6858389303872953,\n",
              " -0.6858389303872953,\n",
              " -0.6858389303872953,\n",
              " -0.6858389303872953,\n",
              " -0.6858389303872953,\n",
              " -0.6858389303872953,\n",
              " -0.6858389303872953,\n",
              " -0.6858389303872953,\n",
              " -0.6858389303872953,\n",
              " -0.6858389303872953,\n",
              " -0.6858389303872953,\n",
              " -0.6858389303872953,\n",
              " -0.6858389303872953,\n",
              " -0.6858389303872953,\n",
              " -0.6858389303872953,\n",
              " -0.6858389303872953,\n",
              " -0.6858389303872953,\n",
              " -0.6858389303872953,\n",
              " -0.6858389303872953,\n",
              " -0.6858389303872953,\n",
              " -0.6858389303872953,\n",
              " -0.6858389303872953,\n",
              " -0.6858389303872953,\n",
              " -0.6858389303872953,\n",
              " -0.6858389303872953,\n",
              " -0.6858389303872953,\n",
              " -0.6858389303872953,\n",
              " -0.6858389303872953,\n",
              " -0.6858389303872953,\n",
              " -0.6858389303872953,\n",
              " -0.6858389303872953,\n",
              " -0.6858389303872953,\n",
              " -0.6858389303872953,\n",
              " -0.6858389303872953,\n",
              " -0.6858389303872953,\n",
              " -0.6858389303872953,\n",
              " -0.6858389303872953,\n",
              " -0.6858389303872953,\n",
              " -0.6858389303872953,\n",
              " -0.6858389303872953,\n",
              " -0.6858389303872953,\n",
              " -0.6858389303872953,\n",
              " -0.6858389303872953,\n",
              " -0.6858389303872953,\n",
              " -0.6858389303872953,\n",
              " -0.6858389303872953,\n",
              " -0.6858389303872953,\n",
              " -0.6858389303872953,\n",
              " -0.6858389303872953,\n",
              " -0.6858389303872953,\n",
              " -0.6858389303872953,\n",
              " -0.6858389303872953,\n",
              " -0.6858389303872953,\n",
              " -0.6858389303872953,\n",
              " -0.6858389303872953,\n",
              " -0.6858389303872953,\n",
              " -0.6858389303872953,\n",
              " -0.6858389303872953,\n",
              " -0.6858389303872953,\n",
              " -0.6858389303872953,\n",
              " -0.6858389303872953,\n",
              " -0.6858389303872953,\n",
              " -0.6858389303872953,\n",
              " -0.6858389303872953,\n",
              " -0.6858389303872953,\n",
              " -0.6858389303872953,\n",
              " -0.6858389303872953,\n",
              " -0.6858389303872953,\n",
              " -0.6858389303872953,\n",
              " -0.6858389303872953,\n",
              " -0.6858389303872953,\n",
              " -0.6858389303872953,\n",
              " -0.6858389303872953,\n",
              " -0.6858389303872953,\n",
              " -0.6858389303872953,\n",
              " -0.6858389303872953,\n",
              " -0.6858389303872953,\n",
              " -0.6858389303872953,\n",
              " -0.6858389303872953,\n",
              " -0.6858389303872953,\n",
              " -0.6858389303872953,\n",
              " -0.6858389303872953,\n",
              " -0.6858389303872953,\n",
              " -0.6858389303872953,\n",
              " -0.6858389303872953,\n",
              " -0.6858389303872953,\n",
              " -0.6858389303872953,\n",
              " -0.6858389303872953,\n",
              " -0.6858389303872953,\n",
              " -0.6858389303872953,\n",
              " -0.6858389303872953,\n",
              " -0.6858389303872953,\n",
              " -0.6858389303872953,\n",
              " -0.6858389303872953,\n",
              " -0.6858389303872953]"
            ]
          },
          "metadata": {},
          "execution_count": 28
        }
      ]
    },
    {
      "cell_type": "code",
      "source": [
        "trials.statuses()"
      ],
      "metadata": {
        "colab": {
          "base_uri": "https://localhost:8080/"
        },
        "id": "9fTkE78pdGC3",
        "outputId": "e321224a-e68c-413e-b327-88a96fc08a83"
      },
      "execution_count": 29,
      "outputs": [
        {
          "output_type": "execute_result",
          "data": {
            "text/plain": [
              "['ok',\n",
              " 'ok',\n",
              " 'ok',\n",
              " 'ok',\n",
              " 'ok',\n",
              " 'ok',\n",
              " 'ok',\n",
              " 'ok',\n",
              " 'ok',\n",
              " 'ok',\n",
              " 'ok',\n",
              " 'ok',\n",
              " 'ok',\n",
              " 'ok',\n",
              " 'ok',\n",
              " 'ok',\n",
              " 'ok',\n",
              " 'ok',\n",
              " 'ok',\n",
              " 'ok',\n",
              " 'ok',\n",
              " 'ok',\n",
              " 'ok',\n",
              " 'ok',\n",
              " 'ok',\n",
              " 'ok',\n",
              " 'ok',\n",
              " 'ok',\n",
              " 'ok',\n",
              " 'ok',\n",
              " 'ok',\n",
              " 'ok',\n",
              " 'ok',\n",
              " 'ok',\n",
              " 'ok',\n",
              " 'ok',\n",
              " 'ok',\n",
              " 'ok',\n",
              " 'ok',\n",
              " 'ok',\n",
              " 'ok',\n",
              " 'ok',\n",
              " 'ok',\n",
              " 'ok',\n",
              " 'ok',\n",
              " 'ok',\n",
              " 'ok',\n",
              " 'ok',\n",
              " 'ok',\n",
              " 'ok',\n",
              " 'ok',\n",
              " 'ok',\n",
              " 'ok',\n",
              " 'ok',\n",
              " 'ok',\n",
              " 'ok',\n",
              " 'ok',\n",
              " 'ok',\n",
              " 'ok',\n",
              " 'ok',\n",
              " 'ok',\n",
              " 'ok',\n",
              " 'ok',\n",
              " 'ok',\n",
              " 'ok',\n",
              " 'ok',\n",
              " 'ok',\n",
              " 'ok',\n",
              " 'ok',\n",
              " 'ok',\n",
              " 'ok',\n",
              " 'ok',\n",
              " 'ok',\n",
              " 'ok',\n",
              " 'ok',\n",
              " 'ok',\n",
              " 'ok',\n",
              " 'ok',\n",
              " 'ok',\n",
              " 'ok',\n",
              " 'ok',\n",
              " 'ok',\n",
              " 'ok',\n",
              " 'ok',\n",
              " 'ok',\n",
              " 'ok',\n",
              " 'ok',\n",
              " 'ok',\n",
              " 'ok',\n",
              " 'ok',\n",
              " 'ok',\n",
              " 'ok',\n",
              " 'ok',\n",
              " 'ok',\n",
              " 'ok',\n",
              " 'ok',\n",
              " 'ok',\n",
              " 'ok',\n",
              " 'ok',\n",
              " 'ok']"
            ]
          },
          "metadata": {},
          "execution_count": 29
        }
      ]
    }
  ]
}