{
  "nbformat": 4,
  "nbformat_minor": 0,
  "metadata": {
    "colab": {
      "provenance": [],
      "collapsed_sections": []
    },
    "kernelspec": {
      "name": "python3",
      "display_name": "Python 3"
    },
    "language_info": {
      "name": "python"
    }
  },
  "cells": [
    {
      "cell_type": "markdown",
      "source": [
        "# **Importing Libraries**"
      ],
      "metadata": {
        "id": "AtoRAwaNHyQE"
      }
    },
    {
      "cell_type": "code",
      "execution_count": 1,
      "metadata": {
        "id": "qX-csWfsFsoR"
      },
      "outputs": [],
      "source": [
        "import pandas as pd\n",
        "import numpy as np\n",
        "import matplotlib.pyplot as plt\n",
        "import seaborn as sns"
      ]
    },
    {
      "cell_type": "markdown",
      "source": [
        "# **Loading Train data set**"
      ],
      "metadata": {
        "id": "caAZPkBXIKly"
      }
    },
    {
      "cell_type": "code",
      "source": [
        "train=pd.read_csv('/content/train_v9rqX0R.csv')"
      ],
      "metadata": {
        "id": "aAASqHaEIPyX"
      },
      "execution_count": 180,
      "outputs": []
    },
    {
      "cell_type": "code",
      "source": [
        "train.head()"
      ],
      "metadata": {
        "colab": {
          "base_uri": "https://localhost:8080/",
          "height": 357
        },
        "id": "lfpxvJ5UIdeV",
        "outputId": "caf36de6-c26c-4f27-c93b-4ddc53b26140"
      },
      "execution_count": 182,
      "outputs": [
        {
          "output_type": "execute_result",
          "data": {
            "text/plain": [
              "  Item_Identifier  Item_Weight Item_Fat_Content  Item_Visibility  \\\n",
              "0           FDA15         9.30          Low Fat         0.016047   \n",
              "1           DRC01         5.92          Regular         0.019278   \n",
              "2           FDN15        17.50          Low Fat         0.016760   \n",
              "3           FDX07        19.20          Regular         0.000000   \n",
              "4           NCD19         8.93          Low Fat         0.000000   \n",
              "\n",
              "               Item_Type  Item_MRP Outlet_Identifier  \\\n",
              "0                  Dairy  249.8092            OUT049   \n",
              "1            Soft Drinks   48.2692            OUT018   \n",
              "2                   Meat  141.6180            OUT049   \n",
              "3  Fruits and Vegetables  182.0950            OUT010   \n",
              "4              Household   53.8614            OUT013   \n",
              "\n",
              "   Outlet_Establishment_Year Outlet_Size Outlet_Location_Type  \\\n",
              "0                       1999      Medium               Tier 1   \n",
              "1                       2009      Medium               Tier 3   \n",
              "2                       1999      Medium               Tier 1   \n",
              "3                       1998         NaN               Tier 3   \n",
              "4                       1987        High               Tier 3   \n",
              "\n",
              "         Outlet_Type  Item_Outlet_Sales  \n",
              "0  Supermarket Type1          3735.1380  \n",
              "1  Supermarket Type2           443.4228  \n",
              "2  Supermarket Type1          2097.2700  \n",
              "3      Grocery Store           732.3800  \n",
              "4  Supermarket Type1           994.7052  "
            ],
            "text/html": [
              "\n",
              "  <div id=\"df-e7d67428-5bef-4eee-8bce-f93efb1ab78c\">\n",
              "    <div class=\"colab-df-container\">\n",
              "      <div>\n",
              "<style scoped>\n",
              "    .dataframe tbody tr th:only-of-type {\n",
              "        vertical-align: middle;\n",
              "    }\n",
              "\n",
              "    .dataframe tbody tr th {\n",
              "        vertical-align: top;\n",
              "    }\n",
              "\n",
              "    .dataframe thead th {\n",
              "        text-align: right;\n",
              "    }\n",
              "</style>\n",
              "<table border=\"1\" class=\"dataframe\">\n",
              "  <thead>\n",
              "    <tr style=\"text-align: right;\">\n",
              "      <th></th>\n",
              "      <th>Item_Identifier</th>\n",
              "      <th>Item_Weight</th>\n",
              "      <th>Item_Fat_Content</th>\n",
              "      <th>Item_Visibility</th>\n",
              "      <th>Item_Type</th>\n",
              "      <th>Item_MRP</th>\n",
              "      <th>Outlet_Identifier</th>\n",
              "      <th>Outlet_Establishment_Year</th>\n",
              "      <th>Outlet_Size</th>\n",
              "      <th>Outlet_Location_Type</th>\n",
              "      <th>Outlet_Type</th>\n",
              "      <th>Item_Outlet_Sales</th>\n",
              "    </tr>\n",
              "  </thead>\n",
              "  <tbody>\n",
              "    <tr>\n",
              "      <th>0</th>\n",
              "      <td>FDA15</td>\n",
              "      <td>9.30</td>\n",
              "      <td>Low Fat</td>\n",
              "      <td>0.016047</td>\n",
              "      <td>Dairy</td>\n",
              "      <td>249.8092</td>\n",
              "      <td>OUT049</td>\n",
              "      <td>1999</td>\n",
              "      <td>Medium</td>\n",
              "      <td>Tier 1</td>\n",
              "      <td>Supermarket Type1</td>\n",
              "      <td>3735.1380</td>\n",
              "    </tr>\n",
              "    <tr>\n",
              "      <th>1</th>\n",
              "      <td>DRC01</td>\n",
              "      <td>5.92</td>\n",
              "      <td>Regular</td>\n",
              "      <td>0.019278</td>\n",
              "      <td>Soft Drinks</td>\n",
              "      <td>48.2692</td>\n",
              "      <td>OUT018</td>\n",
              "      <td>2009</td>\n",
              "      <td>Medium</td>\n",
              "      <td>Tier 3</td>\n",
              "      <td>Supermarket Type2</td>\n",
              "      <td>443.4228</td>\n",
              "    </tr>\n",
              "    <tr>\n",
              "      <th>2</th>\n",
              "      <td>FDN15</td>\n",
              "      <td>17.50</td>\n",
              "      <td>Low Fat</td>\n",
              "      <td>0.016760</td>\n",
              "      <td>Meat</td>\n",
              "      <td>141.6180</td>\n",
              "      <td>OUT049</td>\n",
              "      <td>1999</td>\n",
              "      <td>Medium</td>\n",
              "      <td>Tier 1</td>\n",
              "      <td>Supermarket Type1</td>\n",
              "      <td>2097.2700</td>\n",
              "    </tr>\n",
              "    <tr>\n",
              "      <th>3</th>\n",
              "      <td>FDX07</td>\n",
              "      <td>19.20</td>\n",
              "      <td>Regular</td>\n",
              "      <td>0.000000</td>\n",
              "      <td>Fruits and Vegetables</td>\n",
              "      <td>182.0950</td>\n",
              "      <td>OUT010</td>\n",
              "      <td>1998</td>\n",
              "      <td>NaN</td>\n",
              "      <td>Tier 3</td>\n",
              "      <td>Grocery Store</td>\n",
              "      <td>732.3800</td>\n",
              "    </tr>\n",
              "    <tr>\n",
              "      <th>4</th>\n",
              "      <td>NCD19</td>\n",
              "      <td>8.93</td>\n",
              "      <td>Low Fat</td>\n",
              "      <td>0.000000</td>\n",
              "      <td>Household</td>\n",
              "      <td>53.8614</td>\n",
              "      <td>OUT013</td>\n",
              "      <td>1987</td>\n",
              "      <td>High</td>\n",
              "      <td>Tier 3</td>\n",
              "      <td>Supermarket Type1</td>\n",
              "      <td>994.7052</td>\n",
              "    </tr>\n",
              "  </tbody>\n",
              "</table>\n",
              "</div>\n",
              "      <button class=\"colab-df-convert\" onclick=\"convertToInteractive('df-e7d67428-5bef-4eee-8bce-f93efb1ab78c')\"\n",
              "              title=\"Convert this dataframe to an interactive table.\"\n",
              "              style=\"display:none;\">\n",
              "        \n",
              "  <svg xmlns=\"http://www.w3.org/2000/svg\" height=\"24px\"viewBox=\"0 0 24 24\"\n",
              "       width=\"24px\">\n",
              "    <path d=\"M0 0h24v24H0V0z\" fill=\"none\"/>\n",
              "    <path d=\"M18.56 5.44l.94 2.06.94-2.06 2.06-.94-2.06-.94-.94-2.06-.94 2.06-2.06.94zm-11 1L8.5 8.5l.94-2.06 2.06-.94-2.06-.94L8.5 2.5l-.94 2.06-2.06.94zm10 10l.94 2.06.94-2.06 2.06-.94-2.06-.94-.94-2.06-.94 2.06-2.06.94z\"/><path d=\"M17.41 7.96l-1.37-1.37c-.4-.4-.92-.59-1.43-.59-.52 0-1.04.2-1.43.59L10.3 9.45l-7.72 7.72c-.78.78-.78 2.05 0 2.83L4 21.41c.39.39.9.59 1.41.59.51 0 1.02-.2 1.41-.59l7.78-7.78 2.81-2.81c.8-.78.8-2.07 0-2.86zM5.41 20L4 18.59l7.72-7.72 1.47 1.35L5.41 20z\"/>\n",
              "  </svg>\n",
              "      </button>\n",
              "      \n",
              "  <style>\n",
              "    .colab-df-container {\n",
              "      display:flex;\n",
              "      flex-wrap:wrap;\n",
              "      gap: 12px;\n",
              "    }\n",
              "\n",
              "    .colab-df-convert {\n",
              "      background-color: #E8F0FE;\n",
              "      border: none;\n",
              "      border-radius: 50%;\n",
              "      cursor: pointer;\n",
              "      display: none;\n",
              "      fill: #1967D2;\n",
              "      height: 32px;\n",
              "      padding: 0 0 0 0;\n",
              "      width: 32px;\n",
              "    }\n",
              "\n",
              "    .colab-df-convert:hover {\n",
              "      background-color: #E2EBFA;\n",
              "      box-shadow: 0px 1px 2px rgba(60, 64, 67, 0.3), 0px 1px 3px 1px rgba(60, 64, 67, 0.15);\n",
              "      fill: #174EA6;\n",
              "    }\n",
              "\n",
              "    [theme=dark] .colab-df-convert {\n",
              "      background-color: #3B4455;\n",
              "      fill: #D2E3FC;\n",
              "    }\n",
              "\n",
              "    [theme=dark] .colab-df-convert:hover {\n",
              "      background-color: #434B5C;\n",
              "      box-shadow: 0px 1px 3px 1px rgba(0, 0, 0, 0.15);\n",
              "      filter: drop-shadow(0px 1px 2px rgba(0, 0, 0, 0.3));\n",
              "      fill: #FFFFFF;\n",
              "    }\n",
              "  </style>\n",
              "\n",
              "      <script>\n",
              "        const buttonEl =\n",
              "          document.querySelector('#df-e7d67428-5bef-4eee-8bce-f93efb1ab78c button.colab-df-convert');\n",
              "        buttonEl.style.display =\n",
              "          google.colab.kernel.accessAllowed ? 'block' : 'none';\n",
              "\n",
              "        async function convertToInteractive(key) {\n",
              "          const element = document.querySelector('#df-e7d67428-5bef-4eee-8bce-f93efb1ab78c');\n",
              "          const dataTable =\n",
              "            await google.colab.kernel.invokeFunction('convertToInteractive',\n",
              "                                                     [key], {});\n",
              "          if (!dataTable) return;\n",
              "\n",
              "          const docLinkHtml = 'Like what you see? Visit the ' +\n",
              "            '<a target=\"_blank\" href=https://colab.research.google.com/notebooks/data_table.ipynb>data table notebook</a>'\n",
              "            + ' to learn more about interactive tables.';\n",
              "          element.innerHTML = '';\n",
              "          dataTable['output_type'] = 'display_data';\n",
              "          await google.colab.output.renderOutput(dataTable, element);\n",
              "          const docLink = document.createElement('div');\n",
              "          docLink.innerHTML = docLinkHtml;\n",
              "          element.appendChild(docLink);\n",
              "        }\n",
              "      </script>\n",
              "    </div>\n",
              "  </div>\n",
              "  "
            ]
          },
          "metadata": {},
          "execution_count": 182
        }
      ]
    },
    {
      "cell_type": "code",
      "source": [
        "train.shape"
      ],
      "metadata": {
        "colab": {
          "base_uri": "https://localhost:8080/"
        },
        "id": "h-WHUBIYIe4a",
        "outputId": "68294e97-f709-4f2c-8b26-5bdc8c65b9f8"
      },
      "execution_count": 183,
      "outputs": [
        {
          "output_type": "execute_result",
          "data": {
            "text/plain": [
              "(8523, 12)"
            ]
          },
          "metadata": {},
          "execution_count": 183
        }
      ]
    },
    {
      "cell_type": "markdown",
      "source": [],
      "metadata": {
        "id": "TWV4UEEMJjhL"
      }
    },
    {
      "cell_type": "code",
      "source": [
        "eval=pd.read_csv('/content/test_AbJTz2l.csv')\n",
        "eval.head()"
      ],
      "metadata": {
        "colab": {
          "base_uri": "https://localhost:8080/",
          "height": 340
        },
        "id": "A2cWwowlJkeO",
        "outputId": "2f8b9a16-be0d-4a6e-f515-2d6faed42cba"
      },
      "execution_count": 184,
      "outputs": [
        {
          "output_type": "execute_result",
          "data": {
            "text/plain": [
              "  Item_Identifier  Item_Weight Item_Fat_Content  Item_Visibility    Item_Type  \\\n",
              "0           FDW58       20.750          Low Fat         0.007565  Snack Foods   \n",
              "1           FDW14        8.300              reg         0.038428        Dairy   \n",
              "2           NCN55       14.600          Low Fat         0.099575       Others   \n",
              "3           FDQ58        7.315          Low Fat         0.015388  Snack Foods   \n",
              "4           FDY38          NaN          Regular         0.118599        Dairy   \n",
              "\n",
              "   Item_MRP Outlet_Identifier  Outlet_Establishment_Year Outlet_Size  \\\n",
              "0  107.8622            OUT049                       1999      Medium   \n",
              "1   87.3198            OUT017                       2007         NaN   \n",
              "2  241.7538            OUT010                       1998         NaN   \n",
              "3  155.0340            OUT017                       2007         NaN   \n",
              "4  234.2300            OUT027                       1985      Medium   \n",
              "\n",
              "  Outlet_Location_Type        Outlet_Type  \n",
              "0               Tier 1  Supermarket Type1  \n",
              "1               Tier 2  Supermarket Type1  \n",
              "2               Tier 3      Grocery Store  \n",
              "3               Tier 2  Supermarket Type1  \n",
              "4               Tier 3  Supermarket Type3  "
            ],
            "text/html": [
              "\n",
              "  <div id=\"df-9828f451-521e-49d6-8826-8ae12395e3c5\">\n",
              "    <div class=\"colab-df-container\">\n",
              "      <div>\n",
              "<style scoped>\n",
              "    .dataframe tbody tr th:only-of-type {\n",
              "        vertical-align: middle;\n",
              "    }\n",
              "\n",
              "    .dataframe tbody tr th {\n",
              "        vertical-align: top;\n",
              "    }\n",
              "\n",
              "    .dataframe thead th {\n",
              "        text-align: right;\n",
              "    }\n",
              "</style>\n",
              "<table border=\"1\" class=\"dataframe\">\n",
              "  <thead>\n",
              "    <tr style=\"text-align: right;\">\n",
              "      <th></th>\n",
              "      <th>Item_Identifier</th>\n",
              "      <th>Item_Weight</th>\n",
              "      <th>Item_Fat_Content</th>\n",
              "      <th>Item_Visibility</th>\n",
              "      <th>Item_Type</th>\n",
              "      <th>Item_MRP</th>\n",
              "      <th>Outlet_Identifier</th>\n",
              "      <th>Outlet_Establishment_Year</th>\n",
              "      <th>Outlet_Size</th>\n",
              "      <th>Outlet_Location_Type</th>\n",
              "      <th>Outlet_Type</th>\n",
              "    </tr>\n",
              "  </thead>\n",
              "  <tbody>\n",
              "    <tr>\n",
              "      <th>0</th>\n",
              "      <td>FDW58</td>\n",
              "      <td>20.750</td>\n",
              "      <td>Low Fat</td>\n",
              "      <td>0.007565</td>\n",
              "      <td>Snack Foods</td>\n",
              "      <td>107.8622</td>\n",
              "      <td>OUT049</td>\n",
              "      <td>1999</td>\n",
              "      <td>Medium</td>\n",
              "      <td>Tier 1</td>\n",
              "      <td>Supermarket Type1</td>\n",
              "    </tr>\n",
              "    <tr>\n",
              "      <th>1</th>\n",
              "      <td>FDW14</td>\n",
              "      <td>8.300</td>\n",
              "      <td>reg</td>\n",
              "      <td>0.038428</td>\n",
              "      <td>Dairy</td>\n",
              "      <td>87.3198</td>\n",
              "      <td>OUT017</td>\n",
              "      <td>2007</td>\n",
              "      <td>NaN</td>\n",
              "      <td>Tier 2</td>\n",
              "      <td>Supermarket Type1</td>\n",
              "    </tr>\n",
              "    <tr>\n",
              "      <th>2</th>\n",
              "      <td>NCN55</td>\n",
              "      <td>14.600</td>\n",
              "      <td>Low Fat</td>\n",
              "      <td>0.099575</td>\n",
              "      <td>Others</td>\n",
              "      <td>241.7538</td>\n",
              "      <td>OUT010</td>\n",
              "      <td>1998</td>\n",
              "      <td>NaN</td>\n",
              "      <td>Tier 3</td>\n",
              "      <td>Grocery Store</td>\n",
              "    </tr>\n",
              "    <tr>\n",
              "      <th>3</th>\n",
              "      <td>FDQ58</td>\n",
              "      <td>7.315</td>\n",
              "      <td>Low Fat</td>\n",
              "      <td>0.015388</td>\n",
              "      <td>Snack Foods</td>\n",
              "      <td>155.0340</td>\n",
              "      <td>OUT017</td>\n",
              "      <td>2007</td>\n",
              "      <td>NaN</td>\n",
              "      <td>Tier 2</td>\n",
              "      <td>Supermarket Type1</td>\n",
              "    </tr>\n",
              "    <tr>\n",
              "      <th>4</th>\n",
              "      <td>FDY38</td>\n",
              "      <td>NaN</td>\n",
              "      <td>Regular</td>\n",
              "      <td>0.118599</td>\n",
              "      <td>Dairy</td>\n",
              "      <td>234.2300</td>\n",
              "      <td>OUT027</td>\n",
              "      <td>1985</td>\n",
              "      <td>Medium</td>\n",
              "      <td>Tier 3</td>\n",
              "      <td>Supermarket Type3</td>\n",
              "    </tr>\n",
              "  </tbody>\n",
              "</table>\n",
              "</div>\n",
              "      <button class=\"colab-df-convert\" onclick=\"convertToInteractive('df-9828f451-521e-49d6-8826-8ae12395e3c5')\"\n",
              "              title=\"Convert this dataframe to an interactive table.\"\n",
              "              style=\"display:none;\">\n",
              "        \n",
              "  <svg xmlns=\"http://www.w3.org/2000/svg\" height=\"24px\"viewBox=\"0 0 24 24\"\n",
              "       width=\"24px\">\n",
              "    <path d=\"M0 0h24v24H0V0z\" fill=\"none\"/>\n",
              "    <path d=\"M18.56 5.44l.94 2.06.94-2.06 2.06-.94-2.06-.94-.94-2.06-.94 2.06-2.06.94zm-11 1L8.5 8.5l.94-2.06 2.06-.94-2.06-.94L8.5 2.5l-.94 2.06-2.06.94zm10 10l.94 2.06.94-2.06 2.06-.94-2.06-.94-.94-2.06-.94 2.06-2.06.94z\"/><path d=\"M17.41 7.96l-1.37-1.37c-.4-.4-.92-.59-1.43-.59-.52 0-1.04.2-1.43.59L10.3 9.45l-7.72 7.72c-.78.78-.78 2.05 0 2.83L4 21.41c.39.39.9.59 1.41.59.51 0 1.02-.2 1.41-.59l7.78-7.78 2.81-2.81c.8-.78.8-2.07 0-2.86zM5.41 20L4 18.59l7.72-7.72 1.47 1.35L5.41 20z\"/>\n",
              "  </svg>\n",
              "      </button>\n",
              "      \n",
              "  <style>\n",
              "    .colab-df-container {\n",
              "      display:flex;\n",
              "      flex-wrap:wrap;\n",
              "      gap: 12px;\n",
              "    }\n",
              "\n",
              "    .colab-df-convert {\n",
              "      background-color: #E8F0FE;\n",
              "      border: none;\n",
              "      border-radius: 50%;\n",
              "      cursor: pointer;\n",
              "      display: none;\n",
              "      fill: #1967D2;\n",
              "      height: 32px;\n",
              "      padding: 0 0 0 0;\n",
              "      width: 32px;\n",
              "    }\n",
              "\n",
              "    .colab-df-convert:hover {\n",
              "      background-color: #E2EBFA;\n",
              "      box-shadow: 0px 1px 2px rgba(60, 64, 67, 0.3), 0px 1px 3px 1px rgba(60, 64, 67, 0.15);\n",
              "      fill: #174EA6;\n",
              "    }\n",
              "\n",
              "    [theme=dark] .colab-df-convert {\n",
              "      background-color: #3B4455;\n",
              "      fill: #D2E3FC;\n",
              "    }\n",
              "\n",
              "    [theme=dark] .colab-df-convert:hover {\n",
              "      background-color: #434B5C;\n",
              "      box-shadow: 0px 1px 3px 1px rgba(0, 0, 0, 0.15);\n",
              "      filter: drop-shadow(0px 1px 2px rgba(0, 0, 0, 0.3));\n",
              "      fill: #FFFFFF;\n",
              "    }\n",
              "  </style>\n",
              "\n",
              "      <script>\n",
              "        const buttonEl =\n",
              "          document.querySelector('#df-9828f451-521e-49d6-8826-8ae12395e3c5 button.colab-df-convert');\n",
              "        buttonEl.style.display =\n",
              "          google.colab.kernel.accessAllowed ? 'block' : 'none';\n",
              "\n",
              "        async function convertToInteractive(key) {\n",
              "          const element = document.querySelector('#df-9828f451-521e-49d6-8826-8ae12395e3c5');\n",
              "          const dataTable =\n",
              "            await google.colab.kernel.invokeFunction('convertToInteractive',\n",
              "                                                     [key], {});\n",
              "          if (!dataTable) return;\n",
              "\n",
              "          const docLinkHtml = 'Like what you see? Visit the ' +\n",
              "            '<a target=\"_blank\" href=https://colab.research.google.com/notebooks/data_table.ipynb>data table notebook</a>'\n",
              "            + ' to learn more about interactive tables.';\n",
              "          element.innerHTML = '';\n",
              "          dataTable['output_type'] = 'display_data';\n",
              "          await google.colab.output.renderOutput(dataTable, element);\n",
              "          const docLink = document.createElement('div');\n",
              "          docLink.innerHTML = docLinkHtml;\n",
              "          element.appendChild(docLink);\n",
              "        }\n",
              "      </script>\n",
              "    </div>\n",
              "  </div>\n",
              "  "
            ]
          },
          "metadata": {},
          "execution_count": 184
        }
      ]
    },
    {
      "cell_type": "code",
      "source": [
        "eval.shape"
      ],
      "metadata": {
        "colab": {
          "base_uri": "https://localhost:8080/"
        },
        "id": "0ESguR0lJvLV",
        "outputId": "4944aec3-fb0e-45d5-f18c-35701e3288cf"
      },
      "execution_count": 185,
      "outputs": [
        {
          "output_type": "execute_result",
          "data": {
            "text/plain": [
              "(5681, 11)"
            ]
          },
          "metadata": {},
          "execution_count": 185
        }
      ]
    },
    {
      "cell_type": "code",
      "source": [
        "train.info()"
      ],
      "metadata": {
        "colab": {
          "base_uri": "https://localhost:8080/"
        },
        "id": "5PI9dmLEInIJ",
        "outputId": "6e573f7b-3e42-4d0b-ce42-948b531ac1df"
      },
      "execution_count": 186,
      "outputs": [
        {
          "output_type": "stream",
          "name": "stdout",
          "text": [
            "<class 'pandas.core.frame.DataFrame'>\n",
            "RangeIndex: 8523 entries, 0 to 8522\n",
            "Data columns (total 12 columns):\n",
            " #   Column                     Non-Null Count  Dtype  \n",
            "---  ------                     --------------  -----  \n",
            " 0   Item_Identifier            8523 non-null   object \n",
            " 1   Item_Weight                7060 non-null   float64\n",
            " 2   Item_Fat_Content           8523 non-null   object \n",
            " 3   Item_Visibility            8523 non-null   float64\n",
            " 4   Item_Type                  8523 non-null   object \n",
            " 5   Item_MRP                   8523 non-null   float64\n",
            " 6   Outlet_Identifier          8523 non-null   object \n",
            " 7   Outlet_Establishment_Year  8523 non-null   int64  \n",
            " 8   Outlet_Size                6113 non-null   object \n",
            " 9   Outlet_Location_Type       8523 non-null   object \n",
            " 10  Outlet_Type                8523 non-null   object \n",
            " 11  Item_Outlet_Sales          8523 non-null   float64\n",
            "dtypes: float64(4), int64(1), object(7)\n",
            "memory usage: 799.2+ KB\n"
          ]
        }
      ]
    },
    {
      "cell_type": "code",
      "source": [
        "train.isna().sum()"
      ],
      "metadata": {
        "colab": {
          "base_uri": "https://localhost:8080/"
        },
        "id": "YD2LLKHSI-Dl",
        "outputId": "824a8b80-b36d-47e5-a819-4d1cdefd0259"
      },
      "execution_count": 187,
      "outputs": [
        {
          "output_type": "execute_result",
          "data": {
            "text/plain": [
              "Item_Identifier                 0\n",
              "Item_Weight                  1463\n",
              "Item_Fat_Content                0\n",
              "Item_Visibility                 0\n",
              "Item_Type                       0\n",
              "Item_MRP                        0\n",
              "Outlet_Identifier               0\n",
              "Outlet_Establishment_Year       0\n",
              "Outlet_Size                  2410\n",
              "Outlet_Location_Type            0\n",
              "Outlet_Type                     0\n",
              "Item_Outlet_Sales               0\n",
              "dtype: int64"
            ]
          },
          "metadata": {},
          "execution_count": 187
        }
      ]
    },
    {
      "cell_type": "code",
      "source": [
        "train['Item_Identifier'].unique()"
      ],
      "metadata": {
        "colab": {
          "base_uri": "https://localhost:8080/"
        },
        "id": "ZAe7tenbLY3l",
        "outputId": "3fe094c8-f383-4bc4-f76d-80a5db873e32"
      },
      "execution_count": 188,
      "outputs": [
        {
          "output_type": "execute_result",
          "data": {
            "text/plain": [
              "array(['FDA15', 'DRC01', 'FDN15', ..., 'NCF55', 'NCW30', 'NCW05'],\n",
              "      dtype=object)"
            ]
          },
          "metadata": {},
          "execution_count": 188
        }
      ]
    },
    {
      "cell_type": "code",
      "source": [
        "eval['Item_Identifier'].nunique()"
      ],
      "metadata": {
        "colab": {
          "base_uri": "https://localhost:8080/"
        },
        "id": "k1ldvuKukfP8",
        "outputId": "ba294b13-4852-410e-d06c-a876948e3f0b"
      },
      "execution_count": 189,
      "outputs": [
        {
          "output_type": "execute_result",
          "data": {
            "text/plain": [
              "1543"
            ]
          },
          "metadata": {},
          "execution_count": 189
        }
      ]
    },
    {
      "cell_type": "code",
      "source": [
        "train['Outlet_Identifier'].unique()"
      ],
      "metadata": {
        "colab": {
          "base_uri": "https://localhost:8080/"
        },
        "id": "1vczbvHrepjn",
        "outputId": "b1260870-7dab-479c-ec7d-6a21391ba13b"
      },
      "execution_count": 190,
      "outputs": [
        {
          "output_type": "execute_result",
          "data": {
            "text/plain": [
              "array(['OUT049', 'OUT018', 'OUT010', 'OUT013', 'OUT027', 'OUT045',\n",
              "       'OUT017', 'OUT046', 'OUT035', 'OUT019'], dtype=object)"
            ]
          },
          "metadata": {},
          "execution_count": 190
        }
      ]
    },
    {
      "cell_type": "code",
      "source": [
        "eval['Outlet_Identifier'].unique()"
      ],
      "metadata": {
        "colab": {
          "base_uri": "https://localhost:8080/"
        },
        "id": "z-DKvSO7kjaW",
        "outputId": "df30b05b-cb18-483e-e03b-12760158dc7e"
      },
      "execution_count": 191,
      "outputs": [
        {
          "output_type": "execute_result",
          "data": {
            "text/plain": [
              "array(['OUT049', 'OUT017', 'OUT010', 'OUT027', 'OUT046', 'OUT018',\n",
              "       'OUT045', 'OUT019', 'OUT013', 'OUT035'], dtype=object)"
            ]
          },
          "metadata": {},
          "execution_count": 191
        }
      ]
    },
    {
      "cell_type": "code",
      "source": [
        "train['Outlet_Size'].unique()"
      ],
      "metadata": {
        "colab": {
          "base_uri": "https://localhost:8080/"
        },
        "id": "9BbIYJv8LmDv",
        "outputId": "305b385e-2078-460e-d2a2-1395f4f36c81"
      },
      "execution_count": 192,
      "outputs": [
        {
          "output_type": "execute_result",
          "data": {
            "text/plain": [
              "array(['Medium', nan, 'High', 'Small'], dtype=object)"
            ]
          },
          "metadata": {},
          "execution_count": 192
        }
      ]
    },
    {
      "cell_type": "code",
      "source": [
        "train['Item_Fat_Content'].unique()"
      ],
      "metadata": {
        "colab": {
          "base_uri": "https://localhost:8080/"
        },
        "id": "5WA_0W0Yl_7z",
        "outputId": "f0c2f6a1-3289-44da-8087-5837993ac2cc"
      },
      "execution_count": 193,
      "outputs": [
        {
          "output_type": "execute_result",
          "data": {
            "text/plain": [
              "array(['Low Fat', 'Regular', 'low fat', 'LF', 'reg'], dtype=object)"
            ]
          },
          "metadata": {},
          "execution_count": 193
        }
      ]
    },
    {
      "cell_type": "code",
      "source": [
        "OutletSize_Mode=train['Outlet_Size'].mode()[0]\n",
        "train['Outlet_Size']=train['Outlet_Size'].fillna(OutletSize_Mode)"
      ],
      "metadata": {
        "id": "jtPEIAn8L2DT"
      },
      "execution_count": 194,
      "outputs": []
    },
    {
      "cell_type": "code",
      "source": [
        "train.isna().sum()"
      ],
      "metadata": {
        "colab": {
          "base_uri": "https://localhost:8080/"
        },
        "id": "W2m1DwribLQ5",
        "outputId": "eae6ef96-34f6-4284-c5e0-b4f4dbdb96e3"
      },
      "execution_count": 195,
      "outputs": [
        {
          "output_type": "execute_result",
          "data": {
            "text/plain": [
              "Item_Identifier                 0\n",
              "Item_Weight                  1463\n",
              "Item_Fat_Content                0\n",
              "Item_Visibility                 0\n",
              "Item_Type                       0\n",
              "Item_MRP                        0\n",
              "Outlet_Identifier               0\n",
              "Outlet_Establishment_Year       0\n",
              "Outlet_Size                     0\n",
              "Outlet_Location_Type            0\n",
              "Outlet_Type                     0\n",
              "Item_Outlet_Sales               0\n",
              "dtype: int64"
            ]
          },
          "metadata": {},
          "execution_count": 195
        }
      ]
    },
    {
      "cell_type": "markdown",
      "source": [],
      "metadata": {
        "id": "m4RoXspuKvO7"
      }
    },
    {
      "cell_type": "code",
      "source": [
        "train[train['Item_Weight'].isna()]['Item_Identifier']"
      ],
      "metadata": {
        "colab": {
          "base_uri": "https://localhost:8080/"
        },
        "id": "hiHZj6z0K5CE",
        "outputId": "962a2379-de0f-4b55-a226-25b7bc14252f"
      },
      "execution_count": 196,
      "outputs": [
        {
          "output_type": "execute_result",
          "data": {
            "text/plain": [
              "7       FDP10\n",
              "18      DRI11\n",
              "21      FDW12\n",
              "23      FDC37\n",
              "29      FDC14\n",
              "        ...  \n",
              "8485    DRK37\n",
              "8487    DRG13\n",
              "8488    NCN14\n",
              "8490    FDU44\n",
              "8504    NCN18\n",
              "Name: Item_Identifier, Length: 1463, dtype: object"
            ]
          },
          "metadata": {},
          "execution_count": 196
        }
      ]
    },
    {
      "cell_type": "code",
      "source": [
        "weight=train[train['Item_Identifier']=='FDP10']['Item_Weight'].dropna().to_list()\n",
        "weight[0]"
      ],
      "metadata": {
        "colab": {
          "base_uri": "https://localhost:8080/"
        },
        "id": "s6WpwT9fN_5K",
        "outputId": "fe8039f5-cb36-421c-bd26-34a881ea309c"
      },
      "execution_count": 197,
      "outputs": [
        {
          "output_type": "execute_result",
          "data": {
            "text/plain": [
              "19.0"
            ]
          },
          "metadata": {},
          "execution_count": 197
        }
      ]
    },
    {
      "cell_type": "code",
      "source": [
        "train[train['Item_Identifier']=='DRI11']['Item_Weight']"
      ],
      "metadata": {
        "colab": {
          "base_uri": "https://localhost:8080/"
        },
        "id": "aeVBdvhVP_by",
        "outputId": "3f20f6c2-bdd9-4a5e-803b-d92f65bec57c"
      },
      "execution_count": 198,
      "outputs": [
        {
          "output_type": "execute_result",
          "data": {
            "text/plain": [
              "18       NaN\n",
              "1366     NaN\n",
              "3127    8.26\n",
              "5310    8.26\n",
              "7022    8.26\n",
              "7192    8.26\n",
              "8483    8.26\n",
              "Name: Item_Weight, dtype: float64"
            ]
          },
          "metadata": {},
          "execution_count": 198
        }
      ]
    },
    {
      "cell_type": "code",
      "source": [
        "train[train['Item_Identifier']=='NCN18']['Item_Weight']"
      ],
      "metadata": {
        "colab": {
          "base_uri": "https://localhost:8080/"
        },
        "id": "sgghTmXjQVgG",
        "outputId": "0afe5be5-9ca9-44ca-d34f-b57b13571487"
      },
      "execution_count": 199,
      "outputs": [
        {
          "output_type": "execute_result",
          "data": {
            "text/plain": [
              "524     8.895\n",
              "1089    8.895\n",
              "3986    8.895\n",
              "6069    8.895\n",
              "8504      NaN\n",
              "Name: Item_Weight, dtype: float64"
            ]
          },
          "metadata": {},
          "execution_count": 199
        }
      ]
    },
    {
      "cell_type": "code",
      "source": [
        "Item_Identifier_list=train[train['Item_Weight'].isna()]['Item_Identifier'].to_list()"
      ],
      "metadata": {
        "id": "rktpAO9RQfj7"
      },
      "execution_count": 200,
      "outputs": []
    },
    {
      "cell_type": "code",
      "source": [
        "item_id_Weight_dict={}\n",
        "for id in Item_Identifier_list:\n",
        "  weight=train[train['Item_Identifier']==id]['Item_Weight'].dropna().to_list()\n",
        "  if weight:\n",
        "    item_id_Weight_dict[id]=weight[0]"
      ],
      "metadata": {
        "id": "kKQbbjM4Qz_u"
      },
      "execution_count": 201,
      "outputs": []
    },
    {
      "cell_type": "code",
      "source": [
        "item_id_Weight_dict"
      ],
      "metadata": {
        "colab": {
          "base_uri": "https://localhost:8080/"
        },
        "id": "D-1WFV7uTArp",
        "outputId": "332b37c9-f7c3-4ded-ea2a-f875f4b47588"
      },
      "execution_count": 202,
      "outputs": [
        {
          "output_type": "execute_result",
          "data": {
            "text/plain": [
              "{'FDP10': 19.0,\n",
              " 'DRI11': 8.26,\n",
              " 'FDW12': 8.315,\n",
              " 'FDC37': 15.5,\n",
              " 'FDC14': 14.5,\n",
              " 'FDV20': 20.2,\n",
              " 'FDX10': 6.385,\n",
              " 'FDB34': 15.25,\n",
              " 'FDS02': 10.195,\n",
              " 'FDI26': 5.94,\n",
              " 'FDF09': 6.215,\n",
              " 'FDY40': 15.5,\n",
              " 'FDY45': 17.5,\n",
              " 'FDN48': 13.35,\n",
              " 'NCL18': 18.85,\n",
              " 'FDR12': 12.6,\n",
              " 'FDQ49': 20.2,\n",
              " 'FDU04': 7.93,\n",
              " 'NCP18': 12.15,\n",
              " 'FDD10': 20.6,\n",
              " 'DRE60': 9.395,\n",
              " 'FDW39': 6.69,\n",
              " 'FDX34': 6.195,\n",
              " 'FDY25': 12.0,\n",
              " 'NCR53': 12.15,\n",
              " 'FDH35': 18.25,\n",
              " 'DRK12': 9.5,\n",
              " 'FDR07': 21.35,\n",
              " 'NCB30': 14.6,\n",
              " 'DRY23': 9.395,\n",
              " 'FDQ28': 14.0,\n",
              " 'NCO17': 10.0,\n",
              " 'FDT12': 6.215,\n",
              " 'FDO08': 11.1,\n",
              " 'NCX06': 17.6,\n",
              " 'FDE40': 15.6,\n",
              " 'FDX49': 4.615,\n",
              " 'FDI24': 10.3,\n",
              " 'FDS45': 5.175,\n",
              " 'NCO07': 9.06,\n",
              " 'DRF27': 8.93,\n",
              " 'FDX25': 16.7,\n",
              " 'NCX42': 6.36,\n",
              " 'FDG33': 5.365,\n",
              " 'DRM47': 9.3,\n",
              " 'FDS46': 17.6,\n",
              " 'FDX21': 7.05,\n",
              " 'NCU05': 11.8,\n",
              " 'DRF15': 18.35,\n",
              " 'FDQ04': 6.4,\n",
              " 'FDH19': 19.35,\n",
              " 'FDZ10': 17.85,\n",
              " 'NCF07': 9.0,\n",
              " 'FDJ08': 11.1,\n",
              " 'FDM25': 10.695,\n",
              " 'FDV60': 20.2,\n",
              " 'FDV13': 17.35,\n",
              " 'FDM50': 13.0,\n",
              " 'FDY31': 5.98,\n",
              " 'DRQ35': 9.3,\n",
              " 'NCW17': 18.0,\n",
              " 'FDN60': 15.1,\n",
              " 'FDN58': 13.8,\n",
              " 'FDC41': 15.6,\n",
              " 'FDO01': 21.1,\n",
              " 'FDY49': 17.2,\n",
              " 'FDJ22': 18.75,\n",
              " 'FDN39': 19.35,\n",
              " 'FDJ56': 8.985,\n",
              " 'FDX26': 17.7,\n",
              " 'FDZ07': 15.1,\n",
              " 'NCW53': 18.35,\n",
              " 'FDX31': 20.35,\n",
              " 'FDR43': 18.2,\n",
              " 'FDP22': 14.65,\n",
              " 'FDU02': 13.35,\n",
              " 'NCK31': 10.895,\n",
              " 'FDU45': 15.6,\n",
              " 'FDW24': 6.8,\n",
              " 'DRP35': 18.85,\n",
              " 'FDW35': 10.6,\n",
              " 'FDW23': 5.765,\n",
              " 'DRH03': 17.25,\n",
              " 'FDW27': 5.86,\n",
              " 'FDS09': 8.895,\n",
              " 'NCO54': 19.5,\n",
              " 'FDS26': 20.35,\n",
              " 'DRB48': 16.75,\n",
              " 'FDU56': 16.85,\n",
              " 'FDX14': 13.1,\n",
              " 'FDH28': 15.85,\n",
              " 'NCT41': 15.7,\n",
              " 'FDO11': 8.0,\n",
              " 'FDR56': 15.5,\n",
              " 'FDE53': 10.895,\n",
              " 'DRN36': 15.2,\n",
              " 'FDZ47': 20.7,\n",
              " 'NCJ54': 9.895,\n",
              " 'NCE06': 5.825,\n",
              " 'FDO19': 17.7,\n",
              " 'FDV37': 13.0,\n",
              " 'FDB38': 19.5,\n",
              " 'FDW50': 13.1,\n",
              " 'NCQ43': 17.75,\n",
              " 'FDZ22': 9.395,\n",
              " 'FDE22': 9.695,\n",
              " 'DRK35': 8.365,\n",
              " 'FDO44': 12.6,\n",
              " 'FDL46': 20.35,\n",
              " 'FDC11': 20.5,\n",
              " 'FDX09': 9.0,\n",
              " 'DRI37': 15.85,\n",
              " 'FDE05': 10.895,\n",
              " 'FDT32': 19.0,\n",
              " 'FDC46': 17.7,\n",
              " 'FDA34': 11.5,\n",
              " 'FDO51': 6.785,\n",
              " 'FDS10': 19.2,\n",
              " 'FDX33': 9.195,\n",
              " 'FDC33': 8.96,\n",
              " 'NCV54': 11.1,\n",
              " 'NCZ06': 19.6,\n",
              " 'DRH25': 18.7,\n",
              " 'FDA14': 16.1,\n",
              " 'FDA03': 18.5,\n",
              " 'FDO52': 11.6,\n",
              " 'FDP13': 8.1,\n",
              " 'FDV02': 16.75,\n",
              " 'FDE38': 6.52,\n",
              " 'FDS03': 7.825,\n",
              " 'FDV56': 16.1,\n",
              " 'FDC04': 15.6,\n",
              " 'FDW01': 14.5,\n",
              " 'FDC10': 9.8,\n",
              " 'FDG24': 7.975,\n",
              " 'FDO04': 16.6,\n",
              " 'FDS33': 6.67,\n",
              " 'NCJ29': 10.6,\n",
              " 'FDZ01': 8.975,\n",
              " 'FDO36': 19.7,\n",
              " 'FDN12': 15.6,\n",
              " 'FDL24': 10.3,\n",
              " 'FDR58': 6.675,\n",
              " 'FDQ15': 20.35,\n",
              " 'FDH40': 11.6,\n",
              " 'FDI41': 18.5,\n",
              " 'NCK17': 11.0,\n",
              " 'FDD36': 13.3,\n",
              " 'DRD60': 15.7,\n",
              " 'NCM19': 12.65,\n",
              " 'FDK55': 18.5,\n",
              " 'FDV01': 19.2,\n",
              " 'FDL56': 14.1,\n",
              " 'FDJ40': 13.6,\n",
              " 'FDU13': 8.355,\n",
              " 'FDU44': 12.15,\n",
              " 'DRM59': 5.88,\n",
              " 'FDJ45': 17.75,\n",
              " 'FDQ08': 15.7,\n",
              " 'DRE12': 4.59,\n",
              " 'FDZ08': 12.5,\n",
              " 'FDZ12': 9.17,\n",
              " 'FDM56': 16.7,\n",
              " 'FDW49': 19.5,\n",
              " 'FDK15': 10.8,\n",
              " 'FDO49': 10.6,\n",
              " 'FDQ24': 15.7,\n",
              " 'NCN14': 19.1,\n",
              " 'FDV57': 15.25,\n",
              " 'FDL38': 13.8,\n",
              " 'FDS35': 9.3,\n",
              " 'FDN21': 18.6,\n",
              " 'FDX59': 10.195,\n",
              " 'NCK54': 12.15,\n",
              " 'FDA45': 21.25,\n",
              " 'FDU22': 12.35,\n",
              " 'FDP48': 7.52,\n",
              " 'FDM36': 11.65,\n",
              " 'FDS44': 12.65,\n",
              " 'NCP06': 20.7,\n",
              " 'FDE33': 19.35,\n",
              " 'FDU14': 17.75,\n",
              " 'FDZ25': 15.7,\n",
              " 'FDQ57': 7.275,\n",
              " 'NCX29': 10.0,\n",
              " 'FDE50': 19.7,\n",
              " 'NCG43': 20.2,\n",
              " 'FDR23': 15.85,\n",
              " 'FDS52': 8.89,\n",
              " 'DRF23': 4.61,\n",
              " 'DRK37': 5.0,\n",
              " 'FDW08': 12.1,\n",
              " 'FDC21': 14.6,\n",
              " 'FDC35': 7.435,\n",
              " 'DRC36': 13.0,\n",
              " 'FDZ38': 17.6,\n",
              " 'FDL13': 13.85,\n",
              " 'NCB43': 20.2,\n",
              " 'FDK10': 5.785,\n",
              " 'FDD20': 14.15,\n",
              " 'NCM54': 17.7,\n",
              " 'FDI44': 16.1,\n",
              " 'FDB21': 7.475,\n",
              " 'NCM05': 6.825,\n",
              " 'FDA49': 19.7,\n",
              " 'FDY52': 6.365,\n",
              " 'FDL02': 20.0,\n",
              " 'FDJ02': 17.2,\n",
              " 'FDT46': 11.35,\n",
              " 'FDM21': 20.2,\n",
              " 'FDH26': 19.25,\n",
              " 'FDN04': 11.8,\n",
              " 'FDY36': 12.3,\n",
              " 'FDF21': 10.3,\n",
              " 'FDD46': 6.035,\n",
              " 'FDO34': 17.7,\n",
              " 'FDH57': 10.895,\n",
              " 'FDK45': 11.65,\n",
              " 'DRH01': 17.5,\n",
              " 'DRH37': 17.6,\n",
              " 'FDG46': 8.63,\n",
              " 'DRH49': 19.7,\n",
              " 'FDW45': 18.0,\n",
              " 'FDK08': 9.195,\n",
              " 'FDA51': 8.05,\n",
              " 'DRE37': 13.5,\n",
              " 'NCW29': 14.0,\n",
              " 'DRF03': 19.1,\n",
              " 'NCO41': 12.5,\n",
              " 'FDZ33': 10.195,\n",
              " 'FDI04': 13.65,\n",
              " 'FDY56': 16.35,\n",
              " 'NCR41': 17.85,\n",
              " 'FDK43': 9.8,\n",
              " 'FDR48': 11.65,\n",
              " 'FDW37': 19.2,\n",
              " 'FDO23': 17.85,\n",
              " 'NCQ41': 14.8,\n",
              " 'FDU20': 19.35,\n",
              " 'NCK29': 5.615,\n",
              " 'FDR32': 6.78,\n",
              " 'FDG31': 12.15,\n",
              " 'FDI19': 15.1,\n",
              " 'FDQ56': 6.59,\n",
              " 'DRM37': 15.35,\n",
              " 'NCZ17': 12.15,\n",
              " 'FDA04': 11.3,\n",
              " 'DRG49': 7.81,\n",
              " 'FDR51': 9.035,\n",
              " 'NCF19': 13.0,\n",
              " 'FDQ03': 15.0,\n",
              " 'FDR46': 16.85,\n",
              " 'FDP23': 6.71,\n",
              " 'FDE16': 8.895,\n",
              " 'NCI54': 15.2,\n",
              " 'FDZ20': 16.1,\n",
              " 'FDW38': 5.325,\n",
              " 'FDY33': 14.5,\n",
              " 'NCX05': 15.2,\n",
              " 'FDZ50': 12.8,\n",
              " 'DRH51': 17.6,\n",
              " 'FDN20': 19.35,\n",
              " 'FDS01': 11.6,\n",
              " 'FDW34': 9.6,\n",
              " 'FDL20': 17.1,\n",
              " 'NCB31': 6.235,\n",
              " 'FDW55': 12.6,\n",
              " 'NCT29': 12.6,\n",
              " 'NCM18': 13.0,\n",
              " 'FDE45': 12.1,\n",
              " 'FDP24': 20.6,\n",
              " 'FDL09': 19.6,\n",
              " 'FDT22': 10.395,\n",
              " 'FDF16': 7.3,\n",
              " 'FDD52': 18.25,\n",
              " 'FDD16': 20.5,\n",
              " 'FDH32': 12.8,\n",
              " 'FDD50': 18.85,\n",
              " 'FDW20': 20.75,\n",
              " 'FDT55': 13.6,\n",
              " 'FDG29': 17.6,\n",
              " 'FDA16': 6.695,\n",
              " 'NCQ06': 13.0,\n",
              " 'FDG16': 15.25,\n",
              " 'FDZ40': 8.935,\n",
              " 'NCM17': 7.93,\n",
              " 'NCX30': 16.7,\n",
              " 'FDL12': 15.85,\n",
              " 'FDW11': 12.6,\n",
              " 'FDZ59': 6.63,\n",
              " 'FDB57': 20.25,\n",
              " 'FDI46': 9.5,\n",
              " 'DRC25': 5.73,\n",
              " 'FDP25': 15.2,\n",
              " 'NCY05': 13.5,\n",
              " 'NCL05': 19.6,\n",
              " 'FDC28': 7.905,\n",
              " 'FDI57': 19.85,\n",
              " 'DRL11': 10.5,\n",
              " 'FDY09': 15.6,\n",
              " 'FDU36': 6.15,\n",
              " 'FDW36': 11.15,\n",
              " 'FDA10': 20.35,\n",
              " 'FDZ58': 17.85,\n",
              " 'FDW56': 7.68,\n",
              " 'FDH21': 10.395,\n",
              " 'NCZ54': 14.65,\n",
              " 'FDD29': 12.15,\n",
              " 'FDJ10': 5.095,\n",
              " 'DRK49': 14.15,\n",
              " 'FDW32': 18.35,\n",
              " 'FDL39': 16.1,\n",
              " 'FDH52': 9.42,\n",
              " 'FDB58': 10.5,\n",
              " 'NCK06': 5.03,\n",
              " 'NCQ42': 20.35,\n",
              " 'FDM14': 13.8,\n",
              " 'NCV06': 11.3,\n",
              " 'DRF25': 9.0,\n",
              " 'DRJ47': 18.25,\n",
              " 'FDZ43': 11.0,\n",
              " 'FDW26': 11.8,\n",
              " 'FDQ12': 12.65,\n",
              " 'FDV46': 18.2,\n",
              " 'FDM28': 15.7,\n",
              " 'NCT17': 10.8,\n",
              " 'NCY29': 13.65,\n",
              " 'FDA38': 5.44,\n",
              " 'FDW21': 5.34,\n",
              " 'FDG44': 6.13,\n",
              " 'FDQ36': 7.855,\n",
              " 'FDE41': 9.195,\n",
              " 'NCO42': 21.25,\n",
              " 'NCZ53': 9.6,\n",
              " 'NCB18': 19.6,\n",
              " 'FDZ45': 14.1,\n",
              " 'FDU55': 16.2,\n",
              " 'FDO25': 6.3,\n",
              " 'FDF40': 20.25,\n",
              " 'FDR55': 12.15,\n",
              " 'NCS06': 7.935,\n",
              " 'FDT09': 15.15,\n",
              " 'FDL52': 6.635,\n",
              " 'FDK02': 12.5,\n",
              " 'FDQ25': 8.63,\n",
              " 'NCI31': 20.0,\n",
              " 'NCJ42': 19.75,\n",
              " 'FDH10': 21.0,\n",
              " 'FDY47': 8.6,\n",
              " 'FDU38': 10.8,\n",
              " 'FDV09': 12.1,\n",
              " 'FDG40': 13.65,\n",
              " 'FDY21': 15.1,\n",
              " 'FDH09': 12.6,\n",
              " 'FDC57': 20.1,\n",
              " 'FDQ27': 5.19,\n",
              " 'FDE32': 20.7,\n",
              " 'FDN02': 16.5,\n",
              " 'FDC02': 21.35,\n",
              " 'DRI23': 18.85,\n",
              " 'NCJ05': 18.7,\n",
              " 'FDU01': 20.25,\n",
              " 'FDE10': 6.67,\n",
              " 'NCK05': 20.1,\n",
              " 'DRG23': 8.88,\n",
              " 'FDV07': 9.5,\n",
              " 'FDV38': 19.25,\n",
              " 'DRJ24': 11.8,\n",
              " 'FDA02': 14.0,\n",
              " 'FDH33': 12.85,\n",
              " 'DRG48': 5.78,\n",
              " 'FDE08': 18.2,\n",
              " 'NCM07': 9.395,\n",
              " 'FDY35': 17.6,\n",
              " 'FDS28': 8.18,\n",
              " 'FDA47': 10.5,\n",
              " 'FDC45': 17.0,\n",
              " 'NCA06': 20.5,\n",
              " 'FDD05': 19.35,\n",
              " 'NCE54': 20.7,\n",
              " 'DRJ59': 11.65,\n",
              " 'DRH13': 8.575,\n",
              " 'FDL04': 19.0,\n",
              " 'FDU21': 11.8,\n",
              " 'DRZ24': 7.535,\n",
              " 'DRB25': 12.3,\n",
              " 'FDX03': 15.85,\n",
              " 'FDG02': 7.855,\n",
              " 'FDV21': 11.5,\n",
              " 'FDZ52': 19.2,\n",
              " 'FDL16': 12.85,\n",
              " 'FDG60': 20.35,\n",
              " 'FDQ13': 11.1,\n",
              " 'FDA36': 5.985,\n",
              " 'FDQ34': 10.85,\n",
              " 'FDJ55': 12.8,\n",
              " 'FDV51': 16.35,\n",
              " 'FDP11': 15.85,\n",
              " 'NCN43': 12.15,\n",
              " 'FDF20': 12.85,\n",
              " 'NCE07': 8.18,\n",
              " 'FDI16': 14.0,\n",
              " 'FDQ23': 6.55,\n",
              " 'FDW09': 13.65,\n",
              " 'FDF12': 8.235,\n",
              " 'NCJ31': 19.2,\n",
              " 'NCL53': 7.5,\n",
              " 'FDF57': 14.5,\n",
              " 'FDW59': 13.15,\n",
              " 'FDH17': 16.2,\n",
              " 'FDH50': 15.0,\n",
              " 'NCV41': 14.35,\n",
              " 'FDY60': 10.5,\n",
              " 'FDP51': 13.85,\n",
              " 'FDE09': 8.775,\n",
              " 'FDU25': 12.35,\n",
              " 'DRD25': 6.135,\n",
              " 'FDR31': 6.46,\n",
              " 'FDT07': 5.82,\n",
              " 'DRL01': 19.5,\n",
              " 'FDY08': 9.395,\n",
              " 'FDP38': 10.1,\n",
              " 'FDL40': 17.7,\n",
              " 'FDH05': 14.35,\n",
              " 'NCO55': 12.8,\n",
              " 'FDM15': 11.8,\n",
              " 'FDS16': 15.15,\n",
              " 'FDW02': 4.805,\n",
              " 'FDS31': 13.1,\n",
              " 'DRA24': 19.35,\n",
              " 'FDA28': 16.1,\n",
              " 'FDA50': 16.25,\n",
              " 'FDM27': 12.35,\n",
              " 'FDL33': 7.235,\n",
              " 'FDV08': 7.35,\n",
              " 'FDJ14': 10.3,\n",
              " 'NCR05': 10.1,\n",
              " 'DRC01': 5.92,\n",
              " 'FDX28': 6.325,\n",
              " 'NCX18': 14.15,\n",
              " 'FDN57': 18.25,\n",
              " 'FDS27': 10.195,\n",
              " 'FDU08': 10.3,\n",
              " 'FDT56': 16.0,\n",
              " 'DRD15': 10.6,\n",
              " 'FDA57': 18.85,\n",
              " 'DRK13': 11.8,\n",
              " 'FDL57': 15.1,\n",
              " 'FDG56': 13.3,\n",
              " 'FDQ22': 16.75,\n",
              " 'FDT16': 9.895,\n",
              " 'DRG01': 14.8,\n",
              " 'FDU57': 8.27,\n",
              " 'FDF24': 15.5,\n",
              " 'DRJ39': 20.25,\n",
              " 'FDB04': 11.35,\n",
              " 'FDK24': 9.195,\n",
              " 'NCN53': 5.175,\n",
              " 'NCL41': 12.35,\n",
              " 'NCM30': 19.1,\n",
              " 'DRK23': 8.395,\n",
              " 'FDB32': 20.6,\n",
              " 'DRD24': 13.85,\n",
              " 'FDY02': 8.945,\n",
              " 'FDK20': 12.6,\n",
              " 'FDV03': 17.6,\n",
              " 'FDH08': 7.51,\n",
              " 'FDD41': 6.765,\n",
              " 'FDJ28': 12.3,\n",
              " 'FDO32': 6.36,\n",
              " 'FDZ32': 7.785,\n",
              " 'NCP50': 17.35,\n",
              " 'FDX35': 5.035,\n",
              " 'NCP42': 8.51,\n",
              " 'FDW31': 11.35,\n",
              " 'FDU35': 6.44,\n",
              " 'FDP39': 12.65,\n",
              " 'NCG07': 12.3,\n",
              " 'FDP58': 11.1,\n",
              " 'FDX56': 17.1,\n",
              " 'FDW48': 18.0,\n",
              " 'FDW15': 15.35,\n",
              " 'NCR50': 20.2,\n",
              " 'NCB07': 19.2,\n",
              " 'FDD59': 10.5,\n",
              " 'FDH48': 13.5,\n",
              " 'FDJ07': 7.26,\n",
              " 'FDX47': 6.55,\n",
              " 'FDF34': 9.3,\n",
              " 'FDK03': 12.6,\n",
              " 'NCL07': 13.85,\n",
              " 'FDZ44': 8.185,\n",
              " 'FDU32': 8.785,\n",
              " 'NCB06': 17.6,\n",
              " 'FDP45': 15.7,\n",
              " 'FDU27': 18.6,\n",
              " 'FDM44': 12.5,\n",
              " 'FDZ48': 17.75,\n",
              " 'FDK41': 14.3,\n",
              " 'FDD57': 18.1,\n",
              " 'FDJ21': 16.7,\n",
              " 'FDG12': 6.635,\n",
              " 'NCT30': 9.1,\n",
              " 'FDR47': 17.85,\n",
              " 'NCK42': 7.475,\n",
              " 'FDU26': 16.7,\n",
              " 'FDO45': 13.15,\n",
              " 'FDL26': 18.0,\n",
              " 'FDK25': 11.6,\n",
              " 'FDT40': 5.985,\n",
              " 'FDE28': 9.5,\n",
              " 'FDS12': 9.1,\n",
              " 'FDL44': 18.25,\n",
              " 'FDT51': 11.65,\n",
              " 'NCF31': 9.13,\n",
              " 'FDT50': 6.75,\n",
              " 'FDL45': 15.6,\n",
              " 'NCB19': 6.525,\n",
              " 'FDN27': 20.85,\n",
              " 'NCC19': 6.57,\n",
              " 'NCL54': 12.6,\n",
              " 'NCM43': 14.5,\n",
              " 'DRH23': 14.65,\n",
              " 'FDQ33': 13.35,\n",
              " 'FDY16': 18.35,\n",
              " 'DRN47': 12.1,\n",
              " 'FDD40': 20.25,\n",
              " 'FDW25': 5.175,\n",
              " 'NCE19': 8.97,\n",
              " 'FDU33': 7.63,\n",
              " 'NCL55': 12.15,\n",
              " 'FDJ48': 11.3,\n",
              " 'FDO50': 16.25,\n",
              " 'FDX37': 16.2,\n",
              " 'DRM48': 15.2,\n",
              " 'FDF46': 7.07,\n",
              " 'FDP52': 18.7,\n",
              " 'FDF52': 9.3,\n",
              " 'FDD53': 16.2,\n",
              " 'FDN34': 15.6,\n",
              " 'DRK59': 8.895,\n",
              " 'FDG17': 6.865,\n",
              " 'NCH42': 6.86,\n",
              " 'FDQ10': 12.85,\n",
              " 'DRB01': 7.39,\n",
              " 'NCZ18': 7.825,\n",
              " 'FDZ14': 7.71,\n",
              " 'FDR35': 12.5,\n",
              " 'FDT58': 9.0,\n",
              " 'FDN13': 18.6,\n",
              " 'FDT11': 5.94,\n",
              " 'NCC18': 19.1,\n",
              " 'FDV27': 7.97,\n",
              " 'FDU51': 20.2,\n",
              " 'NCK18': 9.6,\n",
              " 'NCC07': 19.6,\n",
              " 'FDK09': 15.2,\n",
              " 'FDZ60': 20.5,\n",
              " 'FDA44': 19.7,\n",
              " 'FDV32': 7.785,\n",
              " 'FDK32': 16.25,\n",
              " 'FDQ48': 14.3,\n",
              " 'FDQ52': 17.0,\n",
              " 'FDB23': 19.2,\n",
              " 'NCP05': 19.6,\n",
              " 'FDV49': 10.0,\n",
              " 'FDV15': 10.3,\n",
              " 'FDV23': 11.0,\n",
              " 'FDZ26': 11.6,\n",
              " 'FDX22': 6.785,\n",
              " 'FDW13': 8.5,\n",
              " 'NCO30': 19.5,\n",
              " 'DRG27': 8.895,\n",
              " 'FDN08': 7.72,\n",
              " 'DRH15': 8.775,\n",
              " 'DRJ23': 18.35,\n",
              " 'FDD26': 8.71,\n",
              " 'FDJ32': 10.695,\n",
              " 'FDI15': 13.8,\n",
              " 'FDG05': 11.0,\n",
              " 'FDT19': 7.59,\n",
              " 'FDL36': 15.1,\n",
              " 'FDG14': 9.0,\n",
              " 'NCJ06': 20.1,\n",
              " 'FDB52': 17.75,\n",
              " 'FDA26': 7.855,\n",
              " 'FDO15': 16.75,\n",
              " 'FDG35': 21.2,\n",
              " 'NCH54': 13.5,\n",
              " 'FDU24': 6.78,\n",
              " 'FDQ39': 14.8,\n",
              " 'NCQ18': 15.75,\n",
              " 'NCI18': 18.35,\n",
              " 'NCS05': 11.5,\n",
              " 'FDU19': 8.77,\n",
              " 'DRH39': 20.7,\n",
              " 'FDE58': 18.5,\n",
              " 'FDF05': 17.5,\n",
              " 'FDA19': 7.52,\n",
              " 'FDP31': 21.1,\n",
              " 'FDC59': 16.7,\n",
              " 'DRI01': 7.97,\n",
              " 'FDG04': 13.1,\n",
              " 'FDF58': 13.3,\n",
              " 'FDZ21': 17.6,\n",
              " 'FDC47': 15.0,\n",
              " 'FDL48': 19.35,\n",
              " 'FDN03': 9.8,\n",
              " 'FDC60': 5.425,\n",
              " 'DRZ11': 8.85,\n",
              " 'FDY07': 11.8,\n",
              " 'FDZ56': 16.25,\n",
              " 'NCY18': 7.285,\n",
              " 'FDI33': 16.5,\n",
              " 'FDR15': 9.3,\n",
              " 'FDP60': 17.35,\n",
              " 'FDZ15': 13.1,\n",
              " 'FDD38': 16.75,\n",
              " 'FDB14': 20.25,\n",
              " 'FDO27': 6.175,\n",
              " 'FDB49': 8.3,\n",
              " 'FDR08': 18.7,\n",
              " 'FDQ51': 16.0,\n",
              " 'FDY55': 16.75,\n",
              " 'FDP33': 18.7,\n",
              " 'NCU17': 5.32,\n",
              " 'NCG30': 20.2,\n",
              " 'NCR29': 7.565,\n",
              " 'FDP40': 4.555,\n",
              " 'FDE11': 17.7,\n",
              " 'FDO39': 6.985,\n",
              " 'FDG32': 19.85,\n",
              " 'FDU50': 5.75,\n",
              " 'FDP46': 15.35,\n",
              " 'FDC20': 10.65,\n",
              " 'FDI56': 7.325,\n",
              " 'NCR17': 9.8,\n",
              " 'FDT57': 15.2,\n",
              " 'FDS43': 11.65,\n",
              " 'FDZ37': 8.1,\n",
              " 'FDO13': 7.865,\n",
              " 'FDS25': 6.885,\n",
              " 'NCQ30': 7.725,\n",
              " 'FDL34': 16.0,\n",
              " 'FDA07': 7.55,\n",
              " 'FDZ16': 16.85,\n",
              " 'FDN09': 14.15,\n",
              " 'DRG03': 14.5,\n",
              " 'FDC44': 15.6,\n",
              " 'NCU42': 9.0,\n",
              " 'FDY34': 10.5,\n",
              " 'NCZ30': 6.59,\n",
              " 'FDN10': 11.5,\n",
              " 'FDS13': 6.465,\n",
              " 'FDO10': 13.65,\n",
              " 'FDU23': 12.15,\n",
              " 'FDQ40': 11.1,\n",
              " 'FDB17': 13.15,\n",
              " 'NCL31': 7.39,\n",
              " 'NCQ50': 18.75,\n",
              " 'FDB05': 5.155,\n",
              " 'FDX04': 19.6,\n",
              " 'FDQ20': 8.325,\n",
              " 'DRI03': 6.03,\n",
              " 'FDK34': 13.35,\n",
              " 'NCH06': 12.3,\n",
              " 'FDN23': 6.575,\n",
              " 'FDY48': 14.0,\n",
              " 'FDT20': 10.5,\n",
              " 'FDP04': 15.35,\n",
              " 'FDQ11': 5.695,\n",
              " 'NCH43': 8.42,\n",
              " 'FDN33': 6.305,\n",
              " 'FDT47': 5.26,\n",
              " 'NCN29': 15.2,\n",
              " 'NCF42': 17.35,\n",
              " 'DRE49': 20.75,\n",
              " 'FDO03': 10.395,\n",
              " 'FDQ31': 5.785,\n",
              " 'NCS29': 9.0,\n",
              " 'FDK04': 7.36,\n",
              " 'DRE15': 13.35,\n",
              " 'FDB08': 6.055,\n",
              " 'NCT53': 5.4,\n",
              " 'FDP21': 7.42,\n",
              " 'NCJ43': 6.635,\n",
              " 'NCW41': 18.0,\n",
              " 'NCO05': 7.27,\n",
              " 'FDF33': 7.97,\n",
              " 'DRN59': 15.0,\n",
              " 'FDN44': 13.15,\n",
              " 'NCG54': 12.1,\n",
              " 'NCW42': 18.2,\n",
              " 'FDI20': 19.1,\n",
              " 'FDE57': 9.6,\n",
              " 'FDS08': 5.735,\n",
              " 'FDU39': 18.85,\n",
              " 'FDF26': 6.825,\n",
              " 'DRC49': 8.67,\n",
              " 'FDB36': 5.465,\n",
              " 'DRF49': 7.27,\n",
              " 'NCO14': 9.6,\n",
              " 'FDR45': 10.8,\n",
              " 'FDR01': 5.405,\n",
              " 'FDS39': 6.895,\n",
              " 'FDB02': 9.695,\n",
              " 'FDX24': 8.355,\n",
              " 'FDS34': 19.35,\n",
              " 'NCD43': 8.85,\n",
              " 'FDN01': 8.895,\n",
              " 'NCD31': 12.1,\n",
              " 'FDU52': 7.56,\n",
              " 'NCR30': 20.6,\n",
              " 'FDF29': 15.1,\n",
              " 'FDD39': 16.7,\n",
              " 'FDP09': 19.75,\n",
              " 'DRJ37': 10.8,\n",
              " 'DRD12': 6.96,\n",
              " 'FDH02': 7.27,\n",
              " 'FDR09': 18.25,\n",
              " 'NCJ19': 18.6,\n",
              " 'DRH11': 5.98,\n",
              " 'FDP56': 8.185,\n",
              " 'DRF01': 5.655,\n",
              " 'FDY13': 12.1,\n",
              " 'FDC32': 18.35,\n",
              " 'FDY04': 17.7,\n",
              " 'FDC29': 8.39,\n",
              " 'FDN25': 7.895,\n",
              " 'FDV43': 16.0,\n",
              " 'FDK58': 11.35,\n",
              " 'FDM20': 10.0,\n",
              " 'FDT36': 12.3,\n",
              " 'FDA46': 13.6,\n",
              " 'FDS21': 19.85,\n",
              " 'FDR14': 11.65,\n",
              " 'FDG22': 17.6,\n",
              " 'FDB40': 17.5,\n",
              " 'FDD51': 11.15,\n",
              " 'FDU12': 15.5,\n",
              " 'NCI06': 11.3,\n",
              " 'FDV26': 20.25,\n",
              " 'FDG21': 17.35,\n",
              " 'FDW52': 14.0,\n",
              " 'FDN24': 14.1,\n",
              " 'NCH55': 16.35,\n",
              " 'FDQ19': 7.35,\n",
              " 'FDK40': 7.035,\n",
              " 'FDV45': 16.75,\n",
              " 'FDK33': 17.85,\n",
              " 'FDU58': 6.61,\n",
              " 'NCG18': 15.3,\n",
              " 'FDQ26': 13.5,\n",
              " 'DRL47': 19.7,\n",
              " 'FDM34': 19.0,\n",
              " 'NCS53': 14.5,\n",
              " 'FDH60': 19.7,\n",
              " 'FDK48': 7.445,\n",
              " 'NCH07': 13.15,\n",
              " 'NCR18': 15.85,\n",
              " 'FDS48': 15.15,\n",
              " 'FDF44': 7.17,\n",
              " 'FDE46': 18.6,\n",
              " 'FDQ09': 7.235,\n",
              " 'NCK53': 11.6,\n",
              " 'FDW22': 9.695,\n",
              " 'FDV16': 7.75,\n",
              " 'NCS54': 13.6,\n",
              " 'FDJ33': 8.895,\n",
              " 'FDK16': 9.065,\n",
              " 'FDB22': 8.02,\n",
              " 'FDQ59': 9.8,\n",
              " 'FDR52': 12.65,\n",
              " 'FDT26': 18.85,\n",
              " 'FDX57': 17.25,\n",
              " 'FDA55': 17.2,\n",
              " 'FDQ45': 9.5,\n",
              " 'FDE51': 5.925,\n",
              " 'FDE02': 8.71,\n",
              " 'NCD55': 14.0,\n",
              " 'DRM23': 16.6,\n",
              " 'FDK26': 5.46,\n",
              " 'FDJ58': 15.6,\n",
              " 'FDY59': 8.195,\n",
              " 'FDT08': 13.65,\n",
              " 'FDI10': 8.51,\n",
              " 'FDZ35': 9.6,\n",
              " 'FDO28': 5.765,\n",
              " 'NCY06': 15.25,\n",
              " 'FDD33': 12.85,\n",
              " 'NCP02': 7.105,\n",
              " 'FDS47': 16.75,\n",
              " 'FDX01': 10.1,\n",
              " 'FDC53': 8.68,\n",
              " 'FDQ32': 17.85,\n",
              " 'FDS57': 15.5,\n",
              " 'NCQ38': 16.35,\n",
              " 'DRK11': 8.21,\n",
              " 'DRE48': 8.43,\n",
              " 'FDM22': 14.0,\n",
              " 'NCU29': 7.685,\n",
              " 'FDZ02': 6.905,\n",
              " 'FDR19': 13.5,\n",
              " 'FDA39': 6.32,\n",
              " 'FDB56': 8.75,\n",
              " 'FDA13': 15.85,\n",
              " 'FDF28': 15.7,\n",
              " 'FDA11': 7.75,\n",
              " 'DRL37': 15.5,\n",
              " 'FDD35': 12.15,\n",
              " 'FDH41': 9.0,\n",
              " 'FDY10': 17.6,\n",
              " 'FDS55': 7.02,\n",
              " 'FDC34': 16.0,\n",
              " 'FDO31': 6.76,\n",
              " 'FDP27': 8.155,\n",
              " 'DRI39': 13.8,\n",
              " 'FDF56': 16.7,\n",
              " 'FDB44': 6.655,\n",
              " 'FDC52': 11.15,\n",
              " 'FDS40': 15.35,\n",
              " 'FDI22': 12.6,\n",
              " 'FDZ31': 15.35,\n",
              " 'FDB37': 20.25,\n",
              " 'FDB45': 20.85,\n",
              " 'FDC08': 19.0,\n",
              " 'FDA43': 10.895,\n",
              " 'NCT06': 17.1,\n",
              " 'FDH56': 9.8,\n",
              " 'FDK51': 19.85,\n",
              " 'FDB33': 17.75,\n",
              " 'NCE30': 16.0,\n",
              " 'FDQ55': 13.65,\n",
              " 'FDT14': 10.695,\n",
              " 'NCA42': 6.965,\n",
              " 'FDG08': 13.15,\n",
              " 'FDH31': 12.0,\n",
              " 'FDA20': 6.78,\n",
              " 'FDK36': 7.09,\n",
              " 'NCP55': 14.65,\n",
              " 'FDO56': 10.195,\n",
              " 'FDX45': 16.75,\n",
              " 'NCB42': 11.8,\n",
              " 'DRK39': 7.02,\n",
              " 'DRI59': 9.5,\n",
              " 'FDE29': 8.905,\n",
              " 'NCO02': 11.15,\n",
              " 'FDT15': 12.15,\n",
              " 'FDQ07': 15.1,\n",
              " 'NCM06': 7.475,\n",
              " 'FDL15': 17.85,\n",
              " 'FDO37': 8.06,\n",
              " 'FDS23': 4.635,\n",
              " 'FDJ44': 12.3,\n",
              " 'FDG10': 6.63,\n",
              " 'NCD54': 21.1,\n",
              " 'FDE35': 7.06,\n",
              " 'FDP49': 9.0,\n",
              " 'NCQ05': 11.395,\n",
              " 'FDN56': 5.46,\n",
              " 'DRA59': 8.27,\n",
              " 'FDE24': 14.85,\n",
              " 'FDZ55': 6.055,\n",
              " 'FDU46': 10.3,\n",
              " 'FDM01': 7.895,\n",
              " 'NCI29': 8.6,\n",
              " 'FDO40': 17.1,\n",
              " 'FDE21': 12.8,\n",
              " 'FDO38': 17.25,\n",
              " 'NCA05': 20.75,\n",
              " 'FDM24': 6.135,\n",
              " 'FDH34': 8.63,\n",
              " 'FDR24': 17.35,\n",
              " 'FDW51': 6.155,\n",
              " 'FDZ19': 6.425,\n",
              " 'FDB35': 12.3,\n",
              " 'FDG34': 11.5,\n",
              " 'FDV19': 14.85,\n",
              " 'FDK52': 18.25,\n",
              " 'FDD04': 16.0,\n",
              " 'FDO24': 11.1,\n",
              " 'FDX50': 20.1,\n",
              " 'FDR44': 6.11,\n",
              " 'NCO06': 19.25,\n",
              " 'FDA22': 7.435,\n",
              " 'FDL28': 10.0,\n",
              " 'FDJ46': 11.1,\n",
              " 'NCD42': 16.5,\n",
              " 'FDJ53': 10.5,\n",
              " 'FDF41': 12.15,\n",
              " 'FDK44': 16.6,\n",
              " 'FDZ39': 19.7,\n",
              " 'FDU28': 19.2,\n",
              " 'FDX38': 10.5,\n",
              " 'FDR21': 19.7,\n",
              " 'NCX54': 9.195,\n",
              " 'FDS11': 7.05,\n",
              " 'FDN38': 6.615,\n",
              " 'NCW18': 15.1,\n",
              " 'DRG36': 14.15,\n",
              " 'FDA56': 9.21,\n",
              " 'NCQ53': 17.6,\n",
              " 'NCO29': 11.15,\n",
              " 'NCQ29': 12.0,\n",
              " 'FDR40': 9.1,\n",
              " 'FDB59': 18.25,\n",
              " 'FDM58': 16.85,\n",
              " 'FDQ14': 9.27,\n",
              " 'FDG52': 13.65,\n",
              " 'NCM26': 20.5,\n",
              " 'FDK38': 6.65,\n",
              " 'FDU43': 19.35,\n",
              " 'FDC48': 9.195,\n",
              " 'NCT42': 5.88,\n",
              " 'FDI50': 8.42,\n",
              " 'FDY38': 13.6,\n",
              " 'FDN50': 16.85,\n",
              " 'FDT49': 7.0,\n",
              " 'FDA52': 16.2,\n",
              " 'FDW47': 15.0,\n",
              " 'DRL35': 15.7,\n",
              " 'DRF36': 16.1,\n",
              " 'DRH36': 16.2,\n",
              " 'FDI32': 17.7,\n",
              " 'FDR25': 17.0,\n",
              " 'FDX39': 14.3,\n",
              " 'FDX52': 11.5,\n",
              " 'DRI25': 19.6,\n",
              " 'FDI21': 5.59,\n",
              " 'FDN32': 17.5,\n",
              " 'DRM35': 9.695,\n",
              " 'FDA15': 9.3,\n",
              " 'FDT13': 14.85,\n",
              " 'FDC50': 15.85,\n",
              " 'NCV05': 10.1,\n",
              " 'FDT60': 12.0,\n",
              " 'NCU06': 17.6,\n",
              " 'FDB27': 7.575,\n",
              " 'FDZ49': 11.0,\n",
              " 'NCV30': 20.2,\n",
              " 'FDM10': 18.25,\n",
              " 'NCU18': 15.1,\n",
              " 'FDH45': 15.1,\n",
              " 'FDP34': 12.85,\n",
              " 'DRO59': 11.8,\n",
              " 'FDJ57': 7.42,\n",
              " 'FDY44': 14.15,\n",
              " 'FDK28': 5.695,\n",
              " 'FDB39': 11.6,\n",
              " 'NCM29': 11.5,\n",
              " 'FDY27': 6.38,\n",
              " 'FDY03': 17.6,\n",
              " 'FDI07': 12.35,\n",
              " 'FDB41': 19.0,\n",
              " 'FDV10': 7.645,\n",
              " 'DRG37': 16.2,\n",
              " 'FDX13': 7.725,\n",
              " 'NCI17': 8.645,\n",
              " 'FDR27': 15.1,\n",
              " 'NCY41': 16.75,\n",
              " 'NCI42': 18.75,\n",
              " 'FDY46': 18.6,\n",
              " 'NCA53': 11.395,\n",
              " 'FDN15': 17.5,\n",
              " 'NCN19': 13.1,\n",
              " 'FDO46': 9.6,\n",
              " 'FDK22': 9.8,\n",
              " 'NCY54': 8.43,\n",
              " 'FDD58': 7.76,\n",
              " 'NCY53': 20.0,\n",
              " 'NCD18': 16.0,\n",
              " 'NCS38': 8.6,\n",
              " 'NCJ18': 12.35,\n",
              " 'FDP59': 20.85,\n",
              " 'FDU11': 4.785,\n",
              " 'FDY51': 12.5,\n",
              " 'FDL32': 15.7,\n",
              " 'NCH30': 17.1,\n",
              " 'FDW04': 8.985,\n",
              " 'NCP29': 8.42,\n",
              " 'FDV55': 17.75,\n",
              " 'FDV47': 17.1,\n",
              " 'FDP26': 7.785,\n",
              " 'FDM03': 12.65,\n",
              " 'FDU07': 11.1,\n",
              " 'FDS51': 13.35,\n",
              " 'FDH14': 17.1,\n",
              " 'NCF18': 18.35,\n",
              " 'FDT21': 7.42,\n",
              " 'NCP30': 20.5,\n",
              " 'FDY26': 20.6,\n",
              " 'FDZ23': 17.75,\n",
              " 'NCE42': 21.1,\n",
              " 'NCH18': 9.3,\n",
              " 'FDV28': 16.1,\n",
              " 'FDU59': 5.78,\n",
              " 'FDH12': 9.6,\n",
              " 'FDA08': 11.85,\n",
              " 'FDW16': 17.35,\n",
              " 'FDW07': 18.0,\n",
              " ...}"
            ]
          },
          "metadata": {},
          "execution_count": 202
        }
      ]
    },
    {
      "cell_type": "code",
      "source": [
        "train[train['Item_Weight'].isna()].index"
      ],
      "metadata": {
        "colab": {
          "base_uri": "https://localhost:8080/"
        },
        "id": "5gKayUOOTBbA",
        "outputId": "96b6ed48-da9d-4f68-d4d6-f49fe7c0b001"
      },
      "execution_count": 203,
      "outputs": [
        {
          "output_type": "execute_result",
          "data": {
            "text/plain": [
              "Int64Index([   7,   18,   21,   23,   29,   36,   38,   39,   49,   59,\n",
              "            ...\n",
              "            8458, 8463, 8469, 8472, 8480, 8485, 8487, 8488, 8490, 8504],\n",
              "           dtype='int64', length=1463)"
            ]
          },
          "metadata": {},
          "execution_count": 203
        }
      ]
    },
    {
      "cell_type": "code",
      "source": [
        "item_with_fullNull=[]\n",
        "for i in train[train['Item_Weight'].isna()].index:\n",
        "  row=train.iloc[[i]]\n",
        "  z=row['Item_Identifier'].values\n",
        "  if(item_id_Weight_dict.get(z[0])):\n",
        "    train.loc[i,'Item_Weight'] = item_id_Weight_dict[z[0]]\n",
        "  else:\n",
        "    item_with_fullNull.append(z)"
      ],
      "metadata": {
        "id": "X_7xrXOVTlmU"
      },
      "execution_count": 204,
      "outputs": []
    },
    {
      "cell_type": "code",
      "source": [
        "item_with_fullNull"
      ],
      "metadata": {
        "colab": {
          "base_uri": "https://localhost:8080/"
        },
        "id": "nSK2VwKMbjF4",
        "outputId": "8e9a3bd7-4c49-4552-916a-bbcb7982d559"
      },
      "execution_count": 205,
      "outputs": [
        {
          "output_type": "execute_result",
          "data": {
            "text/plain": [
              "[array(['FDN52'], dtype=object),\n",
              " array(['FDK57'], dtype=object),\n",
              " array(['FDE52'], dtype=object),\n",
              " array(['FDQ60'], dtype=object)]"
            ]
          },
          "metadata": {},
          "execution_count": 205
        }
      ]
    },
    {
      "cell_type": "code",
      "source": [
        "sns.boxplot(train['Item_Weight'])"
      ],
      "metadata": {
        "colab": {
          "base_uri": "https://localhost:8080/",
          "height": 352
        },
        "id": "cRlzlsOuco4S",
        "outputId": "41409084-5d2f-4939-993d-5c7a2df60c02"
      },
      "execution_count": 206,
      "outputs": [
        {
          "output_type": "stream",
          "name": "stderr",
          "text": [
            "/usr/local/lib/python3.7/dist-packages/seaborn/_decorators.py:43: FutureWarning: Pass the following variable as a keyword arg: x. From version 0.12, the only valid positional argument will be `data`, and passing other arguments without an explicit keyword will result in an error or misinterpretation.\n",
            "  FutureWarning\n"
          ]
        },
        {
          "output_type": "execute_result",
          "data": {
            "text/plain": [
              "<matplotlib.axes._subplots.AxesSubplot at 0x7f3f5cf46790>"
            ]
          },
          "metadata": {},
          "execution_count": 206
        },
        {
          "output_type": "display_data",
          "data": {
            "text/plain": [
              "<Figure size 432x288 with 1 Axes>"
            ],
            "image/png": "[encoded data removed]"
          },
          "metadata": {
            "needs_background": "light"
          }
        }
      ]
    },
    {
      "cell_type": "code",
      "source": [
        "Item_Weight_Mean=train['Item_Weight'].mean()\n",
        "print(Item_Weight_Mean)\n",
        "train['Item_Weight']=train['Item_Weight'].fillna(Item_Weight_Mean)\n"
      ],
      "metadata": {
        "colab": {
          "base_uri": "https://localhost:8080/"
        },
        "id": "hxutwg7cb2co",
        "outputId": "95e9723b-ba56-4629-d8ec-0499cb7a4263"
      },
      "execution_count": 207,
      "outputs": [
        {
          "output_type": "stream",
          "name": "stdout",
          "text": [
            "12.875420237117032\n"
          ]
        }
      ]
    },
    {
      "cell_type": "code",
      "source": [
        "train.isna().sum()"
      ],
      "metadata": {
        "colab": {
          "base_uri": "https://localhost:8080/"
        },
        "id": "2NyXQVEFXFdr",
        "outputId": "f4f0d9a3-5574-4e70-ddf1-738e9eba8e1d"
      },
      "execution_count": 208,
      "outputs": [
        {
          "output_type": "execute_result",
          "data": {
            "text/plain": [
              "Item_Identifier              0\n",
              "Item_Weight                  0\n",
              "Item_Fat_Content             0\n",
              "Item_Visibility              0\n",
              "Item_Type                    0\n",
              "Item_MRP                     0\n",
              "Outlet_Identifier            0\n",
              "Outlet_Establishment_Year    0\n",
              "Outlet_Size                  0\n",
              "Outlet_Location_Type         0\n",
              "Outlet_Type                  0\n",
              "Item_Outlet_Sales            0\n",
              "dtype: int64"
            ]
          },
          "metadata": {},
          "execution_count": 208
        }
      ]
    },
    {
      "cell_type": "code",
      "source": [
        "sns.heatmap(train.corr())"
      ],
      "metadata": {
        "colab": {
          "base_uri": "https://localhost:8080/",
          "height": 409
        },
        "id": "M0RrV9KVd3MG",
        "outputId": "2b998690-0a32-4f40-9420-77d164b54ad0"
      },
      "execution_count": 209,
      "outputs": [
        {
          "output_type": "execute_result",
          "data": {
            "text/plain": [
              "<matplotlib.axes._subplots.AxesSubplot at 0x7f3f5d7e4690>"
            ]
          },
          "metadata": {},
          "execution_count": 209
        },
        {
          "output_type": "display_data",
          "data": {
            "text/plain": [
              "<Figure size 432x288 with 2 Axes>"
            ],
            "image/png": "[encoded data removed]"
          },
          "metadata": {
            "needs_background": "light"
          }
        }
      ]
    },
    {
      "cell_type": "code",
      "source": [
        "eval.isna().sum()"
      ],
      "metadata": {
        "colab": {
          "base_uri": "https://localhost:8080/"
        },
        "id": "HucZcRPefa4P",
        "outputId": "548409e3-8aea-4e9b-be58-f0c854c98b89"
      },
      "execution_count": 210,
      "outputs": [
        {
          "output_type": "execute_result",
          "data": {
            "text/plain": [
              "Item_Identifier                 0\n",
              "Item_Weight                   976\n",
              "Item_Fat_Content                0\n",
              "Item_Visibility                 0\n",
              "Item_Type                       0\n",
              "Item_MRP                        0\n",
              "Outlet_Identifier               0\n",
              "Outlet_Establishment_Year       0\n",
              "Outlet_Size                  1606\n",
              "Outlet_Location_Type            0\n",
              "Outlet_Type                     0\n",
              "dtype: int64"
            ]
          },
          "metadata": {},
          "execution_count": 210
        }
      ]
    },
    {
      "cell_type": "code",
      "source": [
        "OutletSize_Modes=eval['Outlet_Size'].mode()[0]\n",
        "eval['Outlet_Size']=eval['Outlet_Size'].fillna(OutletSize_Modes)"
      ],
      "metadata": {
        "id": "cFPo0Ac_gJns"
      },
      "execution_count": 211,
      "outputs": []
    },
    {
      "cell_type": "code",
      "source": [
        "Item_Identifier_list_eval=eval[eval['Item_Weight'].isna()]['Item_Identifier'].to_list()"
      ],
      "metadata": {
        "id": "DLSokgAogXRX"
      },
      "execution_count": 212,
      "outputs": []
    },
    {
      "cell_type": "code",
      "source": [
        "item_id_Weight_dict_evals={}\n",
        "for id in Item_Identifier_list_eval:\n",
        "  weights=eval[eval['Item_Identifier']==id]['Item_Weight'].dropna().to_list()\n",
        "  if weights:\n",
        "    item_id_Weight_dict_evals[id]=weights[0]"
      ],
      "metadata": {
        "id": "lGlVQnn8gqja"
      },
      "execution_count": 213,
      "outputs": []
    },
    {
      "cell_type": "code",
      "source": [
        "item_with_fullNulls=[]\n",
        "for i in eval[eval['Item_Weight'].isna()].index:\n",
        "  rows=eval.iloc[[i]]\n",
        "  z1=rows['Item_Identifier'].values\n",
        "  if(item_id_Weight_dict_evals.get(z1[0])):\n",
        "    eval.loc[i,'Item_Weight'] = item_id_Weight_dict_evals[z1[0]]\n",
        "  else:\n",
        "    item_with_fullNulls.append(z1)"
      ],
      "metadata": {
        "id": "lDw4F6KUhFjT"
      },
      "execution_count": 214,
      "outputs": []
    },
    {
      "cell_type": "code",
      "source": [
        "item_with_fullNulls"
      ],
      "metadata": {
        "colab": {
          "base_uri": "https://localhost:8080/"
        },
        "id": "EKtRth2liRSf",
        "outputId": "c576a7fe-0be1-48e5-e670-1a3323b2acb6"
      },
      "execution_count": 215,
      "outputs": [
        {
          "output_type": "execute_result",
          "data": {
            "text/plain": [
              "[array(['FDL58'], dtype=object),\n",
              " array(['FDY57'], dtype=object),\n",
              " array(['FDH58'], dtype=object),\n",
              " array(['FDI45'], dtype=object),\n",
              " array(['FDG50'], dtype=object),\n",
              " array(['FDG57'], dtype=object),\n",
              " array(['FDJ09'], dtype=object),\n",
              " array(['FDF22'], dtype=object),\n",
              " array(['FDI45'], dtype=object),\n",
              " array(['FDF22'], dtype=object),\n",
              " array(['FDG50'], dtype=object),\n",
              " array(['FDL58'], dtype=object),\n",
              " array(['DRN47'], dtype=object),\n",
              " array(['NCJ30'], dtype=object),\n",
              " array(['FDT21'], dtype=object),\n",
              " array(['FDO22'], dtype=object),\n",
              " array(['FDG09'], dtype=object),\n",
              " array(['FDF05'], dtype=object),\n",
              " array(['FDP28'], dtype=object),\n",
              " array(['FDF04'], dtype=object)]"
            ]
          },
          "metadata": {},
          "execution_count": 215
        }
      ]
    },
    {
      "cell_type": "code",
      "source": [
        "sns.boxplot(eval['Item_Weight'])"
      ],
      "metadata": {
        "colab": {
          "base_uri": "https://localhost:8080/",
          "height": 352
        },
        "id": "AL2SrqEniVvd",
        "outputId": "291c8517-0091-4417-bf55-8b2c9482d5f0"
      },
      "execution_count": 216,
      "outputs": [
        {
          "output_type": "stream",
          "name": "stderr",
          "text": [
            "/usr/local/lib/python3.7/dist-packages/seaborn/_decorators.py:43: FutureWarning: Pass the following variable as a keyword arg: x. From version 0.12, the only valid positional argument will be `data`, and passing other arguments without an explicit keyword will result in an error or misinterpretation.\n",
            "  FutureWarning\n"
          ]
        },
        {
          "output_type": "execute_result",
          "data": {
            "text/plain": [
              "<matplotlib.axes._subplots.AxesSubplot at 0x7f3f5caa5550>"
            ]
          },
          "metadata": {},
          "execution_count": 216
        },
        {
          "output_type": "display_data",
          "data": {
            "text/plain": [
              "<Figure size 432x288 with 1 Axes>"
            ],
            "image/png": "[encoded data removed]"
          },
          "metadata": {
            "needs_background": "light"
          }
        }
      ]
    },
    {
      "cell_type": "code",
      "source": [
        "Item_Weight_Means=eval['Item_Weight'].mean()\n",
        "print(Item_Weight_Means)\n",
        "eval['Item_Weight']=eval['Item_Weight'].fillna(Item_Weight_Mean)\n"
      ],
      "metadata": {
        "colab": {
          "base_uri": "https://localhost:8080/"
        },
        "id": "C2wfF5iVihTz",
        "outputId": "2942c177-4f23-48fb-e09f-d43ae3f670db"
      },
      "execution_count": 217,
      "outputs": [
        {
          "output_type": "stream",
          "name": "stdout",
          "text": [
            "12.675975975975975\n"
          ]
        }
      ]
    },
    {
      "cell_type": "code",
      "source": [
        "eval.isna().sum()"
      ],
      "metadata": {
        "colab": {
          "base_uri": "https://localhost:8080/"
        },
        "id": "8eoaCVOticDs",
        "outputId": "92704d15-fe36-49a2-fbfe-64080e777063"
      },
      "execution_count": 218,
      "outputs": [
        {
          "output_type": "execute_result",
          "data": {
            "text/plain": [
              "Item_Identifier              0\n",
              "Item_Weight                  0\n",
              "Item_Fat_Content             0\n",
              "Item_Visibility              0\n",
              "Item_Type                    0\n",
              "Item_MRP                     0\n",
              "Outlet_Identifier            0\n",
              "Outlet_Establishment_Year    0\n",
              "Outlet_Size                  0\n",
              "Outlet_Location_Type         0\n",
              "Outlet_Type                  0\n",
              "dtype: int64"
            ]
          },
          "metadata": {},
          "execution_count": 218
        }
      ]
    },
    {
      "cell_type": "code",
      "source": [
        "train.drop(['Item_Identifier','Outlet_Identifier'],axis=1,inplace=True)"
      ],
      "metadata": {
        "id": "UJNWy8hpk7Sb"
      },
      "execution_count": 219,
      "outputs": []
    },
    {
      "cell_type": "code",
      "source": [
        "eval.drop(['Item_Identifier','Outlet_Identifier'],axis=1,inplace=True)"
      ],
      "metadata": {
        "id": "SH85ktE60GRB"
      },
      "execution_count": 220,
      "outputs": []
    },
    {
      "cell_type": "code",
      "source": [
        "train.head()"
      ],
      "metadata": {
        "colab": {
          "base_uri": "https://localhost:8080/",
          "height": 357
        },
        "id": "j4tmVnLilfzY",
        "outputId": "273adab2-06d4-4fb3-def2-90b53a2981c2"
      },
      "execution_count": 221,
      "outputs": [
        {
          "output_type": "execute_result",
          "data": {
            "text/plain": [
              "   Item_Weight Item_Fat_Content  Item_Visibility              Item_Type  \\\n",
              "0         9.30          Low Fat         0.016047                  Dairy   \n",
              "1         5.92          Regular         0.019278            Soft Drinks   \n",
              "2        17.50          Low Fat         0.016760                   Meat   \n",
              "3        19.20          Regular         0.000000  Fruits and Vegetables   \n",
              "4         8.93          Low Fat         0.000000              Household   \n",
              "\n",
              "   Item_MRP  Outlet_Establishment_Year Outlet_Size Outlet_Location_Type  \\\n",
              "0  249.8092                       1999      Medium               Tier 1   \n",
              "1   48.2692                       2009      Medium               Tier 3   \n",
              "2  141.6180                       1999      Medium               Tier 1   \n",
              "3  182.0950                       1998      Medium               Tier 3   \n",
              "4   53.8614                       1987        High               Tier 3   \n",
              "\n",
              "         Outlet_Type  Item_Outlet_Sales  \n",
              "0  Supermarket Type1          3735.1380  \n",
              "1  Supermarket Type2           443.4228  \n",
              "2  Supermarket Type1          2097.2700  \n",
              "3      Grocery Store           732.3800  \n",
              "4  Supermarket Type1           994.7052  "
            ],
            "text/html": [
              "\n",
              "  <div id=\"df-80d4d7fd-0670-4973-b504-7a15e3544a50\">\n",
              "    <div class=\"colab-df-container\">\n",
              "      <div>\n",
              "<style scoped>\n",
              "    .dataframe tbody tr th:only-of-type {\n",
              "        vertical-align: middle;\n",
              "    }\n",
              "\n",
              "    .dataframe tbody tr th {\n",
              "        vertical-align: top;\n",
              "    }\n",
              "\n",
              "    .dataframe thead th {\n",
              "        text-align: right;\n",
              "    }\n",
              "</style>\n",
              "<table border=\"1\" class=\"dataframe\">\n",
              "  <thead>\n",
              "    <tr style=\"text-align: right;\">\n",
              "      <th></th>\n",
              "      <th>Item_Weight</th>\n",
              "      <th>Item_Fat_Content</th>\n",
              "      <th>Item_Visibility</th>\n",
              "      <th>Item_Type</th>\n",
              "      <th>Item_MRP</th>\n",
              "      <th>Outlet_Establishment_Year</th>\n",
              "      <th>Outlet_Size</th>\n",
              "      <th>Outlet_Location_Type</th>\n",
              "      <th>Outlet_Type</th>\n",
              "      <th>Item_Outlet_Sales</th>\n",
              "    </tr>\n",
              "  </thead>\n",
              "  <tbody>\n",
              "    <tr>\n",
              "      <th>0</th>\n",
              "      <td>9.30</td>\n",
              "      <td>Low Fat</td>\n",
              "      <td>0.016047</td>\n",
              "      <td>Dairy</td>\n",
              "      <td>249.8092</td>\n",
              "      <td>1999</td>\n",
              "      <td>Medium</td>\n",
              "      <td>Tier 1</td>\n",
              "      <td>Supermarket Type1</td>\n",
              "      <td>3735.1380</td>\n",
              "    </tr>\n",
              "    <tr>\n",
              "      <th>1</th>\n",
              "      <td>5.92</td>\n",
              "      <td>Regular</td>\n",
              "      <td>0.019278</td>\n",
              "      <td>Soft Drinks</td>\n",
              "      <td>48.2692</td>\n",
              "      <td>2009</td>\n",
              "      <td>Medium</td>\n",
              "      <td>Tier 3</td>\n",
              "      <td>Supermarket Type2</td>\n",
              "      <td>443.4228</td>\n",
              "    </tr>\n",
              "    <tr>\n",
              "      <th>2</th>\n",
              "      <td>17.50</td>\n",
              "      <td>Low Fat</td>\n",
              "      <td>0.016760</td>\n",
              "      <td>Meat</td>\n",
              "      <td>141.6180</td>\n",
              "      <td>1999</td>\n",
              "      <td>Medium</td>\n",
              "      <td>Tier 1</td>\n",
              "      <td>Supermarket Type1</td>\n",
              "      <td>2097.2700</td>\n",
              "    </tr>\n",
              "    <tr>\n",
              "      <th>3</th>\n",
              "      <td>19.20</td>\n",
              "      <td>Regular</td>\n",
              "      <td>0.000000</td>\n",
              "      <td>Fruits and Vegetables</td>\n",
              "      <td>182.0950</td>\n",
              "      <td>1998</td>\n",
              "      <td>Medium</td>\n",
              "      <td>Tier 3</td>\n",
              "      <td>Grocery Store</td>\n",
              "      <td>732.3800</td>\n",
              "    </tr>\n",
              "    <tr>\n",
              "      <th>4</th>\n",
              "      <td>8.93</td>\n",
              "      <td>Low Fat</td>\n",
              "      <td>0.000000</td>\n",
              "      <td>Household</td>\n",
              "      <td>53.8614</td>\n",
              "      <td>1987</td>\n",
              "      <td>High</td>\n",
              "      <td>Tier 3</td>\n",
              "      <td>Supermarket Type1</td>\n",
              "      <td>994.7052</td>\n",
              "    </tr>\n",
              "  </tbody>\n",
              "</table>\n",
              "</div>\n",
              "      <button class=\"colab-df-convert\" onclick=\"convertToInteractive('df-80d4d7fd-0670-4973-b504-7a15e3544a50')\"\n",
              "              title=\"Convert this dataframe to an interactive table.\"\n",
              "              style=\"display:none;\">\n",
              "        \n",
              "  <svg xmlns=\"http://www.w3.org/2000/svg\" height=\"24px\"viewBox=\"0 0 24 24\"\n",
              "       width=\"24px\">\n",
              "    <path d=\"M0 0h24v24H0V0z\" fill=\"none\"/>\n",
              "    <path d=\"M18.56 5.44l.94 2.06.94-2.06 2.06-.94-2.06-.94-.94-2.06-.94 2.06-2.06.94zm-11 1L8.5 8.5l.94-2.06 2.06-.94-2.06-.94L8.5 2.5l-.94 2.06-2.06.94zm10 10l.94 2.06.94-2.06 2.06-.94-2.06-.94-.94-2.06-.94 2.06-2.06.94z\"/><path d=\"M17.41 7.96l-1.37-1.37c-.4-.4-.92-.59-1.43-.59-.52 0-1.04.2-1.43.59L10.3 9.45l-7.72 7.72c-.78.78-.78 2.05 0 2.83L4 21.41c.39.39.9.59 1.41.59.51 0 1.02-.2 1.41-.59l7.78-7.78 2.81-2.81c.8-.78.8-2.07 0-2.86zM5.41 20L4 18.59l7.72-7.72 1.47 1.35L5.41 20z\"/>\n",
              "  </svg>\n",
              "      </button>\n",
              "      \n",
              "  <style>\n",
              "    .colab-df-container {\n",
              "      display:flex;\n",
              "      flex-wrap:wrap;\n",
              "      gap: 12px;\n",
              "    }\n",
              "\n",
              "    .colab-df-convert {\n",
              "      background-color: #E8F0FE;\n",
              "      border: none;\n",
              "      border-radius: 50%;\n",
              "      cursor: pointer;\n",
              "      display: none;\n",
              "      fill: #1967D2;\n",
              "      height: 32px;\n",
              "      padding: 0 0 0 0;\n",
              "      width: 32px;\n",
              "    }\n",
              "\n",
              "    .colab-df-convert:hover {\n",
              "      background-color: #E2EBFA;\n",
              "      box-shadow: 0px 1px 2px rgba(60, 64, 67, 0.3), 0px 1px 3px 1px rgba(60, 64, 67, 0.15);\n",
              "      fill: #174EA6;\n",
              "    }\n",
              "\n",
              "    [theme=dark] .colab-df-convert {\n",
              "      background-color: #3B4455;\n",
              "      fill: #D2E3FC;\n",
              "    }\n",
              "\n",
              "    [theme=dark] .colab-df-convert:hover {\n",
              "      background-color: #434B5C;\n",
              "      box-shadow: 0px 1px 3px 1px rgba(0, 0, 0, 0.15);\n",
              "      filter: drop-shadow(0px 1px 2px rgba(0, 0, 0, 0.3));\n",
              "      fill: #FFFFFF;\n",
              "    }\n",
              "  </style>\n",
              "\n",
              "      <script>\n",
              "        const buttonEl =\n",
              "          document.querySelector('#df-80d4d7fd-0670-4973-b504-7a15e3544a50 button.colab-df-convert');\n",
              "        buttonEl.style.display =\n",
              "          google.colab.kernel.accessAllowed ? 'block' : 'none';\n",
              "\n",
              "        async function convertToInteractive(key) {\n",
              "          const element = document.querySelector('#df-80d4d7fd-0670-4973-b504-7a15e3544a50');\n",
              "          const dataTable =\n",
              "            await google.colab.kernel.invokeFunction('convertToInteractive',\n",
              "                                                     [key], {});\n",
              "          if (!dataTable) return;\n",
              "\n",
              "          const docLinkHtml = 'Like what you see? Visit the ' +\n",
              "            '<a target=\"_blank\" href=https://colab.research.google.com/notebooks/data_table.ipynb>data table notebook</a>'\n",
              "            + ' to learn more about interactive tables.';\n",
              "          element.innerHTML = '';\n",
              "          dataTable['output_type'] = 'display_data';\n",
              "          await google.colab.output.renderOutput(dataTable, element);\n",
              "          const docLink = document.createElement('div');\n",
              "          docLink.innerHTML = docLinkHtml;\n",
              "          element.appendChild(docLink);\n",
              "        }\n",
              "      </script>\n",
              "    </div>\n",
              "  </div>\n",
              "  "
            ]
          },
          "metadata": {},
          "execution_count": 221
        }
      ]
    },
    {
      "cell_type": "code",
      "source": [
        "train['Item_Fat_Content'].unique()"
      ],
      "metadata": {
        "colab": {
          "base_uri": "https://localhost:8080/"
        },
        "id": "QgXQqphWmJ8z",
        "outputId": "849c1766-721b-481f-f735-60a6a60e89e0"
      },
      "execution_count": 222,
      "outputs": [
        {
          "output_type": "execute_result",
          "data": {
            "text/plain": [
              "array(['Low Fat', 'Regular', 'low fat', 'LF', 'reg'], dtype=object)"
            ]
          },
          "metadata": {},
          "execution_count": 222
        }
      ]
    },
    {
      "cell_type": "code",
      "source": [
        "train['Item_Fat_Content'] = train['Item_Fat_Content'].replace(['LF', 'low fat'], 'Low Fat')\n",
        "train['Item_Fat_Content'] = train['Item_Fat_Content'].replace(['reg'], 'Regular')"
      ],
      "metadata": {
        "id": "ioeE2LJymnuB"
      },
      "execution_count": 223,
      "outputs": []
    },
    {
      "cell_type": "code",
      "source": [
        "train['Item_Fat_Content'].unique()"
      ],
      "metadata": {
        "colab": {
          "base_uri": "https://localhost:8080/"
        },
        "id": "SFuT1KoZnL7c",
        "outputId": "a338f475-d5d7-440e-ad45-bd6f5b6d8721"
      },
      "execution_count": 224,
      "outputs": [
        {
          "output_type": "execute_result",
          "data": {
            "text/plain": [
              "array(['Low Fat', 'Regular'], dtype=object)"
            ]
          },
          "metadata": {},
          "execution_count": 224
        }
      ]
    },
    {
      "cell_type": "code",
      "source": [
        "train['Item_Type'].unique()"
      ],
      "metadata": {
        "colab": {
          "base_uri": "https://localhost:8080/"
        },
        "id": "6VIuhhV5no_r",
        "outputId": "e970bfc3-a55c-493a-933a-6d05109868e8"
      },
      "execution_count": 225,
      "outputs": [
        {
          "output_type": "execute_result",
          "data": {
            "text/plain": [
              "array(['Dairy', 'Soft Drinks', 'Meat', 'Fruits and Vegetables',\n",
              "       'Household', 'Baking Goods', 'Snack Foods', 'Frozen Foods',\n",
              "       'Breakfast', 'Health and Hygiene', 'Hard Drinks', 'Canned',\n",
              "       'Breads', 'Starchy Foods', 'Others', 'Seafood'], dtype=object)"
            ]
          },
          "metadata": {},
          "execution_count": 225
        }
      ]
    },
    {
      "cell_type": "code",
      "source": [
        "train['Outlet_Size'].unique()"
      ],
      "metadata": {
        "colab": {
          "base_uri": "https://localhost:8080/"
        },
        "id": "g-LNwOa4oOaI",
        "outputId": "48c2432a-21d8-4980-dba3-a0f4fbf39083"
      },
      "execution_count": 226,
      "outputs": [
        {
          "output_type": "execute_result",
          "data": {
            "text/plain": [
              "array(['Medium', 'High', 'Small'], dtype=object)"
            ]
          },
          "metadata": {},
          "execution_count": 226
        }
      ]
    },
    {
      "cell_type": "code",
      "source": [
        "train['Outlet_Location_Type'].unique()"
      ],
      "metadata": {
        "colab": {
          "base_uri": "https://localhost:8080/"
        },
        "id": "t1Wreio3oTz4",
        "outputId": "9150e2bd-fc48-4ed0-842e-04930263884a"
      },
      "execution_count": 227,
      "outputs": [
        {
          "output_type": "execute_result",
          "data": {
            "text/plain": [
              "array(['Tier 1', 'Tier 3', 'Tier 2'], dtype=object)"
            ]
          },
          "metadata": {},
          "execution_count": 227
        }
      ]
    },
    {
      "cell_type": "code",
      "source": [
        "eval.head()"
      ],
      "metadata": {
        "colab": {
          "base_uri": "https://localhost:8080/",
          "height": 340
        },
        "id": "U4PTxci6lh23",
        "outputId": "4f5f6085-1e9b-4d63-e18c-ac7be0571d44"
      },
      "execution_count": 228,
      "outputs": [
        {
          "output_type": "execute_result",
          "data": {
            "text/plain": [
              "   Item_Weight Item_Fat_Content  Item_Visibility    Item_Type  Item_MRP  \\\n",
              "0       20.750          Low Fat         0.007565  Snack Foods  107.8622   \n",
              "1        8.300              reg         0.038428        Dairy   87.3198   \n",
              "2       14.600          Low Fat         0.099575       Others  241.7538   \n",
              "3        7.315          Low Fat         0.015388  Snack Foods  155.0340   \n",
              "4       13.600          Regular         0.118599        Dairy  234.2300   \n",
              "\n",
              "   Outlet_Establishment_Year Outlet_Size Outlet_Location_Type  \\\n",
              "0                       1999      Medium               Tier 1   \n",
              "1                       2007      Medium               Tier 2   \n",
              "2                       1998      Medium               Tier 3   \n",
              "3                       2007      Medium               Tier 2   \n",
              "4                       1985      Medium               Tier 3   \n",
              "\n",
              "         Outlet_Type  \n",
              "0  Supermarket Type1  \n",
              "1  Supermarket Type1  \n",
              "2      Grocery Store  \n",
              "3  Supermarket Type1  \n",
              "4  Supermarket Type3  "
            ],
            "text/html": [
              "\n",
              "  <div id=\"df-9736a3bb-e2d1-4317-9bc1-6d5be215ac25\">\n",
              "    <div class=\"colab-df-container\">\n",
              "      <div>\n",
              "<style scoped>\n",
              "    .dataframe tbody tr th:only-of-type {\n",
              "        vertical-align: middle;\n",
              "    }\n",
              "\n",
              "    .dataframe tbody tr th {\n",
              "        vertical-align: top;\n",
              "    }\n",
              "\n",
              "    .dataframe thead th {\n",
              "        text-align: right;\n",
              "    }\n",
              "</style>\n",
              "<table border=\"1\" class=\"dataframe\">\n",
              "  <thead>\n",
              "    <tr style=\"text-align: right;\">\n",
              "      <th></th>\n",
              "      <th>Item_Weight</th>\n",
              "      <th>Item_Fat_Content</th>\n",
              "      <th>Item_Visibility</th>\n",
              "      <th>Item_Type</th>\n",
              "      <th>Item_MRP</th>\n",
              "      <th>Outlet_Establishment_Year</th>\n",
              "      <th>Outlet_Size</th>\n",
              "      <th>Outlet_Location_Type</th>\n",
              "      <th>Outlet_Type</th>\n",
              "    </tr>\n",
              "  </thead>\n",
              "  <tbody>\n",
              "    <tr>\n",
              "      <th>0</th>\n",
              "      <td>20.750</td>\n",
              "      <td>Low Fat</td>\n",
              "      <td>0.007565</td>\n",
              "      <td>Snack Foods</td>\n",
              "      <td>107.8622</td>\n",
              "      <td>1999</td>\n",
              "      <td>Medium</td>\n",
              "      <td>Tier 1</td>\n",
              "      <td>Supermarket Type1</td>\n",
              "    </tr>\n",
              "    <tr>\n",
              "      <th>1</th>\n",
              "      <td>8.300</td>\n",
              "      <td>reg</td>\n",
              "      <td>0.038428</td>\n",
              "      <td>Dairy</td>\n",
              "      <td>87.3198</td>\n",
              "      <td>2007</td>\n",
              "      <td>Medium</td>\n",
              "      <td>Tier 2</td>\n",
              "      <td>Supermarket Type1</td>\n",
              "    </tr>\n",
              "    <tr>\n",
              "      <th>2</th>\n",
              "      <td>14.600</td>\n",
              "      <td>Low Fat</td>\n",
              "      <td>0.099575</td>\n",
              "      <td>Others</td>\n",
              "      <td>241.7538</td>\n",
              "      <td>1998</td>\n",
              "      <td>Medium</td>\n",
              "      <td>Tier 3</td>\n",
              "      <td>Grocery Store</td>\n",
              "    </tr>\n",
              "    <tr>\n",
              "      <th>3</th>\n",
              "      <td>7.315</td>\n",
              "      <td>Low Fat</td>\n",
              "      <td>0.015388</td>\n",
              "      <td>Snack Foods</td>\n",
              "      <td>155.0340</td>\n",
              "      <td>2007</td>\n",
              "      <td>Medium</td>\n",
              "      <td>Tier 2</td>\n",
              "      <td>Supermarket Type1</td>\n",
              "    </tr>\n",
              "    <tr>\n",
              "      <th>4</th>\n",
              "      <td>13.600</td>\n",
              "      <td>Regular</td>\n",
              "      <td>0.118599</td>\n",
              "      <td>Dairy</td>\n",
              "      <td>234.2300</td>\n",
              "      <td>1985</td>\n",
              "      <td>Medium</td>\n",
              "      <td>Tier 3</td>\n",
              "      <td>Supermarket Type3</td>\n",
              "    </tr>\n",
              "  </tbody>\n",
              "</table>\n",
              "</div>\n",
              "      <button class=\"colab-df-convert\" onclick=\"convertToInteractive('df-9736a3bb-e2d1-4317-9bc1-6d5be215ac25')\"\n",
              "              title=\"Convert this dataframe to an interactive table.\"\n",
              "              style=\"display:none;\">\n",
              "        \n",
              "  <svg xmlns=\"http://www.w3.org/2000/svg\" height=\"24px\"viewBox=\"0 0 24 24\"\n",
              "       width=\"24px\">\n",
              "    <path d=\"M0 0h24v24H0V0z\" fill=\"none\"/>\n",
              "    <path d=\"M18.56 5.44l.94 2.06.94-2.06 2.06-.94-2.06-.94-.94-2.06-.94 2.06-2.06.94zm-11 1L8.5 8.5l.94-2.06 2.06-.94-2.06-.94L8.5 2.5l-.94 2.06-2.06.94zm10 10l.94 2.06.94-2.06 2.06-.94-2.06-.94-.94-2.06-.94 2.06-2.06.94z\"/><path d=\"M17.41 7.96l-1.37-1.37c-.4-.4-.92-.59-1.43-.59-.52 0-1.04.2-1.43.59L10.3 9.45l-7.72 7.72c-.78.78-.78 2.05 0 2.83L4 21.41c.39.39.9.59 1.41.59.51 0 1.02-.2 1.41-.59l7.78-7.78 2.81-2.81c.8-.78.8-2.07 0-2.86zM5.41 20L4 18.59l7.72-7.72 1.47 1.35L5.41 20z\"/>\n",
              "  </svg>\n",
              "      </button>\n",
              "      \n",
              "  <style>\n",
              "    .colab-df-container {\n",
              "      display:flex;\n",
              "      flex-wrap:wrap;\n",
              "      gap: 12px;\n",
              "    }\n",
              "\n",
              "    .colab-df-convert {\n",
              "      background-color: #E8F0FE;\n",
              "      border: none;\n",
              "      border-radius: 50%;\n",
              "      cursor: pointer;\n",
              "      display: none;\n",
              "      fill: #1967D2;\n",
              "      height: 32px;\n",
              "      padding: 0 0 0 0;\n",
              "      width: 32px;\n",
              "    }\n",
              "\n",
              "    .colab-df-convert:hover {\n",
              "      background-color: #E2EBFA;\n",
              "      box-shadow: 0px 1px 2px rgba(60, 64, 67, 0.3), 0px 1px 3px 1px rgba(60, 64, 67, 0.15);\n",
              "      fill: #174EA6;\n",
              "    }\n",
              "\n",
              "    [theme=dark] .colab-df-convert {\n",
              "      background-color: #3B4455;\n",
              "      fill: #D2E3FC;\n",
              "    }\n",
              "\n",
              "    [theme=dark] .colab-df-convert:hover {\n",
              "      background-color: #434B5C;\n",
              "      box-shadow: 0px 1px 3px 1px rgba(0, 0, 0, 0.15);\n",
              "      filter: drop-shadow(0px 1px 2px rgba(0, 0, 0, 0.3));\n",
              "      fill: #FFFFFF;\n",
              "    }\n",
              "  </style>\n",
              "\n",
              "      <script>\n",
              "        const buttonEl =\n",
              "          document.querySelector('#df-9736a3bb-e2d1-4317-9bc1-6d5be215ac25 button.colab-df-convert');\n",
              "        buttonEl.style.display =\n",
              "          google.colab.kernel.accessAllowed ? 'block' : 'none';\n",
              "\n",
              "        async function convertToInteractive(key) {\n",
              "          const element = document.querySelector('#df-9736a3bb-e2d1-4317-9bc1-6d5be215ac25');\n",
              "          const dataTable =\n",
              "            await google.colab.kernel.invokeFunction('convertToInteractive',\n",
              "                                                     [key], {});\n",
              "          if (!dataTable) return;\n",
              "\n",
              "          const docLinkHtml = 'Like what you see? Visit the ' +\n",
              "            '<a target=\"_blank\" href=https://colab.research.google.com/notebooks/data_table.ipynb>data table notebook</a>'\n",
              "            + ' to learn more about interactive tables.';\n",
              "          element.innerHTML = '';\n",
              "          dataTable['output_type'] = 'display_data';\n",
              "          await google.colab.output.renderOutput(dataTable, element);\n",
              "          const docLink = document.createElement('div');\n",
              "          docLink.innerHTML = docLinkHtml;\n",
              "          element.appendChild(docLink);\n",
              "        }\n",
              "      </script>\n",
              "    </div>\n",
              "  </div>\n",
              "  "
            ]
          },
          "metadata": {},
          "execution_count": 228
        }
      ]
    },
    {
      "cell_type": "code",
      "source": [
        "eval['Item_Fat_Content'].unique()"
      ],
      "metadata": {
        "colab": {
          "base_uri": "https://localhost:8080/"
        },
        "id": "ESeaj4fsloZC",
        "outputId": "00127302-cc7b-4ce8-ce72-4ae4aaefbde6"
      },
      "execution_count": 229,
      "outputs": [
        {
          "output_type": "execute_result",
          "data": {
            "text/plain": [
              "array(['Low Fat', 'reg', 'Regular', 'LF', 'low fat'], dtype=object)"
            ]
          },
          "metadata": {},
          "execution_count": 229
        }
      ]
    },
    {
      "cell_type": "code",
      "source": [
        "eval['Item_Fat_Content'] = eval['Item_Fat_Content'].replace(['LF', 'low fat'], 'Low Fat')\n",
        "eval['Item_Fat_Content'] = eval['Item_Fat_Content'].replace(['reg'], 'Regular')"
      ],
      "metadata": {
        "id": "0j0b-Dohna-M"
      },
      "execution_count": 230,
      "outputs": []
    },
    {
      "cell_type": "code",
      "source": [
        "eval['Item_Fat_Content'].unique()"
      ],
      "metadata": {
        "colab": {
          "base_uri": "https://localhost:8080/"
        },
        "id": "-mGkrIM2nlbx",
        "outputId": "f2bd568c-f213-4789-80d6-cd33edb16ae1"
      },
      "execution_count": 231,
      "outputs": [
        {
          "output_type": "execute_result",
          "data": {
            "text/plain": [
              "array(['Low Fat', 'Regular'], dtype=object)"
            ]
          },
          "metadata": {},
          "execution_count": 231
        }
      ]
    },
    {
      "cell_type": "code",
      "source": [
        "eval['Item_Type'].unique()"
      ],
      "metadata": {
        "colab": {
          "base_uri": "https://localhost:8080/"
        },
        "id": "PjSszCSjoq6W",
        "outputId": "1b47285f-e9b3-417e-cac1-660ebefb5173"
      },
      "execution_count": 232,
      "outputs": [
        {
          "output_type": "execute_result",
          "data": {
            "text/plain": [
              "array(['Snack Foods', 'Dairy', 'Others', 'Fruits and Vegetables',\n",
              "       'Baking Goods', 'Health and Hygiene', 'Breads', 'Hard Drinks',\n",
              "       'Seafood', 'Soft Drinks', 'Household', 'Frozen Foods', 'Meat',\n",
              "       'Canned', 'Starchy Foods', 'Breakfast'], dtype=object)"
            ]
          },
          "metadata": {},
          "execution_count": 232
        }
      ]
    },
    {
      "cell_type": "code",
      "source": [
        "train['Outlet_Size'].unique()"
      ],
      "metadata": {
        "colab": {
          "base_uri": "https://localhost:8080/"
        },
        "id": "fzqQs5Flos6d",
        "outputId": "dc526ee6-4ea5-4484-a48e-f7905134890a"
      },
      "execution_count": 233,
      "outputs": [
        {
          "output_type": "execute_result",
          "data": {
            "text/plain": [
              "array(['Medium', 'High', 'Small'], dtype=object)"
            ]
          },
          "metadata": {},
          "execution_count": 233
        }
      ]
    },
    {
      "cell_type": "code",
      "source": [
        "eval['Outlet_Location_Type'].unique()"
      ],
      "metadata": {
        "colab": {
          "base_uri": "https://localhost:8080/"
        },
        "id": "3UoWhFHModda",
        "outputId": "df25d811-7872-46af-af7d-ce24d92373e4"
      },
      "execution_count": 234,
      "outputs": [
        {
          "output_type": "execute_result",
          "data": {
            "text/plain": [
              "array(['Tier 1', 'Tier 2', 'Tier 3'], dtype=object)"
            ]
          },
          "metadata": {},
          "execution_count": 234
        }
      ]
    },
    {
      "cell_type": "markdown",
      "source": [
        "# **Encoding Categorical values**"
      ],
      "metadata": {
        "id": "OvBi-96vfEDX"
      }
    },
    {
      "cell_type": "code",
      "source": [
        "from sklearn.compose import ColumnTransformer\n",
        "from sklearn.preprocessing import OneHotEncoder\n",
        "ct = ColumnTransformer(transformers = [\n",
        "                                     ('ord_col2',OneHotEncoder(),[1])])\n",
        "#ct = ColumnTransformer(transformers=[('encoder', OneHotEncoder(), [1, 3, 6, 7, 8])], remainder='passthrough')\n",
        "Encoded_X = np.array(ct.fit_transform(X))"
      ],
      "metadata": {
        "id": "RF7s5J_sd1-h"
      },
      "execution_count": 235,
      "outputs": []
    },
    {
      "cell_type": "code",
      "source": [
        "Encoded_X"
      ],
      "metadata": {
        "colab": {
          "base_uri": "https://localhost:8080/"
        },
        "id": "fR3uDI76pijJ",
        "outputId": "5133e04f-5042-46e1-bcb0-abd879749d72"
      },
      "execution_count": 180,
      "outputs": [
        {
          "output_type": "execute_result",
          "data": {
            "text/plain": [
              "array([[1., 0.],\n",
              "       [0., 1.],\n",
              "       [1., 0.],\n",
              "       ...,\n",
              "       [1., 0.],\n",
              "       [0., 1.],\n",
              "       [1., 0.]])"
            ]
          },
          "metadata": {},
          "execution_count": 180
        }
      ]
    },
    {
      "cell_type": "code",
      "source": [
        "train['Item_Fat_Content'] = train['Item_Fat_Content'].map({'Low Fat':0,'Regular':1})"
      ],
      "metadata": {
        "id": "sEMIsdByyRt-"
      },
      "execution_count": 236,
      "outputs": []
    },
    {
      "cell_type": "code",
      "source": [
        "eval['Item_Fat_Content'] = eval['Item_Fat_Content'].map({'Low Fat':0,'Regular':1})"
      ],
      "metadata": {
        "id": "1a3Nk0HuCirZ"
      },
      "execution_count": 237,
      "outputs": []
    },
    {
      "cell_type": "code",
      "source": [
        "train['Outlet_Size'] = train['Outlet_Size'].map({'Medium':1,'High':2, 'Small':0})"
      ],
      "metadata": {
        "id": "Ad2y0Dqs0eS8"
      },
      "execution_count": 238,
      "outputs": []
    },
    {
      "cell_type": "code",
      "source": [
        "eval['Outlet_Size'] = eval['Outlet_Size'].map({'Medium':1,'High':2, 'Small':0})"
      ],
      "metadata": {
        "id": "AwDpoorXCnmd"
      },
      "execution_count": 239,
      "outputs": []
    },
    {
      "cell_type": "code",
      "source": [
        "train['Outlet_Location_Type'] = train['Outlet_Location_Type'].map({'Tier 1':1,'Tier 3':3, 'Tier 2':2})"
      ],
      "metadata": {
        "id": "WmMNad7z01vM"
      },
      "execution_count": 240,
      "outputs": []
    },
    {
      "cell_type": "code",
      "source": [
        "eval['Outlet_Location_Type'] = eval['Outlet_Location_Type'].map({'Tier 1':1,'Tier 3':3, 'Tier 2':2})"
      ],
      "metadata": {
        "id": "GcMOiTZJCqpx"
      },
      "execution_count": 241,
      "outputs": []
    },
    {
      "cell_type": "code",
      "source": [
        "from sklearn.preprocessing import LabelEncoder\n",
        "le = LabelEncoder()\n",
        "\n",
        "train['Outlet_Type'] = le.fit_transform(train['Outlet_Type'])\n",
        "\n",
        "train['Item_Type'] = le.fit_transform(train['Item_Type'])"
      ],
      "metadata": {
        "id": "0nRBk06s1BII"
      },
      "execution_count": 242,
      "outputs": []
    },
    {
      "cell_type": "code",
      "source": [
        "from sklearn.preprocessing import LabelEncoder\n",
        "le1 = LabelEncoder()\n",
        "\n",
        "eval['Outlet_Type'] = le.fit_transform(eval['Outlet_Type'])\n",
        "\n",
        "eval['Item_Type'] = le.fit_transform(eval['Item_Type'])"
      ],
      "metadata": {
        "id": "BhNqqGr7CwK2"
      },
      "execution_count": 243,
      "outputs": []
    },
    {
      "cell_type": "code",
      "source": [
        "cols = ['Item_Weight','Item_Visibility','Item_Type','Item_MRP','Outlet_Establishment_Year']\n",
        "from sklearn.preprocessing import StandardScaler\n",
        "sc = StandardScaler()\n",
        "train.loc[:,cols] = sc.fit_transform(train[cols])"
      ],
      "metadata": {
        "id": "lOpEp8pT1eUN"
      },
      "execution_count": 244,
      "outputs": []
    },
    {
      "cell_type": "code",
      "source": [
        "cols1 = ['Item_Weight','Item_Visibility','Item_Type','Item_MRP','Outlet_Establishment_Year']\n",
        "from sklearn.preprocessing import StandardScaler\n",
        "sc1 = StandardScaler()\n",
        "eval.loc[:,cols1] = sc.fit_transform(eval[cols1])"
      ],
      "metadata": {
        "id": "OsU0MU-3C9lw"
      },
      "execution_count": 245,
      "outputs": []
    },
    {
      "cell_type": "code",
      "source": [
        "train.head()"
      ],
      "metadata": {
        "colab": {
          "base_uri": "https://localhost:8080/",
          "height": 270
        },
        "id": "9KgowekGy4F8",
        "outputId": "841a8e2d-5be6-4d85-9423-6a6eee592fb4"
      },
      "execution_count": 246,
      "outputs": [
        {
          "output_type": "execute_result",
          "data": {
            "text/plain": [
              "   Item_Weight  Item_Fat_Content  Item_Visibility  Item_Type  Item_MRP  \\\n",
              "0    -0.769779                 0        -0.970732  -0.766479  1.747454   \n",
              "1    -1.497485                 1        -0.908111   1.608963 -1.489023   \n",
              "2     0.995661                 0        -0.956917   0.658786  0.010040   \n",
              "3     1.361666                 1        -1.281758  -0.291391  0.660050   \n",
              "4    -0.849439                 0        -1.281758   0.421242 -1.399220   \n",
              "\n",
              "   Outlet_Establishment_Year  Outlet_Size  Outlet_Location_Type  Outlet_Type  \\\n",
              "0                   0.139541            1                     1            1   \n",
              "1                   1.334103            1                     3            2   \n",
              "2                   0.139541            1                     1            1   \n",
              "3                   0.020085            1                     3            0   \n",
              "4                  -1.293934            2                     3            1   \n",
              "\n",
              "   Item_Outlet_Sales  \n",
              "0          3735.1380  \n",
              "1           443.4228  \n",
              "2          2097.2700  \n",
              "3           732.3800  \n",
              "4           994.7052  "
            ],
            "text/html": [
              "\n",
              "  <div id=\"df-18125748-2aa8-4c1e-9cc0-687bd9be7d1d\">\n",
              "    <div class=\"colab-df-container\">\n",
              "      <div>\n",
              "<style scoped>\n",
              "    .dataframe tbody tr th:only-of-type {\n",
              "        vertical-align: middle;\n",
              "    }\n",
              "\n",
              "    .dataframe tbody tr th {\n",
              "        vertical-align: top;\n",
              "    }\n",
              "\n",
              "    .dataframe thead th {\n",
              "        text-align: right;\n",
              "    }\n",
              "</style>\n",
              "<table border=\"1\" class=\"dataframe\">\n",
              "  <thead>\n",
              "    <tr style=\"text-align: right;\">\n",
              "      <th></th>\n",
              "      <th>Item_Weight</th>\n",
              "      <th>Item_Fat_Content</th>\n",
              "      <th>Item_Visibility</th>\n",
              "      <th>Item_Type</th>\n",
              "      <th>Item_MRP</th>\n",
              "      <th>Outlet_Establishment_Year</th>\n",
              "      <th>Outlet_Size</th>\n",
              "      <th>Outlet_Location_Type</th>\n",
              "      <th>Outlet_Type</th>\n",
              "      <th>Item_Outlet_Sales</th>\n",
              "    </tr>\n",
              "  </thead>\n",
              "  <tbody>\n",
              "    <tr>\n",
              "      <th>0</th>\n",
              "      <td>-0.769779</td>\n",
              "      <td>0</td>\n",
              "      <td>-0.970732</td>\n",
              "      <td>-0.766479</td>\n",
              "      <td>1.747454</td>\n",
              "      <td>0.139541</td>\n",
              "      <td>1</td>\n",
              "      <td>1</td>\n",
              "      <td>1</td>\n",
              "      <td>3735.1380</td>\n",
              "    </tr>\n",
              "    <tr>\n",
              "      <th>1</th>\n",
              "      <td>-1.497485</td>\n",
              "      <td>1</td>\n",
              "      <td>-0.908111</td>\n",
              "      <td>1.608963</td>\n",
              "      <td>-1.489023</td>\n",
              "      <td>1.334103</td>\n",
              "      <td>1</td>\n",
              "      <td>3</td>\n",
              "      <td>2</td>\n",
              "      <td>443.4228</td>\n",
              "    </tr>\n",
              "    <tr>\n",
              "      <th>2</th>\n",
              "      <td>0.995661</td>\n",
              "      <td>0</td>\n",
              "      <td>-0.956917</td>\n",
              "      <td>0.658786</td>\n",
              "      <td>0.010040</td>\n",
              "      <td>0.139541</td>\n",
              "      <td>1</td>\n",
              "      <td>1</td>\n",
              "      <td>1</td>\n",
              "      <td>2097.2700</td>\n",
              "    </tr>\n",
              "    <tr>\n",
              "      <th>3</th>\n",
              "      <td>1.361666</td>\n",
              "      <td>1</td>\n",
              "      <td>-1.281758</td>\n",
              "      <td>-0.291391</td>\n",
              "      <td>0.660050</td>\n",
              "      <td>0.020085</td>\n",
              "      <td>1</td>\n",
              "      <td>3</td>\n",
              "      <td>0</td>\n",
              "      <td>732.3800</td>\n",
              "    </tr>\n",
              "    <tr>\n",
              "      <th>4</th>\n",
              "      <td>-0.849439</td>\n",
              "      <td>0</td>\n",
              "      <td>-1.281758</td>\n",
              "      <td>0.421242</td>\n",
              "      <td>-1.399220</td>\n",
              "      <td>-1.293934</td>\n",
              "      <td>2</td>\n",
              "      <td>3</td>\n",
              "      <td>1</td>\n",
              "      <td>994.7052</td>\n",
              "    </tr>\n",
              "  </tbody>\n",
              "</table>\n",
              "</div>\n",
              "      <button class=\"colab-df-convert\" onclick=\"convertToInteractive('df-18125748-2aa8-4c1e-9cc0-687bd9be7d1d')\"\n",
              "              title=\"Convert this dataframe to an interactive table.\"\n",
              "              style=\"display:none;\">\n",
              "        \n",
              "  <svg xmlns=\"http://www.w3.org/2000/svg\" height=\"24px\"viewBox=\"0 0 24 24\"\n",
              "       width=\"24px\">\n",
              "    <path d=\"M0 0h24v24H0V0z\" fill=\"none\"/>\n",
              "    <path d=\"M18.56 5.44l.94 2.06.94-2.06 2.06-.94-2.06-.94-.94-2.06-.94 2.06-2.06.94zm-11 1L8.5 8.5l.94-2.06 2.06-.94-2.06-.94L8.5 2.5l-.94 2.06-2.06.94zm10 10l.94 2.06.94-2.06 2.06-.94-2.06-.94-.94-2.06-.94 2.06-2.06.94z\"/><path d=\"M17.41 7.96l-1.37-1.37c-.4-.4-.92-.59-1.43-.59-.52 0-1.04.2-1.43.59L10.3 9.45l-7.72 7.72c-.78.78-.78 2.05 0 2.83L4 21.41c.39.39.9.59 1.41.59.51 0 1.02-.2 1.41-.59l7.78-7.78 2.81-2.81c.8-.78.8-2.07 0-2.86zM5.41 20L4 18.59l7.72-7.72 1.47 1.35L5.41 20z\"/>\n",
              "  </svg>\n",
              "      </button>\n",
              "      \n",
              "  <style>\n",
              "    .colab-df-container {\n",
              "      display:flex;\n",
              "      flex-wrap:wrap;\n",
              "      gap: 12px;\n",
              "    }\n",
              "\n",
              "    .colab-df-convert {\n",
              "      background-color: #E8F0FE;\n",
              "      border: none;\n",
              "      border-radius: 50%;\n",
              "      cursor: pointer;\n",
              "      display: none;\n",
              "      fill: #1967D2;\n",
              "      height: 32px;\n",
              "      padding: 0 0 0 0;\n",
              "      width: 32px;\n",
              "    }\n",
              "\n",
              "    .colab-df-convert:hover {\n",
              "      background-color: #E2EBFA;\n",
              "      box-shadow: 0px 1px 2px rgba(60, 64, 67, 0.3), 0px 1px 3px 1px rgba(60, 64, 67, 0.15);\n",
              "      fill: #174EA6;\n",
              "    }\n",
              "\n",
              "    [theme=dark] .colab-df-convert {\n",
              "      background-color: #3B4455;\n",
              "      fill: #D2E3FC;\n",
              "    }\n",
              "\n",
              "    [theme=dark] .colab-df-convert:hover {\n",
              "      background-color: #434B5C;\n",
              "      box-shadow: 0px 1px 3px 1px rgba(0, 0, 0, 0.15);\n",
              "      filter: drop-shadow(0px 1px 2px rgba(0, 0, 0, 0.3));\n",
              "      fill: #FFFFFF;\n",
              "    }\n",
              "  </style>\n",
              "\n",
              "      <script>\n",
              "        const buttonEl =\n",
              "          document.querySelector('#df-18125748-2aa8-4c1e-9cc0-687bd9be7d1d button.colab-df-convert');\n",
              "        buttonEl.style.display =\n",
              "          google.colab.kernel.accessAllowed ? 'block' : 'none';\n",
              "\n",
              "        async function convertToInteractive(key) {\n",
              "          const element = document.querySelector('#df-18125748-2aa8-4c1e-9cc0-687bd9be7d1d');\n",
              "          const dataTable =\n",
              "            await google.colab.kernel.invokeFunction('convertToInteractive',\n",
              "                                                     [key], {});\n",
              "          if (!dataTable) return;\n",
              "\n",
              "          const docLinkHtml = 'Like what you see? Visit the ' +\n",
              "            '<a target=\"_blank\" href=https://colab.research.google.com/notebooks/data_table.ipynb>data table notebook</a>'\n",
              "            + ' to learn more about interactive tables.';\n",
              "          element.innerHTML = '';\n",
              "          dataTable['output_type'] = 'display_data';\n",
              "          await google.colab.output.renderOutput(dataTable, element);\n",
              "          const docLink = document.createElement('div');\n",
              "          docLink.innerHTML = docLinkHtml;\n",
              "          element.appendChild(docLink);\n",
              "        }\n",
              "      </script>\n",
              "    </div>\n",
              "  </div>\n",
              "  "
            ]
          },
          "metadata": {},
          "execution_count": 246
        }
      ]
    },
    {
      "cell_type": "code",
      "source": [
        "eval.head()"
      ],
      "metadata": {
        "colab": {
          "base_uri": "https://localhost:8080/",
          "height": 270
        },
        "id": "ooWsOvSi3-G8",
        "outputId": "9a39c93e-2fcd-40d9-f067-464fb7413eb6"
      },
      "execution_count": 247,
      "outputs": [
        {
          "output_type": "execute_result",
          "data": {
            "text/plain": [
              "   Item_Weight  Item_Fat_Content  Item_Visibility  Item_Type  Item_MRP  \\\n",
              "0     1.736587                 0        -1.134077   1.366916 -0.536555   \n",
              "1    -0.941432                 1        -0.531850  -0.766450 -0.868937   \n",
              "2     0.413710                 0         0.661316   0.892835  1.629848   \n",
              "3    -1.153307                 0        -0.981416   1.366916  0.226697   \n",
              "4     0.198608                 1         1.032540  -0.766450  1.508110   \n",
              "\n",
              "   Outlet_Establishment_Year  Outlet_Size  Outlet_Location_Type  Outlet_Type  \n",
              "0                   0.139891            1                     1            1  \n",
              "1                   1.095512            1                     2            1  \n",
              "2                   0.020438            1                     3            0  \n",
              "3                   1.095512            1                     2            1  \n",
              "4                  -1.532446            1                     3            3  "
            ],
            "text/html": [
              "\n",
              "  <div id=\"df-a3786f98-ee73-4739-bd2f-952c1058d0a9\">\n",
              "    <div class=\"colab-df-container\">\n",
              "      <div>\n",
              "<style scoped>\n",
              "    .dataframe tbody tr th:only-of-type {\n",
              "        vertical-align: middle;\n",
              "    }\n",
              "\n",
              "    .dataframe tbody tr th {\n",
              "        vertical-align: top;\n",
              "    }\n",
              "\n",
              "    .dataframe thead th {\n",
              "        text-align: right;\n",
              "    }\n",
              "</style>\n",
              "<table border=\"1\" class=\"dataframe\">\n",
              "  <thead>\n",
              "    <tr style=\"text-align: right;\">\n",
              "      <th></th>\n",
              "      <th>Item_Weight</th>\n",
              "      <th>Item_Fat_Content</th>\n",
              "      <th>Item_Visibility</th>\n",
              "      <th>Item_Type</th>\n",
              "      <th>Item_MRP</th>\n",
              "      <th>Outlet_Establishment_Year</th>\n",
              "      <th>Outlet_Size</th>\n",
              "      <th>Outlet_Location_Type</th>\n",
              "      <th>Outlet_Type</th>\n",
              "    </tr>\n",
              "  </thead>\n",
              "  <tbody>\n",
              "    <tr>\n",
              "      <th>0</th>\n",
              "      <td>1.736587</td>\n",
              "      <td>0</td>\n",
              "      <td>-1.134077</td>\n",
              "      <td>1.366916</td>\n",
              "      <td>-0.536555</td>\n",
              "      <td>0.139891</td>\n",
              "      <td>1</td>\n",
              "      <td>1</td>\n",
              "      <td>1</td>\n",
              "    </tr>\n",
              "    <tr>\n",
              "      <th>1</th>\n",
              "      <td>-0.941432</td>\n",
              "      <td>1</td>\n",
              "      <td>-0.531850</td>\n",
              "      <td>-0.766450</td>\n",
              "      <td>-0.868937</td>\n",
              "      <td>1.095512</td>\n",
              "      <td>1</td>\n",
              "      <td>2</td>\n",
              "      <td>1</td>\n",
              "    </tr>\n",
              "    <tr>\n",
              "      <th>2</th>\n",
              "      <td>0.413710</td>\n",
              "      <td>0</td>\n",
              "      <td>0.661316</td>\n",
              "      <td>0.892835</td>\n",
              "      <td>1.629848</td>\n",
              "      <td>0.020438</td>\n",
              "      <td>1</td>\n",
              "      <td>3</td>\n",
              "      <td>0</td>\n",
              "    </tr>\n",
              "    <tr>\n",
              "      <th>3</th>\n",
              "      <td>-1.153307</td>\n",
              "      <td>0</td>\n",
              "      <td>-0.981416</td>\n",
              "      <td>1.366916</td>\n",
              "      <td>0.226697</td>\n",
              "      <td>1.095512</td>\n",
              "      <td>1</td>\n",
              "      <td>2</td>\n",
              "      <td>1</td>\n",
              "    </tr>\n",
              "    <tr>\n",
              "      <th>4</th>\n",
              "      <td>0.198608</td>\n",
              "      <td>1</td>\n",
              "      <td>1.032540</td>\n",
              "      <td>-0.766450</td>\n",
              "      <td>1.508110</td>\n",
              "      <td>-1.532446</td>\n",
              "      <td>1</td>\n",
              "      <td>3</td>\n",
              "      <td>3</td>\n",
              "    </tr>\n",
              "  </tbody>\n",
              "</table>\n",
              "</div>\n",
              "      <button class=\"colab-df-convert\" onclick=\"convertToInteractive('df-a3786f98-ee73-4739-bd2f-952c1058d0a9')\"\n",
              "              title=\"Convert this dataframe to an interactive table.\"\n",
              "              style=\"display:none;\">\n",
              "        \n",
              "  <svg xmlns=\"http://www.w3.org/2000/svg\" height=\"24px\"viewBox=\"0 0 24 24\"\n",
              "       width=\"24px\">\n",
              "    <path d=\"M0 0h24v24H0V0z\" fill=\"none\"/>\n",
              "    <path d=\"M18.56 5.44l.94 2.06.94-2.06 2.06-.94-2.06-.94-.94-2.06-.94 2.06-2.06.94zm-11 1L8.5 8.5l.94-2.06 2.06-.94-2.06-.94L8.5 2.5l-.94 2.06-2.06.94zm10 10l.94 2.06.94-2.06 2.06-.94-2.06-.94-.94-2.06-.94 2.06-2.06.94z\"/><path d=\"M17.41 7.96l-1.37-1.37c-.4-.4-.92-.59-1.43-.59-.52 0-1.04.2-1.43.59L10.3 9.45l-7.72 7.72c-.78.78-.78 2.05 0 2.83L4 21.41c.39.39.9.59 1.41.59.51 0 1.02-.2 1.41-.59l7.78-7.78 2.81-2.81c.8-.78.8-2.07 0-2.86zM5.41 20L4 18.59l7.72-7.72 1.47 1.35L5.41 20z\"/>\n",
              "  </svg>\n",
              "      </button>\n",
              "      \n",
              "  <style>\n",
              "    .colab-df-container {\n",
              "      display:flex;\n",
              "      flex-wrap:wrap;\n",
              "      gap: 12px;\n",
              "    }\n",
              "\n",
              "    .colab-df-convert {\n",
              "      background-color: #E8F0FE;\n",
              "      border: none;\n",
              "      border-radius: 50%;\n",
              "      cursor: pointer;\n",
              "      display: none;\n",
              "      fill: #1967D2;\n",
              "      height: 32px;\n",
              "      padding: 0 0 0 0;\n",
              "      width: 32px;\n",
              "    }\n",
              "\n",
              "    .colab-df-convert:hover {\n",
              "      background-color: #E2EBFA;\n",
              "      box-shadow: 0px 1px 2px rgba(60, 64, 67, 0.3), 0px 1px 3px 1px rgba(60, 64, 67, 0.15);\n",
              "      fill: #174EA6;\n",
              "    }\n",
              "\n",
              "    [theme=dark] .colab-df-convert {\n",
              "      background-color: #3B4455;\n",
              "      fill: #D2E3FC;\n",
              "    }\n",
              "\n",
              "    [theme=dark] .colab-df-convert:hover {\n",
              "      background-color: #434B5C;\n",
              "      box-shadow: 0px 1px 3px 1px rgba(0, 0, 0, 0.15);\n",
              "      filter: drop-shadow(0px 1px 2px rgba(0, 0, 0, 0.3));\n",
              "      fill: #FFFFFF;\n",
              "    }\n",
              "  </style>\n",
              "\n",
              "      <script>\n",
              "        const buttonEl =\n",
              "          document.querySelector('#df-a3786f98-ee73-4739-bd2f-952c1058d0a9 button.colab-df-convert');\n",
              "        buttonEl.style.display =\n",
              "          google.colab.kernel.accessAllowed ? 'block' : 'none';\n",
              "\n",
              "        async function convertToInteractive(key) {\n",
              "          const element = document.querySelector('#df-a3786f98-ee73-4739-bd2f-952c1058d0a9');\n",
              "          const dataTable =\n",
              "            await google.colab.kernel.invokeFunction('convertToInteractive',\n",
              "                                                     [key], {});\n",
              "          if (!dataTable) return;\n",
              "\n",
              "          const docLinkHtml = 'Like what you see? Visit the ' +\n",
              "            '<a target=\"_blank\" href=https://colab.research.google.com/notebooks/data_table.ipynb>data table notebook</a>'\n",
              "            + ' to learn more about interactive tables.';\n",
              "          element.innerHTML = '';\n",
              "          dataTable['output_type'] = 'display_data';\n",
              "          await google.colab.output.renderOutput(dataTable, element);\n",
              "          const docLink = document.createElement('div');\n",
              "          docLink.innerHTML = docLinkHtml;\n",
              "          element.appendChild(docLink);\n",
              "        }\n",
              "      </script>\n",
              "    </div>\n",
              "  </div>\n",
              "  "
            ]
          },
          "metadata": {},
          "execution_count": 247
        }
      ]
    },
    {
      "cell_type": "markdown",
      "source": [
        "# **X and Y splitting**"
      ],
      "metadata": {
        "id": "wuoEeYCR1KYz"
      }
    },
    {
      "cell_type": "code",
      "source": [
        "X=train.drop('Item_Outlet_Sales',axis=1)\n",
        "Y=train['Item_Outlet_Sales']"
      ],
      "metadata": {
        "id": "6MzfOaqdptrf"
      },
      "execution_count": 248,
      "outputs": []
    },
    {
      "cell_type": "code",
      "source": [
        "X.head()"
      ],
      "metadata": {
        "id": "bOgXOHpjy5Jt",
        "outputId": "844a5882-c169-4a43-f4b0-fee75fe5a61e",
        "colab": {
          "base_uri": "https://localhost:8080/",
          "height": 270
        }
      },
      "execution_count": 249,
      "outputs": [
        {
          "output_type": "execute_result",
          "data": {
            "text/plain": [
              "   Item_Weight  Item_Fat_Content  Item_Visibility  Item_Type  Item_MRP  \\\n",
              "0    -0.769779                 0        -0.970732  -0.766479  1.747454   \n",
              "1    -1.497485                 1        -0.908111   1.608963 -1.489023   \n",
              "2     0.995661                 0        -0.956917   0.658786  0.010040   \n",
              "3     1.361666                 1        -1.281758  -0.291391  0.660050   \n",
              "4    -0.849439                 0        -1.281758   0.421242 -1.399220   \n",
              "\n",
              "   Outlet_Establishment_Year  Outlet_Size  Outlet_Location_Type  Outlet_Type  \n",
              "0                   0.139541            1                     1            1  \n",
              "1                   1.334103            1                     3            2  \n",
              "2                   0.139541            1                     1            1  \n",
              "3                   0.020085            1                     3            0  \n",
              "4                  -1.293934            2                     3            1  "
            ],
            "text/html": [
              "\n",
              "  <div id=\"df-8064b3ec-c72f-485f-a1f6-c6babb3f2e31\">\n",
              "    <div class=\"colab-df-container\">\n",
              "      <div>\n",
              "<style scoped>\n",
              "    .dataframe tbody tr th:only-of-type {\n",
              "        vertical-align: middle;\n",
              "    }\n",
              "\n",
              "    .dataframe tbody tr th {\n",
              "        vertical-align: top;\n",
              "    }\n",
              "\n",
              "    .dataframe thead th {\n",
              "        text-align: right;\n",
              "    }\n",
              "</style>\n",
              "<table border=\"1\" class=\"dataframe\">\n",
              "  <thead>\n",
              "    <tr style=\"text-align: right;\">\n",
              "      <th></th>\n",
              "      <th>Item_Weight</th>\n",
              "      <th>Item_Fat_Content</th>\n",
              "      <th>Item_Visibility</th>\n",
              "      <th>Item_Type</th>\n",
              "      <th>Item_MRP</th>\n",
              "      <th>Outlet_Establishment_Year</th>\n",
              "      <th>Outlet_Size</th>\n",
              "      <th>Outlet_Location_Type</th>\n",
              "      <th>Outlet_Type</th>\n",
              "    </tr>\n",
              "  </thead>\n",
              "  <tbody>\n",
              "    <tr>\n",
              "      <th>0</th>\n",
              "      <td>-0.769779</td>\n",
              "      <td>0</td>\n",
              "      <td>-0.970732</td>\n",
              "      <td>-0.766479</td>\n",
              "      <td>1.747454</td>\n",
              "      <td>0.139541</td>\n",
              "      <td>1</td>\n",
              "      <td>1</td>\n",
              "      <td>1</td>\n",
              "    </tr>\n",
              "    <tr>\n",
              "      <th>1</th>\n",
              "      <td>-1.497485</td>\n",
              "      <td>1</td>\n",
              "      <td>-0.908111</td>\n",
              "      <td>1.608963</td>\n",
              "      <td>-1.489023</td>\n",
              "      <td>1.334103</td>\n",
              "      <td>1</td>\n",
              "      <td>3</td>\n",
              "      <td>2</td>\n",
              "    </tr>\n",
              "    <tr>\n",
              "      <th>2</th>\n",
              "      <td>0.995661</td>\n",
              "      <td>0</td>\n",
              "      <td>-0.956917</td>\n",
              "      <td>0.658786</td>\n",
              "      <td>0.010040</td>\n",
              "      <td>0.139541</td>\n",
              "      <td>1</td>\n",
              "      <td>1</td>\n",
              "      <td>1</td>\n",
              "    </tr>\n",
              "    <tr>\n",
              "      <th>3</th>\n",
              "      <td>1.361666</td>\n",
              "      <td>1</td>\n",
              "      <td>-1.281758</td>\n",
              "      <td>-0.291391</td>\n",
              "      <td>0.660050</td>\n",
              "      <td>0.020085</td>\n",
              "      <td>1</td>\n",
              "      <td>3</td>\n",
              "      <td>0</td>\n",
              "    </tr>\n",
              "    <tr>\n",
              "      <th>4</th>\n",
              "      <td>-0.849439</td>\n",
              "      <td>0</td>\n",
              "      <td>-1.281758</td>\n",
              "      <td>0.421242</td>\n",
              "      <td>-1.399220</td>\n",
              "      <td>-1.293934</td>\n",
              "      <td>2</td>\n",
              "      <td>3</td>\n",
              "      <td>1</td>\n",
              "    </tr>\n",
              "  </tbody>\n",
              "</table>\n",
              "</div>\n",
              "      <button class=\"colab-df-convert\" onclick=\"convertToInteractive('df-8064b3ec-c72f-485f-a1f6-c6babb3f2e31')\"\n",
              "              title=\"Convert this dataframe to an interactive table.\"\n",
              "              style=\"display:none;\">\n",
              "        \n",
              "  <svg xmlns=\"http://www.w3.org/2000/svg\" height=\"24px\"viewBox=\"0 0 24 24\"\n",
              "       width=\"24px\">\n",
              "    <path d=\"M0 0h24v24H0V0z\" fill=\"none\"/>\n",
              "    <path d=\"M18.56 5.44l.94 2.06.94-2.06 2.06-.94-2.06-.94-.94-2.06-.94 2.06-2.06.94zm-11 1L8.5 8.5l.94-2.06 2.06-.94-2.06-.94L8.5 2.5l-.94 2.06-2.06.94zm10 10l.94 2.06.94-2.06 2.06-.94-2.06-.94-.94-2.06-.94 2.06-2.06.94z\"/><path d=\"M17.41 7.96l-1.37-1.37c-.4-.4-.92-.59-1.43-.59-.52 0-1.04.2-1.43.59L10.3 9.45l-7.72 7.72c-.78.78-.78 2.05 0 2.83L4 21.41c.39.39.9.59 1.41.59.51 0 1.02-.2 1.41-.59l7.78-7.78 2.81-2.81c.8-.78.8-2.07 0-2.86zM5.41 20L4 18.59l7.72-7.72 1.47 1.35L5.41 20z\"/>\n",
              "  </svg>\n",
              "      </button>\n",
              "      \n",
              "  <style>\n",
              "    .colab-df-container {\n",
              "      display:flex;\n",
              "      flex-wrap:wrap;\n",
              "      gap: 12px;\n",
              "    }\n",
              "\n",
              "    .colab-df-convert {\n",
              "      background-color: #E8F0FE;\n",
              "      border: none;\n",
              "      border-radius: 50%;\n",
              "      cursor: pointer;\n",
              "      display: none;\n",
              "      fill: #1967D2;\n",
              "      height: 32px;\n",
              "      padding: 0 0 0 0;\n",
              "      width: 32px;\n",
              "    }\n",
              "\n",
              "    .colab-df-convert:hover {\n",
              "      background-color: #E2EBFA;\n",
              "      box-shadow: 0px 1px 2px rgba(60, 64, 67, 0.3), 0px 1px 3px 1px rgba(60, 64, 67, 0.15);\n",
              "      fill: #174EA6;\n",
              "    }\n",
              "\n",
              "    [theme=dark] .colab-df-convert {\n",
              "      background-color: #3B4455;\n",
              "      fill: #D2E3FC;\n",
              "    }\n",
              "\n",
              "    [theme=dark] .colab-df-convert:hover {\n",
              "      background-color: #434B5C;\n",
              "      box-shadow: 0px 1px 3px 1px rgba(0, 0, 0, 0.15);\n",
              "      filter: drop-shadow(0px 1px 2px rgba(0, 0, 0, 0.3));\n",
              "      fill: #FFFFFF;\n",
              "    }\n",
              "  </style>\n",
              "\n",
              "      <script>\n",
              "        const buttonEl =\n",
              "          document.querySelector('#df-8064b3ec-c72f-485f-a1f6-c6babb3f2e31 button.colab-df-convert');\n",
              "        buttonEl.style.display =\n",
              "          google.colab.kernel.accessAllowed ? 'block' : 'none';\n",
              "\n",
              "        async function convertToInteractive(key) {\n",
              "          const element = document.querySelector('#df-8064b3ec-c72f-485f-a1f6-c6babb3f2e31');\n",
              "          const dataTable =\n",
              "            await google.colab.kernel.invokeFunction('convertToInteractive',\n",
              "                                                     [key], {});\n",
              "          if (!dataTable) return;\n",
              "\n",
              "          const docLinkHtml = 'Like what you see? Visit the ' +\n",
              "            '<a target=\"_blank\" href=https://colab.research.google.com/notebooks/data_table.ipynb>data table notebook</a>'\n",
              "            + ' to learn more about interactive tables.';\n",
              "          element.innerHTML = '';\n",
              "          dataTable['output_type'] = 'display_data';\n",
              "          await google.colab.output.renderOutput(dataTable, element);\n",
              "          const docLink = document.createElement('div');\n",
              "          docLink.innerHTML = docLinkHtml;\n",
              "          element.appendChild(docLink);\n",
              "        }\n",
              "      </script>\n",
              "    </div>\n",
              "  </div>\n",
              "  "
            ]
          },
          "metadata": {},
          "execution_count": 249
        }
      ]
    },
    {
      "cell_type": "code",
      "source": [
        "Y.head()"
      ],
      "metadata": {
        "id": "S0o9QGhP1c22",
        "outputId": "fbe276d8-56cd-4bb8-e091-651d5e801f64",
        "colab": {
          "base_uri": "https://localhost:8080/"
        }
      },
      "execution_count": 250,
      "outputs": [
        {
          "output_type": "execute_result",
          "data": {
            "text/plain": [
              "0    3735.1380\n",
              "1     443.4228\n",
              "2    2097.2700\n",
              "3     732.3800\n",
              "4     994.7052\n",
              "Name: Item_Outlet_Sales, dtype: float64"
            ]
          },
          "metadata": {},
          "execution_count": 250
        }
      ]
    },
    {
      "cell_type": "code",
      "source": [
        "from sklearn.model_selection import train_test_split\n",
        "X_train, X_test, y_train, y_test = train_test_split(X, Y, test_size=0.25)"
      ],
      "metadata": {
        "id": "YtRqq38N4Py2"
      },
      "execution_count": 251,
      "outputs": []
    },
    {
      "cell_type": "code",
      "source": [
        "from sklearn.linear_model import LinearRegression\n",
        "lr = LinearRegression()\n",
        "lr.fit(X_train, y_train)\n",
        "y_pred = lr.predict(X_test)\n",
        "from sklearn import metrics\n",
        "print('MSE:', metrics.mean_squared_error(y_test, y_pred))"
      ],
      "metadata": {
        "colab": {
          "base_uri": "https://localhost:8080/"
        },
        "id": "l2cb9CUr4QJF",
        "outputId": "f5be07e4-fff5-40eb-d1d9-33d7091a5b5b"
      },
      "execution_count": 252,
      "outputs": [
        {
          "output_type": "stream",
          "name": "stdout",
          "text": [
            "MSE: 1464548.4426692263\n"
          ]
        }
      ]
    },
    {
      "cell_type": "code",
      "source": [
        "from sklearn.ensemble import RandomForestRegressor\n",
        "rf = RandomForestRegressor(n_estimators=150,random_state=42)\n",
        "rf.fit(X_train, y_train)\n",
        "y_pred_rf = rf.predict(X_test)\n",
        "\n",
        "print('MSE:', metrics.mean_squared_error(y_test, y_pred))"
      ],
      "metadata": {
        "colab": {
          "base_uri": "https://localhost:8080/"
        },
        "id": "IgL4ITix4z_j",
        "outputId": "467b2cc1-cbc1-4392-c655-d2572d86ea88"
      },
      "execution_count": 253,
      "outputs": [
        {
          "output_type": "stream",
          "name": "stdout",
          "text": [
            "MSE: 1464548.4426692263\n"
          ]
        }
      ]
    },
    {
      "cell_type": "code",
      "source": [
        "space = {\n",
        "    'max_depth': hp.choice('max_depth',[5, 10, 15, 20, 25, 30, 35, 40, 45, 50]),\n",
        "    'n_estimators': hp.choice('n_estimators',[100,150,200,250,400,500]),\n",
        "    'min_samples_leaf': hp.choice('min_samples_leaf', [2,3,4,5]),\n",
        "    'min_samples_split':hp.choice('min_samples_split',[1,2,3,4,5,6]),\n",
        "    }"
      ],
      "metadata": {
        "id": "pA6z_rfo59yj"
      },
      "execution_count": 254,
      "outputs": []
    },
    {
      "cell_type": "code",
      "source": [
        "from hyperopt import tpe, hp, fmin, STATUS_OK,Trials\n",
        "from sklearn.model_selection import cross_val_score\n",
        "from sklearn.metrics import mean_squared_error\n",
        "\n",
        "def hyperparameter_tuning(params):\n",
        "    clf = RandomForestRegressor(**params,n_jobs=-1)\n",
        "    acc = mean_squared_error(y_test, y_pred_rf).mean()\n",
        "    return {\"loss\": -acc, \"status\": STATUS_OK}\n",
        "    "
      ],
      "metadata": {
        "id": "0kbqCLNG68ln"
      },
      "execution_count": 255,
      "outputs": []
    },
    {
      "cell_type": "code",
      "source": [
        "trials = Trials()\n",
        "\n",
        "best = fmin(\n",
        "    fn=hyperparameter_tuning,\n",
        "    space = space, \n",
        "    algo=tpe.suggest, \n",
        "    max_evals=100, \n",
        "    trials=trials\n",
        ")\n",
        "\n",
        "print(\"Best: {}\".format(best))"
      ],
      "metadata": {
        "colab": {
          "base_uri": "https://localhost:8080/"
        },
        "id": "zqqAMOB27YRG",
        "outputId": "edeaa18d-4fc8-4857-f309-d1fb983f1aff"
      },
      "execution_count": 259,
      "outputs": [
        {
          "output_type": "stream",
          "name": "stdout",
          "text": [
            "100%|██████████| 100/100 [00:00<00:00, 127.94it/s, best loss: -1224073.2541023332]\n",
            "Best: {'max_depth': 2, 'min_samples_leaf': 1, 'min_samples_split': 5, 'n_estimators': 3}\n"
          ]
        }
      ]
    },
    {
      "cell_type": "code",
      "source": [
        "rf1 = RandomForestRegressor(max_depth=2, min_samples_leaf=1, min_samples_split=5, n_estimators=3, random_state=42)\n",
        "rf1.fit(X_train, y_train)\n",
        "y_pred_rf1 = rf1.predict(X_test)\n",
        "\n",
        "mse = metrics.mean_squared_error(y_test, y_pred)\n",
        "print(mse)"
      ],
      "metadata": {
        "colab": {
          "base_uri": "https://localhost:8080/"
        },
        "id": "b_r69ffb82j_",
        "outputId": "40bd2642-e9d6-4b9f-dd1e-525d2fce1866"
      },
      "execution_count": 260,
      "outputs": [
        {
          "output_type": "stream",
          "name": "stdout",
          "text": [
            "1464548.4426692263\n"
          ]
        }
      ]
    },
    {
      "cell_type": "code",
      "source": [
        "y_pred_rf_eval= rf1.predict(eval)\n",
        "y_pred_rf_eval"
      ],
      "metadata": {
        "colab": {
          "base_uri": "https://localhost:8080/"
        },
        "id": "_yl7VcLL93ro",
        "outputId": "e5eea382-497f-4757-a13a-009fd483aad7"
      },
      "execution_count": 261,
      "outputs": [
        {
          "output_type": "execute_result",
          "data": {
            "text/plain": [
              "array([1580.24506734, 1580.24506734,  469.87561795, ..., 1580.24506734,\n",
              "       3310.98394237, 1580.24506734])"
            ]
          },
          "metadata": {},
          "execution_count": 261
        }
      ]
    },
    {
      "cell_type": "code",
      "source": [
        "eval1=pd.read_csv('/content/test_AbJTz2l.csv')"
      ],
      "metadata": {
        "id": "4aY5pIg5GMRj"
      },
      "execution_count": 262,
      "outputs": []
    },
    {
      "cell_type": "code",
      "source": [
        "output = pd.DataFrame()\n",
        "output[['Item_Identifier','Outlet_Identifier']] = eval1[['Item_Identifier','Outlet_Identifier']]\n",
        "output['Item_Outlet_Sales'] = abs(y_pred_rf_eval)\n",
        "output"
      ],
      "metadata": {
        "colab": {
          "base_uri": "https://localhost:8080/",
          "height": 424
        },
        "id": "s1iSKtb7Elms",
        "outputId": "0aaa9064-311d-47c0-f4d7-2ec30aac7ce5"
      },
      "execution_count": 265,
      "outputs": [
        {
          "output_type": "execute_result",
          "data": {
            "text/plain": [
              "     Item_Identifier Outlet_Identifier  Item_Outlet_Sales\n",
              "0              FDW58            OUT049        1580.245067\n",
              "1              FDW14            OUT017        1580.245067\n",
              "2              NCN55            OUT010         469.875618\n",
              "3              FDQ58            OUT017        3310.983942\n",
              "4              FDY38            OUT027        3310.983942\n",
              "...              ...               ...                ...\n",
              "5676           FDB58            OUT046        1580.245067\n",
              "5677           FDD47            OUT018        3310.983942\n",
              "5678           NCO17            OUT045        1580.245067\n",
              "5679           FDJ26            OUT017        3310.983942\n",
              "5680           FDU37            OUT045        1580.245067\n",
              "\n",
              "[5681 rows x 3 columns]"
            ],
            "text/html": [
              "\n",
              "  <div id=\"df-6338c4ce-7eca-4e21-864c-077de4bc007f\">\n",
              "    <div class=\"colab-df-container\">\n",
              "      <div>\n",
              "<style scoped>\n",
              "    .dataframe tbody tr th:only-of-type {\n",
              "        vertical-align: middle;\n",
              "    }\n",
              "\n",
              "    .dataframe tbody tr th {\n",
              "        vertical-align: top;\n",
              "    }\n",
              "\n",
              "    .dataframe thead th {\n",
              "        text-align: right;\n",
              "    }\n",
              "</style>\n",
              "<table border=\"1\" class=\"dataframe\">\n",
              "  <thead>\n",
              "    <tr style=\"text-align: right;\">\n",
              "      <th></th>\n",
              "      <th>Item_Identifier</th>\n",
              "      <th>Outlet_Identifier</th>\n",
              "      <th>Item_Outlet_Sales</th>\n",
              "    </tr>\n",
              "  </thead>\n",
              "  <tbody>\n",
              "    <tr>\n",
              "      <th>0</th>\n",
              "      <td>FDW58</td>\n",
              "      <td>OUT049</td>\n",
              "      <td>1580.245067</td>\n",
              "    </tr>\n",
              "    <tr>\n",
              "      <th>1</th>\n",
              "      <td>FDW14</td>\n",
              "      <td>OUT017</td>\n",
              "      <td>1580.245067</td>\n",
              "    </tr>\n",
              "    <tr>\n",
              "      <th>2</th>\n",
              "      <td>NCN55</td>\n",
              "      <td>OUT010</td>\n",
              "      <td>469.875618</td>\n",
              "    </tr>\n",
              "    <tr>\n",
              "      <th>3</th>\n",
              "      <td>FDQ58</td>\n",
              "      <td>OUT017</td>\n",
              "      <td>3310.983942</td>\n",
              "    </tr>\n",
              "    <tr>\n",
              "      <th>4</th>\n",
              "      <td>FDY38</td>\n",
              "      <td>OUT027</td>\n",
              "      <td>3310.983942</td>\n",
              "    </tr>\n",
              "    <tr>\n",
              "      <th>...</th>\n",
              "      <td>...</td>\n",
              "      <td>...</td>\n",
              "      <td>...</td>\n",
              "    </tr>\n",
              "    <tr>\n",
              "      <th>5676</th>\n",
              "      <td>FDB58</td>\n",
              "      <td>OUT046</td>\n",
              "      <td>1580.245067</td>\n",
              "    </tr>\n",
              "    <tr>\n",
              "      <th>5677</th>\n",
              "      <td>FDD47</td>\n",
              "      <td>OUT018</td>\n",
              "      <td>3310.983942</td>\n",
              "    </tr>\n",
              "    <tr>\n",
              "      <th>5678</th>\n",
              "      <td>NCO17</td>\n",
              "      <td>OUT045</td>\n",
              "      <td>1580.245067</td>\n",
              "    </tr>\n",
              "    <tr>\n",
              "      <th>5679</th>\n",
              "      <td>FDJ26</td>\n",
              "      <td>OUT017</td>\n",
              "      <td>3310.983942</td>\n",
              "    </tr>\n",
              "    <tr>\n",
              "      <th>5680</th>\n",
              "      <td>FDU37</td>\n",
              "      <td>OUT045</td>\n",
              "      <td>1580.245067</td>\n",
              "    </tr>\n",
              "  </tbody>\n",
              "</table>\n",
              "<p>5681 rows × 3 columns</p>\n",
              "</div>\n",
              "      <button class=\"colab-df-convert\" onclick=\"convertToInteractive('df-6338c4ce-7eca-4e21-864c-077de4bc007f')\"\n",
              "              title=\"Convert this dataframe to an interactive table.\"\n",
              "              style=\"display:none;\">\n",
              "        \n",
              "  <svg xmlns=\"http://www.w3.org/2000/svg\" height=\"24px\"viewBox=\"0 0 24 24\"\n",
              "       width=\"24px\">\n",
              "    <path d=\"M0 0h24v24H0V0z\" fill=\"none\"/>\n",
              "    <path d=\"M18.56 5.44l.94 2.06.94-2.06 2.06-.94-2.06-.94-.94-2.06-.94 2.06-2.06.94zm-11 1L8.5 8.5l.94-2.06 2.06-.94-2.06-.94L8.5 2.5l-.94 2.06-2.06.94zm10 10l.94 2.06.94-2.06 2.06-.94-2.06-.94-.94-2.06-.94 2.06-2.06.94z\"/><path d=\"M17.41 7.96l-1.37-1.37c-.4-.4-.92-.59-1.43-.59-.52 0-1.04.2-1.43.59L10.3 9.45l-7.72 7.72c-.78.78-.78 2.05 0 2.83L4 21.41c.39.39.9.59 1.41.59.51 0 1.02-.2 1.41-.59l7.78-7.78 2.81-2.81c.8-.78.8-2.07 0-2.86zM5.41 20L4 18.59l7.72-7.72 1.47 1.35L5.41 20z\"/>\n",
              "  </svg>\n",
              "      </button>\n",
              "      \n",
              "  <style>\n",
              "    .colab-df-container {\n",
              "      display:flex;\n",
              "      flex-wrap:wrap;\n",
              "      gap: 12px;\n",
              "    }\n",
              "\n",
              "    .colab-df-convert {\n",
              "      background-color: #E8F0FE;\n",
              "      border: none;\n",
              "      border-radius: 50%;\n",
              "      cursor: pointer;\n",
              "      display: none;\n",
              "      fill: #1967D2;\n",
              "      height: 32px;\n",
              "      padding: 0 0 0 0;\n",
              "      width: 32px;\n",
              "    }\n",
              "\n",
              "    .colab-df-convert:hover {\n",
              "      background-color: #E2EBFA;\n",
              "      box-shadow: 0px 1px 2px rgba(60, 64, 67, 0.3), 0px 1px 3px 1px rgba(60, 64, 67, 0.15);\n",
              "      fill: #174EA6;\n",
              "    }\n",
              "\n",
              "    [theme=dark] .colab-df-convert {\n",
              "      background-color: #3B4455;\n",
              "      fill: #D2E3FC;\n",
              "    }\n",
              "\n",
              "    [theme=dark] .colab-df-convert:hover {\n",
              "      background-color: #434B5C;\n",
              "      box-shadow: 0px 1px 3px 1px rgba(0, 0, 0, 0.15);\n",
              "      filter: drop-shadow(0px 1px 2px rgba(0, 0, 0, 0.3));\n",
              "      fill: #FFFFFF;\n",
              "    }\n",
              "  </style>\n",
              "\n",
              "      <script>\n",
              "        const buttonEl =\n",
              "          document.querySelector('#df-6338c4ce-7eca-4e21-864c-077de4bc007f button.colab-df-convert');\n",
              "        buttonEl.style.display =\n",
              "          google.colab.kernel.accessAllowed ? 'block' : 'none';\n",
              "\n",
              "        async function convertToInteractive(key) {\n",
              "          const element = document.querySelector('#df-6338c4ce-7eca-4e21-864c-077de4bc007f');\n",
              "          const dataTable =\n",
              "            await google.colab.kernel.invokeFunction('convertToInteractive',\n",
              "                                                     [key], {});\n",
              "          if (!dataTable) return;\n",
              "\n",
              "          const docLinkHtml = 'Like what you see? Visit the ' +\n",
              "            '<a target=\"_blank\" href=https://colab.research.google.com/notebooks/data_table.ipynb>data table notebook</a>'\n",
              "            + ' to learn more about interactive tables.';\n",
              "          element.innerHTML = '';\n",
              "          dataTable['output_type'] = 'display_data';\n",
              "          await google.colab.output.renderOutput(dataTable, element);\n",
              "          const docLink = document.createElement('div');\n",
              "          docLink.innerHTML = docLinkHtml;\n",
              "          element.appendChild(docLink);\n",
              "        }\n",
              "      </script>\n",
              "    </div>\n",
              "  </div>\n",
              "  "
            ]
          },
          "metadata": {},
          "execution_count": 265
        }
      ]
    },
    {
      "cell_type": "code",
      "source": [
        "output.to_csv('output.csv',index = False)"
      ],
      "metadata": {
        "id": "AjvL2pryHWjH"
      },
      "execution_count": 268,
      "outputs": []
    },
    {
      "cell_type": "code",
      "source": [],
      "metadata": {
        "id": "qidoUD2iHb1v"
      },
      "execution_count": null,
      "outputs": []
    }
  ]
}